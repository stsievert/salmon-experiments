{
 "cells": [
  {
   "cell_type": "code",
   "execution_count": 1,
   "id": "6a260488-72ec-4a22-8ec4-f0328234d900",
   "metadata": {},
   "outputs": [],
   "source": [
    "import pandas as pd\n",
    "from typing import Dict, Any, Union, Optional\n",
    "import json"
   ]
  },
  {
   "cell_type": "code",
   "execution_count": 2,
   "id": "fa1e7191-2e40-4887-95a0-ae39fbf1810c",
   "metadata": {},
   "outputs": [],
   "source": [
    "def _flatten_query(q: Dict[str, Any]) -> Optional[Dict[str, int]]:\n",
    "    if \"index_winner\" not in q:\n",
    "        return None\n",
    "    sent = {\n",
    "        d[\"label\"] if d[\"label\"] != \"center\" else \"head\": d[\"index\"]\n",
    "        for d in q[\"target_indices\"]\n",
    "    }\n",
    "    t = q[\"timestamp_query_generated\"]\n",
    "    dt = q[\"response_time\"]\n",
    "    label = q[\"alg_label\"]\n",
    "    return {\n",
    "        \"winner\": q[\"index_winner\"],\n",
    "        \"alg\": label,\n",
    "        \"response_time\": dt,\n",
    "        \"puid\": q[\"participant_uid\"].split(\"_\")[-1],\n",
    "        **sent,\n",
    "    }\n",
    "\n",
    "\n",
    "import zipfile\n",
    "def _munge(fname: str) -> pd.DataFrame:\n",
    "    if \"zip\" in fname:\n",
    "        with zipfile.ZipFile(fname) as zf:\n",
    "            assert len(zf.filelist) == 1, \"Only specify one file in zip file\"\n",
    "            fname = zf.filelist[0]\n",
    "            raw = json.loads(zf.read(fname))\n",
    "    else:\n",
    "        with open(fname, \"r\") as f:\n",
    "            raw = json.load(f)\n",
    "\n",
    "    assert raw.pop(\"meta\") == {\"status\": \"OK\", \"code\": 200}\n",
    "    assert len(raw) == 1\n",
    "    rare = raw[\"participant_responses\"]\n",
    "    for k, v in rare.items():\n",
    "        for vi in v:\n",
    "            vi[\"puid\"] = k\n",
    "    mrare = sum(rare.values(), [])\n",
    "    medium = [_flatten_query(d) for d in mrare]\n",
    "    mwell = [m for m in medium if m]\n",
    "    df = pd.DataFrame(mwell)\n",
    "    cols = [\"head\", \"left\", \"right\", \"winner\", \"alg\", \"response_time\", \"puid\"]\n",
    "    assert set(df.columns) == set(cols)\n",
    "    df[\"loser\"] = df[[\"head\", \"left\", \"right\", \"winner\"]].apply(\n",
    "        lambda r: r[\"left\"] if r[\"winner\"] == r[\"right\"] else r[\"right\"], axis=1\n",
    "    )\n",
    "    return df[cols + [\"loser\"]]"
   ]
  },
  {
   "cell_type": "code",
   "execution_count": 3,
   "id": "cce71330-95c7-4b78-aa04-12b37c388e23",
   "metadata": {},
   "outputs": [],
   "source": [
    "fnames = [\n",
    "    (0, \"i0126.png\"), (1, \"i0208.png\"), (2, \"i0076.png\"), (3, \"i0326.png\"),\n",
    "    (4, \"i0526.png\"), (5, \"i0322.png\"), (6, \"i0312.png\"), (7, \"i0036.png\"),\n",
    "    (8, \"i0414.png\"), (9, \"i0256.png\"), (10, \"i0074.png\"), (11, \"i0050.png\"),\n",
    "    (12, \"i0470.png\"), (13, \"i0022.png\"), (14, \"i0430.png\"), (15, \"i0254.png\"),\n",
    "    (16, \"i0572.png\"), (17, \"i0200.png\"), (18, \"i0524.png\"), (19, \"i0220.png\"),\n",
    "    (20, \"i0438.png\"), (21, \"i0454.png\"), (22, \"i0112.png\"), (23, \"i0494.png\"),\n",
    "    (24, \"i0194.png\"), (25, \"i0152.png\"), (26, \"i0420.png\"), (27, \"i0142.png\"),\n",
    "    (28, \"i0114.png\"), (29, \"i0184.png\"),\n",
    "]\n",
    "smoothness = {idx: int(target.strip(\"i.png\")) for idx, target in fnames}"
   ]
  },
  {
   "cell_type": "code",
   "execution_count": 4,
   "id": "e262f73f-260a-4048-ab5f-fbf17029a588",
   "metadata": {},
   "outputs": [
    {
     "data": {
      "text/html": [
       "<div>\n",
       "<style scoped>\n",
       "    .dataframe tbody tr th:only-of-type {\n",
       "        vertical-align: middle;\n",
       "    }\n",
       "\n",
       "    .dataframe tbody tr th {\n",
       "        vertical-align: top;\n",
       "    }\n",
       "\n",
       "    .dataframe thead th {\n",
       "        text-align: right;\n",
       "    }\n",
       "</style>\n",
       "<table border=\"1\" class=\"dataframe\">\n",
       "  <thead>\n",
       "    <tr style=\"text-align: right;\">\n",
       "      <th></th>\n",
       "      <th>head</th>\n",
       "      <th>left</th>\n",
       "      <th>right</th>\n",
       "      <th>winner</th>\n",
       "      <th>alg</th>\n",
       "      <th>response_time</th>\n",
       "      <th>puid</th>\n",
       "      <th>loser</th>\n",
       "      <th>head_x</th>\n",
       "      <th>left_x</th>\n",
       "      <th>right_x</th>\n",
       "      <th>winner_x</th>\n",
       "      <th>loser_x</th>\n",
       "    </tr>\n",
       "  </thead>\n",
       "  <tbody>\n",
       "    <tr>\n",
       "      <th>0</th>\n",
       "      <td>11</td>\n",
       "      <td>15</td>\n",
       "      <td>28</td>\n",
       "      <td>28</td>\n",
       "      <td>RandomSampling</td>\n",
       "      <td>7.262</td>\n",
       "      <td>7yKPDsCJpBfI2oiKWVMk48pWJ851po</td>\n",
       "      <td>15</td>\n",
       "      <td>50</td>\n",
       "      <td>254</td>\n",
       "      <td>114</td>\n",
       "      <td>114</td>\n",
       "      <td>254</td>\n",
       "    </tr>\n",
       "    <tr>\n",
       "      <th>4</th>\n",
       "      <td>9</td>\n",
       "      <td>15</td>\n",
       "      <td>25</td>\n",
       "      <td>25</td>\n",
       "      <td>RandomSampling</td>\n",
       "      <td>1.742</td>\n",
       "      <td>7yKPDsCJpBfI2oiKWVMk48pWJ851po</td>\n",
       "      <td>15</td>\n",
       "      <td>256</td>\n",
       "      <td>254</td>\n",
       "      <td>152</td>\n",
       "      <td>152</td>\n",
       "      <td>254</td>\n",
       "    </tr>\n",
       "    <tr>\n",
       "      <th>22</th>\n",
       "      <td>20</td>\n",
       "      <td>8</td>\n",
       "      <td>22</td>\n",
       "      <td>8</td>\n",
       "      <td>RandomSampling</td>\n",
       "      <td>1.613</td>\n",
       "      <td>7yKPDsCJpBfI2oiKWVMk48pWJ851po</td>\n",
       "      <td>22</td>\n",
       "      <td>438</td>\n",
       "      <td>414</td>\n",
       "      <td>112</td>\n",
       "      <td>414</td>\n",
       "      <td>112</td>\n",
       "    </tr>\n",
       "    <tr>\n",
       "      <th>25</th>\n",
       "      <td>15</td>\n",
       "      <td>3</td>\n",
       "      <td>16</td>\n",
       "      <td>3</td>\n",
       "      <td>RandomSampling</td>\n",
       "      <td>1.251</td>\n",
       "      <td>7yKPDsCJpBfI2oiKWVMk48pWJ851po</td>\n",
       "      <td>16</td>\n",
       "      <td>254</td>\n",
       "      <td>326</td>\n",
       "      <td>572</td>\n",
       "      <td>326</td>\n",
       "      <td>572</td>\n",
       "    </tr>\n",
       "    <tr>\n",
       "      <th>26</th>\n",
       "      <td>21</td>\n",
       "      <td>29</td>\n",
       "      <td>0</td>\n",
       "      <td>0</td>\n",
       "      <td>RandomSampling</td>\n",
       "      <td>2.233</td>\n",
       "      <td>7yKPDsCJpBfI2oiKWVMk48pWJ851po</td>\n",
       "      <td>29</td>\n",
       "      <td>454</td>\n",
       "      <td>184</td>\n",
       "      <td>126</td>\n",
       "      <td>126</td>\n",
       "      <td>184</td>\n",
       "    </tr>\n",
       "  </tbody>\n",
       "</table>\n",
       "</div>"
      ],
      "text/plain": [
       "    head  left  right  winner             alg  response_time  \\\n",
       "0     11    15     28      28  RandomSampling          7.262   \n",
       "4      9    15     25      25  RandomSampling          1.742   \n",
       "22    20     8     22       8  RandomSampling          1.613   \n",
       "25    15     3     16       3  RandomSampling          1.251   \n",
       "26    21    29      0       0  RandomSampling          2.233   \n",
       "\n",
       "                              puid  loser  head_x  left_x  right_x  winner_x  \\\n",
       "0   7yKPDsCJpBfI2oiKWVMk48pWJ851po     15      50     254      114       114   \n",
       "4   7yKPDsCJpBfI2oiKWVMk48pWJ851po     15     256     254      152       152   \n",
       "22  7yKPDsCJpBfI2oiKWVMk48pWJ851po     22     438     414      112       414   \n",
       "25  7yKPDsCJpBfI2oiKWVMk48pWJ851po     16     254     326      572       326   \n",
       "26  7yKPDsCJpBfI2oiKWVMk48pWJ851po     29     454     184      126       126   \n",
       "\n",
       "    loser_x  \n",
       "0       254  \n",
       "4       254  \n",
       "22      112  \n",
       "25      572  \n",
       "26      184  "
      ]
     },
     "execution_count": 4,
     "metadata": {},
     "output_type": "execute_result"
    }
   ],
   "source": [
    "df = _munge(\"_io/next-fig3.json.zip\")\n",
    "df = df[df.alg == \"RandomSampling\"]\n",
    "for col in [\"head\", \"left\", \"right\", \"winner\", \"loser\"]:\n",
    "    df[f\"{col}_x\"] = df[col].apply(smoothness.get)\n",
    "df.head()"
   ]
  },
  {
   "cell_type": "code",
   "execution_count": 6,
   "id": "bc5bbec5-0dbd-4197-a00b-e0d0a4642272",
   "metadata": {},
   "outputs": [
    {
     "data": {
      "image/png": "[encoded data removed]",
      "text/plain": [
       "<Figure size 216x180 with 1 Axes>"
      ]
     },
     "metadata": {
      "image/png": {
       "height": 191,
       "width": 227
      },
      "needs_background": "light"
     },
     "output_type": "display_data"
    }
   ],
   "source": [
    "import numpy as np\n",
    "import matplotlib.pyplot as plt\n",
    "df[\"Dl\"] = np.abs(df[\"head_x\"] - df[\"left_x\"])\n",
    "df[\"Dr\"] = np.abs(df[\"head_x\"] - df[\"right_x\"])\n",
    "\n",
    "df[\"difficulty\"] = np.maximum(df[\"Dl\"], df[\"Dr\"]) / (df[\"Dl\"] + df[\"Dr\"])\n",
    "\n",
    "df[\"response_time_binned\"] = np.round(df[\"response_time\"], 1)\n",
    "df[\"difficulty_binned\"] = (df[\"difficulty\"] * 20).astype(int) / 20\n",
    "\n",
    "w = 2.5\n",
    "fig, ax = plt.subplots(figsize=(1.2 * w, w))\n",
    "kwargs = dict(\n",
    "    index=\"difficulty_binned\",\n",
    "    values=\"response_time\",\n",
    ")\n",
    "middle = df.pivot_table(**kwargs,  aggfunc=\"median\")\n",
    "lower = df.pivot_table(**kwargs,  aggfunc=lambda x: np.percentile(x, 25))\n",
    "upper = df.pivot_table(**kwargs,  aggfunc=lambda x: np.percentile(x, 75))\n",
    "\n",
    "middle.plot(ax=ax, style=\"o-\")\n",
    "\n",
    "ax.fill_between(lower.index, lower.values.flatten(), upper.values.flatten(), alpha=0.2)\n",
    "\n",
    "ax.grid(alpha=0.5)\n",
    "ax.set_ylabel(\"Response time\\n(median, s)\")\n",
    "ax.set_xlabel(\"Ratio (binned)\")\n",
    "ax.set_xlim(0.5, 1)\n",
    "ax.legend_.remove()\n",
    "ax.text(0.5, 4.2, \"↓ Impossible\")\n",
    "ax.text(0.89, 4.2, \"Trivial ↓\")\n",
    "ax.set_ylim(0, None)\n",
    "\n",
    "fig.savefig(\"figures/response_time.png\", transparent=True, bbox_inches=\"tight\", dpi=300)"
   ]
  },
  {
   "cell_type": "code",
   "execution_count": 7,
   "id": "3ccad8fd-bf4d-45b4-b33f-85e37bf94ac4",
   "metadata": {},
   "outputs": [
    {
     "data": {
      "text/plain": [
       "0         True\n",
       "4        False\n",
       "22        True\n",
       "25        True\n",
       "26       False\n",
       "         ...  \n",
       "20070     True\n",
       "20076     True\n",
       "20083    False\n",
       "20084     True\n",
       "20085     True\n",
       "Name: correct, Length: 4092, dtype: bool"
      ]
     },
     "execution_count": 7,
     "metadata": {},
     "output_type": "execute_result"
    }
   ],
   "source": [
    "correct = np.abs(df[\"head_x\"] - df[\"winner_x\"]) < np.abs(df[\"head_x\"] - df[\"loser_x\"])\n",
    "df[\"correct\"] = correct\n",
    "df[\"correct\"]"
   ]
  },
  {
   "cell_type": "code",
   "execution_count": 12,
   "id": "5807013e-88cd-4c38-a7fc-00e6c218895b",
   "metadata": {},
   "outputs": [
    {
     "name": "stdout",
     "output_type": "stream",
     "text": [
      "Easy questions (ratio$> 0.75$)\n"
     ]
    },
    {
     "data": {
      "image/png": "[encoded data removed]",
      "text/plain": [
       "<Figure size 216x108 with 1 Axes>"
      ]
     },
     "metadata": {
      "image/png": {
       "height": 142,
       "width": 235
      },
      "needs_background": "light"
     },
     "output_type": "display_data"
    }
   ],
   "source": [
    "df[\"difficulty_binned\"] = (df[\"difficulty\"] * 5).astype(int) / 5\n",
    "df[\"difficulty_label\"] = \"\"\n",
    "\n",
    "divs = (0.55, 0.75)\n",
    "idx = (0.5 <= df[\"difficulty\"]) & (df[\"difficulty\"] < divs[0])\n",
    "df.loc[idx, \"difficulty_label\"] = \"hard\"\n",
    "idx = (divs[0] <= df[\"difficulty\"]) & (df[\"difficulty\"] < divs[1])\n",
    "df.loc[idx, \"difficulty_label\"] = \"medium\"\n",
    "idx = (divs[1] <= df[\"difficulty\"]) & (df[\"difficulty\"] < 1)\n",
    "df.loc[idx, \"difficulty_label\"] = \"easy\"\n",
    "assert (df[\"difficulty_label\"] == \"\").sum() == 0\n",
    "\n",
    "\n",
    "w = 1.5\n",
    "fig, ax = plt.subplots(figsize=(2 * w, w))\n",
    "ax = df[df.difficulty_label == \"easy\"].pivot_table(\n",
    "    index=\"puid\",\n",
    "    values=\"correct\",\n",
    "    aggfunc=\"mean\",\n",
    ").plot.hist(ax=ax)\n",
    "ax.set_xlabel(\"Probability correct\")\n",
    "title = f\"Easy questions (ratio\" + r\"$> \" + str(divs[1]) + \"$)\"\n",
    "print(title)\n",
    "ax.set_title(title)\n",
    "ax.set_ylabel(\"Number of users\")\n",
    "ax.set_xlim(0, 1)\n",
    "ax.grid(alpha=0.5)\n",
    "ax.xaxis.set_major_formatter(plt.FuncFormatter(lambda x, _: f\"{int(x * 100)}%\"))\n",
    "fig.savefig(\"figures/prob-correct.png\", dpi=300, bbox_inches=\"tight\", transparent=True)"
   ]
  },
  {
   "cell_type": "code",
   "execution_count": null,
   "id": "ef48ab8a-cc07-4b8f-aa86-042bc3acf6d1",
   "metadata": {},
   "outputs": [],
   "source": []
  }
 ],
 "metadata": {
  "kernelspec": {
   "display_name": "Python 3",
   "language": "python",
   "name": "python3"
  },
  "language_info": {
   "codemirror_mode": {
    "name": "ipython",
    "version": 3
   },
   "file_extension": ".py",
   "mimetype": "text/x-python",
   "name": "python",
   "nbconvert_exporter": "python",
   "pygments_lexer": "ipython3",
   "version": "3.8.8"
  }
 },
 "nbformat": 4,
 "nbformat_minor": 5
}
