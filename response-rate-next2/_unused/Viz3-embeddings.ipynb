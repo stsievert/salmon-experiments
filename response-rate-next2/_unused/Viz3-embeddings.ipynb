{
 "cells": [
  {
   "cell_type": "code",
   "execution_count": 1,
   "id": "533911d3-2cad-47ca-9015-3ae373f9332f",
   "metadata": {},
   "outputs": [],
   "source": [
    "import pandas as pd\n",
    "import seaborn as sns\n",
    "import matplotlib.pyplot as plt\n",
    "\n",
    "from viz import lineplot\n",
    "save_kwargs = dict(dpi=300, bbox_inches=\"tight\", transparent=True)"
   ]
  },
  {
   "cell_type": "code",
   "execution_count": 2,
   "id": "fdb40c39-7048-4987-8383-b895204bdacc",
   "metadata": {},
   "outputs": [],
   "source": [
    "import msgpack\n",
    "with open(\"_viz_embeddings.msgpack\", \"rb\") as f:\n",
    "    rares = msgpack.load(f)\n",
    "    \n"
   ]
  },
  {
   "cell_type": "code",
   "execution_count": 3,
   "id": "694146ed-6efb-45c2-981d-ced4bd2e4fd6",
   "metadata": {},
   "outputs": [],
   "source": [
    "# {r[\"meta\"][\"num_ans\"] for r in rares}"
   ]
  },
  {
   "cell_type": "code",
   "execution_count": 4,
   "id": "8b57b7a1-70bb-49f1-82a3-bacbb95cf168",
   "metadata": {},
   "outputs": [],
   "source": [
    "def verify(meta, **kwargs):\n",
    "    for k, v in kwargs.items():\n",
    "        if callable(v):\n",
    "            if not v(meta):\n",
    "                return False\n",
    "        elif meta[k] != v:\n",
    "            return False\n",
    "    return True"
   ]
  },
  {
   "cell_type": "code",
   "execution_count": 5,
   "id": "753a0d96-b3b9-4ac9-a965-e501007be6d0",
   "metadata": {},
   "outputs": [],
   "source": [
    "import targets\n",
    "T = targets.get(90)"
   ]
  },
  {
   "cell_type": "code",
   "execution_count": 38,
   "id": "21787128-8dd2-4136-9b94-cecb07998ffb",
   "metadata": {},
   "outputs": [],
   "source": [
    "from copy import deepcopy\n",
    "# bad: 90 * 190, CKL, n_search=10_000\n",
    "# good: 90 * 160, CKL, n_search=10_000\n",
    "\n",
    "num_ans = 90 * 160\n",
    "filter = dict(\n",
    "    noise_model=\"CKL\",\n",
    "    num_ans=num_ans,\n",
    "    sampling=\"salmon-tste\",\n",
    "    _=lambda meta: (\"TSTE-n_search=3000-\" in meta[\"meta__fname\"])\n",
    ")\n",
    "mrare = [r for r in rares if verify(r[\"meta\"], **filter)]\n",
    "assert len(mrare) == 1, len(mrare)\n",
    "em = mrare[0][\"embedding\"]\n",
    "\n",
    "df1 = pd.DataFrame(em, columns=[\"x\", \"y\"])\n",
    "df1[\"smoothness\"] = T\n",
    "df1[\"num_ans\"] = deepcopy(filter[\"num_ans\"])\n",
    "\n",
    "filter[\"num_ans\"] = 90 * 190\n",
    "mrare = [r for r in rares if verify(r[\"meta\"], **filter)]\n",
    "assert len(mrare) == 1, len(mrare)\n",
    "em = mrare[0][\"embedding\"]\n",
    "\n",
    "df2 = pd.DataFrame(em, columns=[\"x\", \"y\"])\n",
    "df2[\"smoothness\"] = T\n",
    "df2[\"num_ans\"] = deepcopy(filter[\"num_ans\"])"
   ]
  },
  {
   "cell_type": "code",
   "execution_count": 39,
   "id": "60951b11-6049-4bcc-86bc-32113b02e5d7",
   "metadata": {},
   "outputs": [
    {
     "data": {
      "text/html": [
       "<div>\n",
       "<style scoped>\n",
       "    .dataframe tbody tr th:only-of-type {\n",
       "        vertical-align: middle;\n",
       "    }\n",
       "\n",
       "    .dataframe tbody tr th {\n",
       "        vertical-align: top;\n",
       "    }\n",
       "\n",
       "    .dataframe thead th {\n",
       "        text-align: right;\n",
       "    }\n",
       "</style>\n",
       "<table border=\"1\" class=\"dataframe\">\n",
       "  <thead>\n",
       "    <tr style=\"text-align: right;\">\n",
       "      <th></th>\n",
       "      <th>x</th>\n",
       "      <th>y</th>\n",
       "      <th>smoothness</th>\n",
       "      <th>num_ans</th>\n",
       "    </tr>\n",
       "  </thead>\n",
       "  <tbody>\n",
       "    <tr>\n",
       "      <th>0</th>\n",
       "      <td>0.405520</td>\n",
       "      <td>5.873869</td>\n",
       "      <td>22</td>\n",
       "      <td>17100</td>\n",
       "    </tr>\n",
       "    <tr>\n",
       "      <th>1</th>\n",
       "      <td>0.062623</td>\n",
       "      <td>5.294353</td>\n",
       "      <td>36</td>\n",
       "      <td>17100</td>\n",
       "    </tr>\n",
       "    <tr>\n",
       "      <th>2</th>\n",
       "      <td>0.186110</td>\n",
       "      <td>5.206673</td>\n",
       "      <td>39</td>\n",
       "      <td>17100</td>\n",
       "    </tr>\n",
       "    <tr>\n",
       "      <th>3</th>\n",
       "      <td>0.467721</td>\n",
       "      <td>5.199568</td>\n",
       "      <td>40</td>\n",
       "      <td>17100</td>\n",
       "    </tr>\n",
       "    <tr>\n",
       "      <th>4</th>\n",
       "      <td>0.043861</td>\n",
       "      <td>4.723218</td>\n",
       "      <td>50</td>\n",
       "      <td>17100</td>\n",
       "    </tr>\n",
       "  </tbody>\n",
       "</table>\n",
       "</div>"
      ],
      "text/plain": [
       "          x         y  smoothness  num_ans\n",
       "0  0.405520  5.873869          22    17100\n",
       "1  0.062623  5.294353          36    17100\n",
       "2  0.186110  5.206673          39    17100\n",
       "3  0.467721  5.199568          40    17100\n",
       "4  0.043861  4.723218          50    17100"
      ]
     },
     "execution_count": 39,
     "metadata": {},
     "output_type": "execute_result"
    }
   ],
   "source": [
    "df2.head()"
   ]
  },
  {
   "cell_type": "code",
   "execution_count": 40,
   "id": "5e0bc18d-c223-4cbc-bcde-595d37b49996",
   "metadata": {},
   "outputs": [
    {
     "name": "stdout",
     "output_type": "stream",
     "text": [
      "[14400 17100]\n"
     ]
    },
    {
     "data": {
      "text/html": [
       "<div>\n",
       "<style scoped>\n",
       "    .dataframe tbody tr th:only-of-type {\n",
       "        vertical-align: middle;\n",
       "    }\n",
       "\n",
       "    .dataframe tbody tr th {\n",
       "        vertical-align: top;\n",
       "    }\n",
       "\n",
       "    .dataframe thead th {\n",
       "        text-align: right;\n",
       "    }\n",
       "</style>\n",
       "<table border=\"1\" class=\"dataframe\">\n",
       "  <thead>\n",
       "    <tr style=\"text-align: right;\">\n",
       "      <th></th>\n",
       "      <th>x</th>\n",
       "      <th>y</th>\n",
       "      <th>smoothness</th>\n",
       "      <th>num_ans</th>\n",
       "    </tr>\n",
       "  </thead>\n",
       "  <tbody>\n",
       "    <tr>\n",
       "      <th>0</th>\n",
       "      <td>-3.262579</td>\n",
       "      <td>5.342608</td>\n",
       "      <td>22</td>\n",
       "      <td>14400</td>\n",
       "    </tr>\n",
       "    <tr>\n",
       "      <th>1</th>\n",
       "      <td>-3.145626</td>\n",
       "      <td>4.897232</td>\n",
       "      <td>36</td>\n",
       "      <td>14400</td>\n",
       "    </tr>\n",
       "    <tr>\n",
       "      <th>2</th>\n",
       "      <td>-3.000186</td>\n",
       "      <td>4.893074</td>\n",
       "      <td>39</td>\n",
       "      <td>14400</td>\n",
       "    </tr>\n",
       "    <tr>\n",
       "      <th>3</th>\n",
       "      <td>-2.904901</td>\n",
       "      <td>5.007272</td>\n",
       "      <td>40</td>\n",
       "      <td>14400</td>\n",
       "    </tr>\n",
       "    <tr>\n",
       "      <th>4</th>\n",
       "      <td>-2.894516</td>\n",
       "      <td>4.584447</td>\n",
       "      <td>50</td>\n",
       "      <td>14400</td>\n",
       "    </tr>\n",
       "  </tbody>\n",
       "</table>\n",
       "</div>"
      ],
      "text/plain": [
       "          x         y  smoothness  num_ans\n",
       "0 -3.262579  5.342608          22    14400\n",
       "1 -3.145626  4.897232          36    14400\n",
       "2 -3.000186  4.893074          39    14400\n",
       "3 -2.904901  5.007272          40    14400\n",
       "4 -2.894516  4.584447          50    14400"
      ]
     },
     "execution_count": 40,
     "metadata": {},
     "output_type": "execute_result"
    }
   ],
   "source": [
    "df = pd.concat((df1, df2))\n",
    "print(df.num_ans.unique())\n",
    "df.head()"
   ]
  },
  {
   "cell_type": "code",
   "execution_count": 41,
   "id": "b47a84ed-a505-4c95-aafc-f3dfc1bb5bad",
   "metadata": {},
   "outputs": [
    {
     "data": {
      "text/html": [
       "\n",
       "<div id=\"altair-viz-1c5ca43492d5417db4ac45bfabaca5cf\"></div>\n",
       "<script type=\"text/javascript\">\n",
       "  (function(spec, embedOpt){\n",
       "    let outputDiv = document.currentScript.previousElementSibling;\n",
       "    if (outputDiv.id !== \"altair-viz-1c5ca43492d5417db4ac45bfabaca5cf\") {\n",
       "      outputDiv = document.getElementById(\"altair-viz-1c5ca43492d5417db4ac45bfabaca5cf\");\n",
       "    }\n",
       "    const paths = {\n",
       "      \"vega\": \"https://cdn.jsdelivr.net/npm//vega@5?noext\",\n",
       "      \"vega-lib\": \"https://cdn.jsdelivr.net/npm//vega-lib?noext\",\n",
       "      \"vega-lite\": \"https://cdn.jsdelivr.net/npm//vega-lite@4.8.1?noext\",\n",
       "      \"vega-embed\": \"https://cdn.jsdelivr.net/npm//vega-embed@6?noext\",\n",
       "    };\n",
       "\n",
       "    function loadScript(lib) {\n",
       "      return new Promise(function(resolve, reject) {\n",
       "        var s = document.createElement('script');\n",
       "        s.src = paths[lib];\n",
       "        s.async = true;\n",
       "        s.onload = () => resolve(paths[lib]);\n",
       "        s.onerror = () => reject(`Error loading script: ${paths[lib]}`);\n",
       "        document.getElementsByTagName(\"head\")[0].appendChild(s);\n",
       "      });\n",
       "    }\n",
       "\n",
       "    function showError(err) {\n",
       "      outputDiv.innerHTML = `<div class=\"error\" style=\"color:red;\">${err}</div>`;\n",
       "      throw err;\n",
       "    }\n",
       "\n",
       "    function displayChart(vegaEmbed) {\n",
       "      vegaEmbed(outputDiv, spec, embedOpt)\n",
       "        .catch(err => showError(`Javascript Error: ${err.message}<br>This usually means there's a typo in your chart specification. See the javascript console for the full traceback.`));\n",
       "    }\n",
       "\n",
       "    if(typeof define === \"function\" && define.amd) {\n",
       "      requirejs.config({paths});\n",
       "      require([\"vega-embed\"], displayChart, err => showError(`Error loading script: ${err.message}`));\n",
       "    } else if (typeof vegaEmbed === \"function\") {\n",
       "      displayChart(vegaEmbed);\n",
       "    } else {\n",
       "      loadScript(\"vega\")\n",
       "        .then(() => loadScript(\"vega-lite\"))\n",
       "        .then(() => loadScript(\"vega-embed\"))\n",
       "        .catch(showError)\n",
       "        .then(() => displayChart(vegaEmbed));\n",
       "    }\n",
       "  })({\"config\": {\"view\": {\"continuousWidth\": 400, \"continuousHeight\": 300}}, \"data\": {\"name\": \"data-074ba590f57254934de8a1c6faa569c6\"}, \"mark\": {\"type\": \"circle\", \"size\": 200}, \"encoding\": {\"color\": {\"type\": \"quantitative\", \"field\": \"smoothness\"}, \"row\": {\"type\": \"quantitative\", \"field\": \"num_ans\"}, \"x\": {\"type\": \"quantitative\", \"axis\": {\"labels\": false}, \"field\": \"x\", \"scale\": {}}, \"y\": {\"type\": \"quantitative\", \"axis\": {\"labels\": false}, \"field\": \"y\", \"scale\": {}}}, \"$schema\": \"https://vega.github.io/schema/vega-lite/v4.8.1.json\", \"datasets\": {\"data-074ba590f57254934de8a1c6faa569c6\": [{\"x\": -3.2625794410705566, \"y\": 5.3426079750061035, \"smoothness\": 22, \"num_ans\": 14400}, {\"x\": -3.145625591278076, \"y\": 4.8972320556640625, \"smoothness\": 36, \"num_ans\": 14400}, {\"x\": -3.0001862049102783, \"y\": 4.893074035644531, \"smoothness\": 39, \"num_ans\": 14400}, {\"x\": -2.9049012660980225, \"y\": 5.007271766662598, \"smoothness\": 40, \"num_ans\": 14400}, {\"x\": -2.8945155143737793, \"y\": 4.584446907043457, \"smoothness\": 50, \"num_ans\": 14400}, {\"x\": -2.9955995082855225, \"y\": 4.330425262451172, \"smoothness\": 54, \"num_ans\": 14400}, {\"x\": -2.2856593132019043, \"y\": 4.482036113739014, \"smoothness\": 73, \"num_ans\": 14400}, {\"x\": -2.261120080947876, \"y\": 4.3340325355529785, \"smoothness\": 74, \"num_ans\": 14400}, {\"x\": -2.4138705730438232, \"y\": 4.197506904602051, \"smoothness\": 75, \"num_ans\": 14400}, {\"x\": -2.2542061805725098, \"y\": 4.232213020324707, \"smoothness\": 76, \"num_ans\": 14400}, {\"x\": -1.8947336673736572, \"y\": 4.234607219696045, \"smoothness\": 88, \"num_ans\": 14400}, {\"x\": -1.884061574935913, \"y\": 4.090317726135254, \"smoothness\": 90, \"num_ans\": 14400}, {\"x\": -1.786782145500183, \"y\": 4.019252300262451, \"smoothness\": 92, \"num_ans\": 14400}, {\"x\": -1.5682933330535889, \"y\": 3.8373873233795166, \"smoothness\": 98, \"num_ans\": 14400}, {\"x\": -1.4862699508666992, \"y\": 3.9661684036254883, \"smoothness\": 102, \"num_ans\": 14400}, {\"x\": -1.7637001276016235, \"y\": 3.4437341690063477, \"smoothness\": 112, \"num_ans\": 14400}, {\"x\": -1.5837057828903198, \"y\": 3.3404791355133057, \"smoothness\": 114, \"num_ans\": 14400}, {\"x\": -1.283698558807373, \"y\": 3.377647876739502, \"smoothness\": 115, \"num_ans\": 14400}, {\"x\": -1.3862053155899048, \"y\": 3.1241583824157715, \"smoothness\": 125, \"num_ans\": 14400}, {\"x\": -1.3300683498382568, \"y\": 3.088867425918579, \"smoothness\": 126, \"num_ans\": 14400}, {\"x\": -1.5084773302078247, \"y\": 2.9767649173736572, \"smoothness\": 131, \"num_ans\": 14400}, {\"x\": -1.476022481918335, \"y\": 2.904932975769043, \"smoothness\": 132, \"num_ans\": 14400}, {\"x\": -1.5780690908432007, \"y\": 2.8107430934906006, \"smoothness\": 137, \"num_ans\": 14400}, {\"x\": -1.4827715158462524, \"y\": 2.6335690021514893, \"smoothness\": 140, \"num_ans\": 14400}, {\"x\": -1.5428987741470337, \"y\": 2.64455509185791, \"smoothness\": 142, \"num_ans\": 14400}, {\"x\": -1.5441092252731323, \"y\": 2.5722439289093018, \"smoothness\": 143, \"num_ans\": 14400}, {\"x\": -1.4861055612564087, \"y\": 2.4301204681396484, \"smoothness\": 149, \"num_ans\": 14400}, {\"x\": -1.498829960823059, \"y\": 2.2300920486450195, \"smoothness\": 152, \"num_ans\": 14400}, {\"x\": -1.2554519176483154, \"y\": 2.192169427871704, \"smoothness\": 157, \"num_ans\": 14400}, {\"x\": -1.4129832983016968, \"y\": 2.168394088745117, \"smoothness\": 161, \"num_ans\": 14400}, {\"x\": -1.6002449989318848, \"y\": 1.6417893171310425, \"smoothness\": 184, \"num_ans\": 14400}, {\"x\": -1.5651390552520752, \"y\": 1.2855768203735352, \"smoothness\": 194, \"num_ans\": 14400}, {\"x\": -1.7858713865280151, \"y\": 0.8944218754768372, \"smoothness\": 200, \"num_ans\": 14400}, {\"x\": -1.6744658946990967, \"y\": 0.8217799663543701, \"smoothness\": 208, \"num_ans\": 14400}, {\"x\": -2.040740489959717, \"y\": 0.7967538833618164, \"smoothness\": 209, \"num_ans\": 14400}, {\"x\": -2.0067269802093506, \"y\": 0.4388449192047119, \"smoothness\": 220, \"num_ans\": 14400}, {\"x\": -2.163055896759033, \"y\": 0.22804708778858185, \"smoothness\": 230, \"num_ans\": 14400}, {\"x\": -1.8536338806152344, \"y\": 0.0015248307026922703, \"smoothness\": 235, \"num_ans\": 14400}, {\"x\": -2.174943447113037, \"y\": -0.310401976108551, \"smoothness\": 242, \"num_ans\": 14400}, {\"x\": -1.990951657295227, \"y\": -0.22921939194202423, \"smoothness\": 248, \"num_ans\": 14400}, {\"x\": -1.2643263339996338, \"y\": -0.15627002716064453, \"smoothness\": 250, \"num_ans\": 14400}, {\"x\": -1.5519951581954956, \"y\": -0.22565336525440216, \"smoothness\": 251, \"num_ans\": 14400}, {\"x\": -1.4903569221496582, \"y\": -0.36623433232307434, \"smoothness\": 254, \"num_ans\": 14400}, {\"x\": -1.1046518087387085, \"y\": -0.11654286831617355, \"smoothness\": 256, \"num_ans\": 14400}, {\"x\": -1.4037984609603882, \"y\": -0.6715323328971863, \"smoothness\": 267, \"num_ans\": 14400}, {\"x\": -1.3966912031173706, \"y\": -0.6541378498077393, \"smoothness\": 270, \"num_ans\": 14400}, {\"x\": -1.4813733100891113, \"y\": -2.1212849617004395, \"smoothness\": 312, \"num_ans\": 14400}, {\"x\": -0.948976993560791, \"y\": -1.8633434772491455, \"smoothness\": 322, \"num_ans\": 14400}, {\"x\": -0.775847852230072, \"y\": -1.9599049091339111, \"smoothness\": 325, \"num_ans\": 14400}, {\"x\": -1.0275977849960327, \"y\": -2.0610411167144775, \"smoothness\": 326, \"num_ans\": 14400}, {\"x\": -1.0186457633972168, \"y\": -2.183809518814087, \"smoothness\": 331, \"num_ans\": 14400}, {\"x\": -0.8737650513648987, \"y\": -2.478377103805542, \"smoothness\": 336, \"num_ans\": 14400}, {\"x\": -0.9439578652381897, \"y\": -2.6592249870300293, \"smoothness\": 339, \"num_ans\": 14400}, {\"x\": -0.4672231078147888, \"y\": -2.185183048248291, \"smoothness\": 341, \"num_ans\": 14400}, {\"x\": -0.646061360836029, \"y\": -2.307149648666382, \"smoothness\": 344, \"num_ans\": 14400}, {\"x\": -0.4961937963962555, \"y\": -2.4595377445220947, \"smoothness\": 346, \"num_ans\": 14400}, {\"x\": 0.1280679553747177, \"y\": -2.787914752960205, \"smoothness\": 368, \"num_ans\": 14400}, {\"x\": 0.3581525981426239, \"y\": -2.5990583896636963, \"smoothness\": 378, \"num_ans\": 14400}, {\"x\": 0.39123404026031494, \"y\": -3.023115634918213, \"smoothness\": 386, \"num_ans\": 14400}, {\"x\": 0.4194992184638977, \"y\": -2.932213068008423, \"smoothness\": 387, \"num_ans\": 14400}, {\"x\": 0.6184076070785522, \"y\": -2.9720888137817383, \"smoothness\": 394, \"num_ans\": 14400}, {\"x\": 0.802748441696167, \"y\": -2.830934524536133, \"smoothness\": 398, \"num_ans\": 14400}, {\"x\": 1.0799777507781982, \"y\": -3.2186484336853027, \"smoothness\": 414, \"num_ans\": 14400}, {\"x\": 1.219695806503296, \"y\": -3.1624505519866943, \"smoothness\": 420, \"num_ans\": 14400}, {\"x\": 1.2260310649871826, \"y\": -3.2542176246643066, \"smoothness\": 422, \"num_ans\": 14400}, {\"x\": 1.2303959131240845, \"y\": -3.160327196121216, \"smoothness\": 428, \"num_ans\": 14400}, {\"x\": 1.4283591508865356, \"y\": -3.448826789855957, \"smoothness\": 430, \"num_ans\": 14400}, {\"x\": 1.6383416652679443, \"y\": -3.4512956142425537, \"smoothness\": 438, \"num_ans\": 14400}, {\"x\": 1.6715068817138672, \"y\": -3.790107011795044, \"smoothness\": 447, \"num_ans\": 14400}, {\"x\": 1.9245572090148926, \"y\": -4.066359519958496, \"smoothness\": 454, \"num_ans\": 14400}, {\"x\": 2.2018208503723145, \"y\": -3.7133936882019043, \"smoothness\": 462, \"num_ans\": 14400}, {\"x\": 2.283207893371582, \"y\": -3.606524705886841, \"smoothness\": 465, \"num_ans\": 14400}, {\"x\": 2.4372708797454834, \"y\": -3.7903988361358643, \"smoothness\": 470, \"num_ans\": 14400}, {\"x\": 3.094297409057617, \"y\": -3.8822379112243652, \"smoothness\": 494, \"num_ans\": 14400}, {\"x\": 3.264108419418335, \"y\": -3.8868088722229004, \"smoothness\": 500, \"num_ans\": 14400}, {\"x\": 3.634246587753296, \"y\": -3.9691736698150635, \"smoothness\": 513, \"num_ans\": 14400}, {\"x\": 3.710681200027466, \"y\": -3.891143560409546, \"smoothness\": 517, \"num_ans\": 14400}, {\"x\": 3.7475974559783936, \"y\": -3.814297676086426, \"smoothness\": 521, \"num_ans\": 14400}, {\"x\": 3.8018133640289307, \"y\": -3.740649700164795, \"smoothness\": 524, \"num_ans\": 14400}, {\"x\": 3.887713670730591, \"y\": -3.6655609607696533, \"smoothness\": 525, \"num_ans\": 14400}, {\"x\": 3.8795809745788574, \"y\": -3.535099506378174, \"smoothness\": 526, \"num_ans\": 14400}, {\"x\": 4.514434337615967, \"y\": -3.7618348598480225, \"smoothness\": 545, \"num_ans\": 14400}, {\"x\": 4.632901668548584, \"y\": -3.5338165760040283, \"smoothness\": 551, \"num_ans\": 14400}, {\"x\": 4.688922882080078, \"y\": -3.548275947570801, \"smoothness\": 552, \"num_ans\": 14400}, {\"x\": 4.732511043548584, \"y\": -3.4562580585479736, \"smoothness\": 557, \"num_ans\": 14400}, {\"x\": 4.708514213562012, \"y\": -3.018223762512207, \"smoothness\": 563, \"num_ans\": 14400}, {\"x\": 5.016087532043457, \"y\": -3.34196400642395, \"smoothness\": 566, \"num_ans\": 14400}, {\"x\": 5.111419677734375, \"y\": -3.2044880390167236, \"smoothness\": 572, \"num_ans\": 14400}, {\"x\": 5.797021865844727, \"y\": -3.537208080291748, \"smoothness\": 592, \"num_ans\": 14400}, {\"x\": 5.953368663787842, \"y\": -2.842200994491577, \"smoothness\": 599, \"num_ans\": 14400}, {\"x\": 0.4055195152759552, \"y\": 5.873868942260742, \"smoothness\": 22, \"num_ans\": 17100}, {\"x\": 0.06262318044900894, \"y\": 5.2943525314331055, \"smoothness\": 36, \"num_ans\": 17100}, {\"x\": 0.18610984086990356, \"y\": 5.206672668457031, \"smoothness\": 39, \"num_ans\": 17100}, {\"x\": 0.46772128343582153, \"y\": 5.199567794799805, \"smoothness\": 40, \"num_ans\": 17100}, {\"x\": 0.043861452490091324, \"y\": 4.7232184410095215, \"smoothness\": 50, \"num_ans\": 17100}, {\"x\": -0.2803894579410553, \"y\": 4.50236177444458, \"smoothness\": 54, \"num_ans\": 17100}, {\"x\": 0.6010924577713013, \"y\": 4.113467693328857, \"smoothness\": 73, \"num_ans\": 17100}, {\"x\": 0.5447080135345459, \"y\": 3.906564950942993, \"smoothness\": 74, \"num_ans\": 17100}, {\"x\": 0.28419527411460876, \"y\": 3.7577781677246094, \"smoothness\": 75, \"num_ans\": 17100}, {\"x\": 0.5313083529472351, \"y\": 3.745722770690918, \"smoothness\": 76, \"num_ans\": 17100}, {\"x\": 1.0417953729629517, \"y\": 3.6335296630859375, \"smoothness\": 88, \"num_ans\": 17100}, {\"x\": 0.9817708730697632, \"y\": 3.4084584712982178, \"smoothness\": 90, \"num_ans\": 17100}, {\"x\": 1.0984020233154297, \"y\": 3.314882755279541, \"smoothness\": 92, \"num_ans\": 17100}, {\"x\": 1.3887934684753418, \"y\": 3.2324302196502686, \"smoothness\": 98, \"num_ans\": 17100}, {\"x\": 1.6143531799316406, \"y\": 3.281543016433716, \"smoothness\": 102, \"num_ans\": 17100}, {\"x\": 1.3898539543151855, \"y\": 2.6259095668792725, \"smoothness\": 112, \"num_ans\": 17100}, {\"x\": 1.6759028434753418, \"y\": 2.4594733715057373, \"smoothness\": 114, \"num_ans\": 17100}, {\"x\": 1.8472048044204712, \"y\": 2.530130624771118, \"smoothness\": 115, \"num_ans\": 17100}, {\"x\": 1.9741050004959106, \"y\": 2.1232714653015137, \"smoothness\": 125, \"num_ans\": 17100}, {\"x\": 2.0448241233825684, \"y\": 2.06219482421875, \"smoothness\": 126, \"num_ans\": 17100}, {\"x\": 1.7349580526351929, \"y\": 1.914638876914978, \"smoothness\": 131, \"num_ans\": 17100}, {\"x\": 1.832731008529663, \"y\": 1.789878487586975, \"smoothness\": 132, \"num_ans\": 17100}, {\"x\": 1.646851658821106, \"y\": 1.655906081199646, \"smoothness\": 137, \"num_ans\": 17100}, {\"x\": 1.7934625148773193, \"y\": 1.4219021797180176, \"smoothness\": 140, \"num_ans\": 17100}, {\"x\": 1.6874489784240723, \"y\": 1.372360110282898, \"smoothness\": 142, \"num_ans\": 17100}, {\"x\": 1.674619197845459, \"y\": 1.2628471851348877, \"smoothness\": 143, \"num_ans\": 17100}, {\"x\": 1.610827922821045, \"y\": 1.0126795768737793, \"smoothness\": 149, \"num_ans\": 17100}, {\"x\": 1.556398868560791, \"y\": 0.8063549995422363, \"smoothness\": 152, \"num_ans\": 17100}, {\"x\": 1.8342074155807495, \"y\": 0.5750622153282166, \"smoothness\": 157, \"num_ans\": 17100}, {\"x\": 1.6475551128387451, \"y\": 0.5448969602584839, \"smoothness\": 161, \"num_ans\": 17100}, {\"x\": 1.4671036005020142, \"y\": -0.382174015045166, \"smoothness\": 184, \"num_ans\": 17100}, {\"x\": 0.571153998374939, \"y\": -1.3772265911102295, \"smoothness\": 194, \"num_ans\": 17100}, {\"x\": 0.34607994556427, \"y\": -2.0576114654541016, \"smoothness\": 200, \"num_ans\": 17100}, {\"x\": -0.0009560547186993062, \"y\": -2.0917809009552, \"smoothness\": 208, \"num_ans\": 17100}, {\"x\": -0.21062743663787842, \"y\": -2.587965488433838, \"smoothness\": 209, \"num_ans\": 17100}, {\"x\": -0.5663145184516907, \"y\": -2.4527316093444824, \"smoothness\": 220, \"num_ans\": 17100}, {\"x\": -0.8004975318908691, \"y\": -2.908904790878296, \"smoothness\": 230, \"num_ans\": 17100}, {\"x\": -1.1817452907562256, \"y\": -3.1643011569976807, \"smoothness\": 235, \"num_ans\": 17100}, {\"x\": -1.3208850622177124, \"y\": -2.342331886291504, \"smoothness\": 242, \"num_ans\": 17100}, {\"x\": -1.7670037746429443, \"y\": -2.280977725982666, \"smoothness\": 248, \"num_ans\": 17100}, {\"x\": -1.7337827682495117, \"y\": -2.7838876247406006, \"smoothness\": 250, \"num_ans\": 17100}, {\"x\": -2.2840981483459473, \"y\": -2.974503755569458, \"smoothness\": 251, \"num_ans\": 17100}, {\"x\": -2.4691202640533447, \"y\": -3.201266288757324, \"smoothness\": 254, \"num_ans\": 17100}, {\"x\": -1.9902688264846802, \"y\": -3.254883289337158, \"smoothness\": 256, \"num_ans\": 17100}, {\"x\": -2.532503366470337, \"y\": -2.6802353858947754, \"smoothness\": 267, \"num_ans\": 17100}, {\"x\": -2.730069398880005, \"y\": -2.6328108310699463, \"smoothness\": 270, \"num_ans\": 17100}, {\"x\": -3.7354533672332764, \"y\": -0.25365591049194336, \"smoothness\": 312, \"num_ans\": 17100}, {\"x\": -3.1567068099975586, \"y\": -0.6659196019172668, \"smoothness\": 322, \"num_ans\": 17100}, {\"x\": -2.8909912109375, \"y\": -0.5191263556480408, \"smoothness\": 325, \"num_ans\": 17100}, {\"x\": -3.1213762760162354, \"y\": -0.36105990409851074, \"smoothness\": 326, \"num_ans\": 17100}, {\"x\": -3.311889886856079, \"y\": -0.11250921338796616, \"smoothness\": 331, \"num_ans\": 17100}, {\"x\": -2.9866812229156494, \"y\": 0.17567965388298035, \"smoothness\": 336, \"num_ans\": 17100}, {\"x\": -3.143173933029175, \"y\": 0.4242643117904663, \"smoothness\": 339, \"num_ans\": 17100}, {\"x\": -2.4490997791290283, \"y\": -0.0749683678150177, \"smoothness\": 341, \"num_ans\": 17100}, {\"x\": -2.6140294075012207, \"y\": -0.009565059095621109, \"smoothness\": 344, \"num_ans\": 17100}, {\"x\": -2.6443257331848145, \"y\": 0.2682148814201355, \"smoothness\": 346, \"num_ans\": 17100}, {\"x\": -1.7324819564819336, \"y\": 0.16316793859004974, \"smoothness\": 368, \"num_ans\": 17100}, {\"x\": -1.3850525617599487, \"y\": 0.5553369522094727, \"smoothness\": 378, \"num_ans\": 17100}, {\"x\": -1.1544109582901, \"y\": 0.10037640482187271, \"smoothness\": 386, \"num_ans\": 17100}, {\"x\": -1.2341351509094238, \"y\": 0.2617206573486328, \"smoothness\": 387, \"num_ans\": 17100}, {\"x\": -0.8733789920806885, \"y\": 0.3372650742530823, \"smoothness\": 394, \"num_ans\": 17100}, {\"x\": -0.773000180721283, \"y\": 0.14200831949710846, \"smoothness\": 398, \"num_ans\": 17100}, {\"x\": -0.3045632839202881, \"y\": -0.06531727313995361, \"smoothness\": 414, \"num_ans\": 17100}, {\"x\": -0.17823366820812225, \"y\": -0.06098783388733864, \"smoothness\": 420, \"num_ans\": 17100}, {\"x\": -0.18729694187641144, \"y\": -0.17439906299114227, \"smoothness\": 422, \"num_ans\": 17100}, {\"x\": -0.16641947627067566, \"y\": -0.43097278475761414, \"smoothness\": 428, \"num_ans\": 17100}, {\"x\": 0.16237713396549225, \"y\": -0.32452037930488586, \"smoothness\": 430, \"num_ans\": 17100}, {\"x\": 0.291525274515152, \"y\": -0.4969853162765503, \"smoothness\": 438, \"num_ans\": 17100}, {\"x\": 0.5940279960632324, \"y\": -0.3783506453037262, \"smoothness\": 447, \"num_ans\": 17100}, {\"x\": 0.9589539170265198, \"y\": -0.494111031293869, \"smoothness\": 454, \"num_ans\": 17100}, {\"x\": 0.9940924048423767, \"y\": -0.8599235415458679, \"smoothness\": 462, \"num_ans\": 17100}, {\"x\": 1.0085810422897339, \"y\": -1.0356154441833496, \"smoothness\": 465, \"num_ans\": 17100}, {\"x\": 1.2520984411239624, \"y\": -1.0103919506072998, \"smoothness\": 470, \"num_ans\": 17100}, {\"x\": 1.9961676597595215, \"y\": -1.351022481918335, \"smoothness\": 494, \"num_ans\": 17100}, {\"x\": 2.010681390762329, \"y\": -1.5883032083511353, \"smoothness\": 500, \"num_ans\": 17100}, {\"x\": 2.241926431655884, \"y\": -1.9340182542800903, \"smoothness\": 513, \"num_ans\": 17100}, {\"x\": 2.3536460399627686, \"y\": -1.8828694820404053, \"smoothness\": 517, \"num_ans\": 17100}, {\"x\": 2.478257179260254, \"y\": -1.8297438621520996, \"smoothness\": 521, \"num_ans\": 17100}, {\"x\": 2.5419557094573975, \"y\": -1.9322818517684937, \"smoothness\": 524, \"num_ans\": 17100}, {\"x\": 2.6328558921813965, \"y\": -2.003260612487793, \"smoothness\": 525, \"num_ans\": 17100}, {\"x\": 2.789729356765747, \"y\": -1.9502460956573486, \"smoothness\": 526, \"num_ans\": 17100}, {\"x\": 2.759326696395874, \"y\": -2.6212894916534424, \"smoothness\": 545, \"num_ans\": 17100}, {\"x\": 2.9159939289093018, \"y\": -2.799391031265259, \"smoothness\": 551, \"num_ans\": 17100}, {\"x\": 2.9655473232269287, \"y\": -2.8311002254486084, \"smoothness\": 552, \"num_ans\": 17100}, {\"x\": 2.94815993309021, \"y\": -2.9319019317626953, \"smoothness\": 557, \"num_ans\": 17100}, {\"x\": 2.572592258453369, \"y\": -3.204061985015869, \"smoothness\": 563, \"num_ans\": 17100}, {\"x\": 2.9975221157073975, \"y\": -3.2515671253204346, \"smoothness\": 566, \"num_ans\": 17100}, {\"x\": 2.9943370819091797, \"y\": -3.404857635498047, \"smoothness\": 572, \"num_ans\": 17100}, {\"x\": 3.2628331184387207, \"y\": -4.077352523803711, \"smoothness\": 592, \"num_ans\": 17100}, {\"x\": 3.8647236824035645, \"y\": -3.9376471042633057, \"smoothness\": 599, \"num_ans\": 17100}]}}, {\"mode\": \"vega-lite\"});\n",
       "</script>"
      ],
      "text/plain": [
       "alt.Chart(...)"
      ]
     },
     "execution_count": 41,
     "metadata": {},
     "output_type": "execute_result"
    }
   ],
   "source": [
    "import altair as alt\n",
    "alt.Chart(df).mark_circle(size=200).encode(\n",
    "    x=alt.X(\"x\", scale=alt.Scale(), axis=alt.Axis(labels=False)),\n",
    "    y=alt.Y(\"y\", scale=alt.Scale(), axis=alt.Axis(labels=False)),\n",
    "    color=\"smoothness\",\n",
    "    row=\"num_ans\",\n",
    ")"
   ]
  },
  {
   "cell_type": "code",
   "execution_count": null,
   "id": "54b9878b-a1eb-4f27-b361-2d18152ade14",
   "metadata": {},
   "outputs": [],
   "source": []
  }
 ],
 "metadata": {
  "kernelspec": {
   "display_name": "Python 3",
   "language": "python",
   "name": "python3"
  },
  "language_info": {
   "codemirror_mode": {
    "name": "ipython",
    "version": 3
   },
   "file_extension": ".py",
   "mimetype": "text/x-python",
   "name": "python",
   "nbconvert_exporter": "python",
   "pygments_lexer": "ipython3",
   "version": "3.8.8"
  }
 },
 "nbformat": 4,
 "nbformat_minor": 5
}
