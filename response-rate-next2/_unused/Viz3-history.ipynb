{
 "cells": [
  {
   "cell_type": "code",
   "execution_count": 1,
   "id": "10fd102a-1e3f-4f0c-90e5-d9d404af3fc7",
   "metadata": {},
   "outputs": [],
   "source": [
    "x = 1"
   ]
  },
  {
   "cell_type": "code",
   "execution_count": 2,
   "id": "12e5526c-7ac2-4794-8596-97933c59d182",
   "metadata": {},
   "outputs": [],
   "source": [
    "from _generate_viz_data import _get_embeddings\n",
    "\n",
    "import seaborn as sns\n",
    "import pandas as pd"
   ]
  },
  {
   "cell_type": "code",
   "execution_count": 3,
   "id": "8d0835af-4eeb-4a76-aa0f-faf13f261315",
   "metadata": {
    "tags": []
   },
   "outputs": [
    {
     "name": "stdout",
     "output_type": "stream",
     "text": [
      "450 salmon/io/2021-05-26-search/TSTE-n_search=100-1_responses.csv.zip\n",
      "5400 salmon/io/2021-07-01-arr-search/ARR-n_search=352440-n_top=1000-1_responses.csv.zip\n",
      "7200 salmon/io/2021-07-01-arr-search/ARR-n_search=352440-n_top=1000-1_responses.csv.zip\n",
      "4500 salmon/io/2021-05-26-search/TSTE-n_search=100-1_responses.csv.zip\n",
      "450 salmon/io/2021-07-01-arr-search/ARR-n_search=1000-n_top=1-1_responses.csv.zip\n",
      "900 salmon/io/2021-07-01-arr-search/ARR-n_search=1000-n_top=1-1_responses.csv.zip\n",
      "1800 salmon/io/2021-07-01-arr-search/ARR-n_search=1000-n_top=1-1_responses.csv.zip\n",
      "2700 salmon/io/2021-07-01-arr-search/ARR-n_search=1000-n_top=1-1_responses.csv.zip\n",
      "3600 salmon/io/2021-07-01-arr-search/ARR-n_search=1000-n_top=1-1_responses.csv.zip\n",
      "450 salmon/io/2021-05-26-search/TSTE-n_search=100000-1_responses.csv.zip\n",
      "4500 salmon/io/2021-07-01-arr-search/ARR-n_search=1000-n_top=1-1_responses.csv.zip\n",
      "5400 salmon/io/2021-07-01-arr-search/ARR-n_search=1000-n_top=1-1_responses.csv.zip\n",
      "900 salmon/io/2021-05-26-search/TSTE-n_search=100000-1_responses.csv.zip\n",
      "450 salmon/io/2021-07-01-arr-search/ARR-n_search=10000-n_top=1-1_responses.csv.zip\n",
      "900 salmon/io/2021-07-01-arr-search/ARR-n_search=10000-n_top=1-1_responses.csv.zip\n",
      "1800 salmon/io/2021-07-01-arr-search/ARR-n_search=10000-n_top=1-1_responses.csv.zip\n",
      "2700 salmon/io/2021-07-01-arr-search/ARR-n_search=10000-n_top=1-1_responses.csv.zip\n",
      "3600 salmon/io/2021-07-01-arr-search/ARR-n_search=10000-n_top=1-1_responses.csv.zip\n",
      "4500 salmon/io/2021-07-01-arr-search/ARR-n_search=10000-n_top=1-1_responses.csv.zip\n",
      "1800 salmon/io/2021-05-26-search/TSTE-n_search=100000-1_responses.csv.zip\n",
      "2700 salmon/io/2021-05-26-search/TSTE-n_search=100000-1_responses.csv.zip\n",
      "450 salmon/io/2021-07-01-arr-search/ARR-n_search=100000-n_top=1-1_responses.csv.zip\n",
      "900 salmon/io/2021-07-01-arr-search/ARR-n_search=100000-n_top=1-1_responses.csv.zip\n",
      "1800 salmon/io/2021-07-01-arr-search/ARR-n_search=100000-n_top=1-1_responses.csv.zip\n",
      "2700 salmon/io/2021-07-01-arr-search/ARR-n_search=100000-n_top=1-1_responses.csv.zip\n",
      "3600 salmon/io/2021-07-01-arr-search/ARR-n_search=100000-n_top=1-1_responses.csv.zip\n",
      "4500 salmon/io/2021-07-01-arr-search/ARR-n_search=100000-n_top=1-1_responses.csv.zip\n",
      "5400 salmon/io/2021-07-01-arr-search/ARR-n_search=100000-n_top=1-1_responses.csv.zip\n",
      "3600 salmon/io/2021-05-26-search/TSTE-n_search=100000-1_responses.csv.zip\n",
      "4500 salmon/io/2021-05-26-search/TSTE-n_search=100000-1_responses.csv.zip\n",
      "450 salmon/io/2021-07-01-arr-search/ARR-n_search=3000-n_top=1-1_responses.csv.zip\n",
      "900 salmon/io/2021-07-01-arr-search/ARR-n_search=3000-n_top=1-1_responses.csv.zip\n",
      "1800 salmon/io/2021-07-01-arr-search/ARR-n_search=3000-n_top=1-1_responses.csv.zip\n",
      "2700 salmon/io/2021-07-01-arr-search/ARR-n_search=3000-n_top=1-1_responses.csv.zip\n",
      "3600 salmon/io/2021-07-01-arr-search/ARR-n_search=3000-n_top=1-1_responses.csv.zip\n",
      "4500 salmon/io/2021-07-01-arr-search/ARR-n_search=3000-n_top=1-1_responses.csv.zip\n",
      "5400 salmon/io/2021-05-26-search/TSTE-n_search=100000-1_responses.csv.zip\n",
      "7200 salmon/io/2021-07-01-arr-search/ARR-n_search=3000-n_top=1-1_responses.csv.zip\n",
      "450 salmon/io/2021-07-01-arr-search/ARR-n_search=30000-n_top=1-1_responses.csv.zip\n",
      "900 salmon/io/2021-07-01-arr-search/ARR-n_search=30000-n_top=1-1_responses.csv.zip\n",
      "1800 salmon/io/2021-07-01-arr-search/ARR-n_search=30000-n_top=1-1_responses.csv.zip\n",
      "2700 salmon/io/2021-07-01-arr-search/ARR-n_search=30000-n_top=1-1_responses.csv.zip\n",
      "5400 salmon/io/2021-05-26-search/TSTE-n_search=100-1_responses.csv.zip\n",
      "3600 salmon/io/2021-07-01-arr-search/ARR-n_search=30000-n_top=1-1_responses.csv.zip\n",
      "4500 salmon/io/2021-07-01-arr-search/ARR-n_search=30000-n_top=1-1_responses.csv.zip\n",
      "7200 salmon/io/2021-05-26-search/TSTE-n_search=100000-1_responses.csv.zip\n",
      "8100 salmon/io/2021-05-26-search/TSTE-n_search=100000-1_responses.csv.zip\n",
      "450 salmon/io/2021-07-01-arr-search/ARR-n_search=352440-n_top=1-1_responses.csv.zip\n",
      "900 salmon/io/2021-07-01-arr-search/ARR-n_search=352440-n_top=1-1_responses.csv.zip\n",
      "1800 salmon/io/2021-07-01-arr-search/ARR-n_search=352440-n_top=1-1_responses.csv.zip\n",
      "2700 salmon/io/2021-07-01-arr-search/ARR-n_search=352440-n_top=1-1_responses.csv.zip\n",
      "3600 salmon/io/2021-07-01-arr-search/ARR-n_search=352440-n_top=1-1_responses.csv.zip\n",
      "4500 salmon/io/2021-07-01-arr-search/ARR-n_search=352440-n_top=1-1_responses.csv.zip\n",
      "5400 salmon/io/2021-07-01-arr-search/ARR-n_search=352440-n_top=1-1_responses.csv.zip\n",
      "1800 salmon/io/2021-07-01-arr-search/ARR-n_search=352440-n_top=10-1_responses.csv.zip\n",
      "2700 salmon/io/2021-07-01-arr-search/ARR-n_search=352440-n_top=10-1_responses.csv.zip\n",
      "6300 salmon/io/2021-07-01-arr-search/ARR-n_search=352440-n_top=10-1_responses.csv.zip\n",
      "1800 salmon/io/2021-07-01-arr-search/ARR-n_search=352440-n_top=100-1_responses.csv.zip\n",
      "2700 salmon/io/2021-07-01-arr-search/ARR-n_search=352440-n_top=1000-1_responses.csv.zip\n",
      "3600 salmon/io/2021-07-01-arr-search/ARR-n_search=352440-n_top=1000-1_responses.csv.zip\n",
      "7200 salmon/io/2021-05-26-search/TSTE-n_search=100-1_responses.csv.zip\n",
      "8100 salmon/io/2021-05-26-search/TSTE-n_search=100-1_responses.csv.zip\n",
      "900 salmon/io/2021-05-26-search/TSTE-n_search=100-1_responses.csv.zip\n",
      "450 salmon/io/2021-05-26-search/TSTE-n_search=100-1_responses.csv.zip\n",
      "900 salmon/io/2021-05-26-search/TSTE-n_search=100-1_responses.csv.zip\n",
      "1800 salmon/io/2021-05-26-search/TSTE-n_search=100-1_responses.csv.zip\n",
      "450 salmon/io/2021-05-26-search/TSTE-n_search=1000-1_responses.csv.zip\n",
      "450 salmon/io/2021-05-26-search/TSTE-n_search=1000-1_responses.csv.zip\n",
      "900 salmon/io/2021-05-26-search/TSTE-n_search=1000-1_responses.csv.zip\n",
      "1800 salmon/io/2021-05-26-search/TSTE-n_search=10000-1_responses.csv.zip\n",
      "1800 salmon/io/2021-05-26-search/TSTE-n_search=1000-1_responses.csv.zip\n",
      "2700 salmon/io/2021-05-26-search/TSTE-n_search=1000-1_responses.csv.zip\n",
      "900 salmon/io/2021-05-26-search/TSTE-n_search=100000-1_responses.csv.zip\n",
      "1800 salmon/io/2021-05-26-search/TSTE-n_search=100000-1_responses.csv.zip\n",
      "3600 salmon/io/2021-05-26-search/TSTE-n_search=100000-1_responses.csv.zip\n",
      "4500 salmon/io/2021-05-26-search/TSTE-n_search=100000-1_responses.csv.zip\n",
      "3600 salmon/io/2021-05-26-search/TSTE-n_search=1000-1_responses.csv.zip\n",
      "4500 salmon/io/2021-05-26-search/TSTE-n_search=1000-1_responses.csv.zip\n",
      "1800 salmon/io/2021-05-26-search/TSTE-n_search=100-1_responses.csv.zip\n",
      "5400 salmon/io/2021-05-26-search/TSTE-n_search=1000-1_responses.csv.zip\n",
      "7200 salmon/io/2021-05-26-search/TSTE-n_search=1000-1_responses.csv.zip\n",
      "8100 salmon/io/2021-05-26-search/TSTE-n_search=1000-1_responses.csv.zip\n",
      "450 salmon/io/2021-07-01-arr-search/ARR-n_search=1000-n_top=1-1_responses.csv.zip\n",
      "900 salmon/io/2021-07-01-arr-search/ARR-n_search=1000-n_top=1-1_responses.csv.zip\n",
      "1800 salmon/io/2021-07-01-arr-search/ARR-n_search=1000-n_top=1-1_responses.csv.zip\n",
      "2700 salmon/io/2021-07-01-arr-search/ARR-n_search=1000-n_top=1-1_responses.csv.zip\n",
      "5400 salmon/io/2021-07-01-arr-search/ARR-n_search=1000-n_top=1-1_responses.csv.zip\n",
      "2700 salmon/io/2021-05-26-search/TSTE-n_search=100-1_responses.csv.zip\n",
      "450 salmon/io/2021-07-01-arr-search/ARR-n_search=10000-n_top=1-1_responses.csv.zip\n",
      "900 salmon/io/2021-07-01-arr-search/ARR-n_search=10000-n_top=1-1_responses.csv.zip\n",
      "1800 salmon/io/2021-07-01-arr-search/ARR-n_search=10000-n_top=1-1_responses.csv.zip\n",
      "2700 salmon/io/2021-07-01-arr-search/ARR-n_search=10000-n_top=1-1_responses.csv.zip\n",
      "5400 salmon/io/2021-07-01-arr-search/ARR-n_search=10000-n_top=1-1_responses.csv.zip\n",
      "450 salmon/io/2021-07-01-arr-search/ARR-n_search=100000-n_top=1-1_responses.csv.zip\n",
      "900 salmon/io/2021-07-01-arr-search/ARR-n_search=100000-n_top=1-1_responses.csv.zip\n",
      "1800 salmon/io/2021-07-01-arr-search/ARR-n_search=100000-n_top=1-1_responses.csv.zip\n",
      "2700 salmon/io/2021-07-01-arr-search/ARR-n_search=100000-n_top=1-1_responses.csv.zip\n",
      "450 salmon/io/2021-05-26-search/TSTE-n_search=10000-1_responses.csv.zip\n",
      "5400 salmon/io/2021-07-01-arr-search/ARR-n_search=100000-n_top=1-1_responses.csv.zip\n",
      "900 salmon/io/2021-05-26-search/TSTE-n_search=10000-1_responses.csv.zip\n",
      "450 salmon/io/2021-07-01-arr-search/ARR-n_search=3000-n_top=1-1_responses.csv.zip\n",
      "900 salmon/io/2021-07-01-arr-search/ARR-n_search=3000-n_top=1-1_responses.csv.zip\n",
      "1800 salmon/io/2021-07-01-arr-search/ARR-n_search=3000-n_top=1-1_responses.csv.zip\n",
      "2700 salmon/io/2021-07-01-arr-search/ARR-n_search=3000-n_top=1-1_responses.csv.zip\n",
      "1800 salmon/io/2021-05-26-search/TSTE-n_search=10000-1_responses.csv.zip\n",
      "5400 salmon/io/2021-07-01-arr-search/ARR-n_search=3000-n_top=1-1_responses.csv.zip\n",
      "2700 salmon/io/2021-05-26-search/TSTE-n_search=10000-1_responses.csv.zip\n",
      "450 salmon/io/2021-07-01-arr-search/ARR-n_search=30000-n_top=1-1_responses.csv.zip\n",
      "900 salmon/io/2021-07-01-arr-search/ARR-n_search=30000-n_top=1-1_responses.csv.zip\n",
      "1800 salmon/io/2021-07-01-arr-search/ARR-n_search=30000-n_top=1-1_responses.csv.zip\n",
      "2700 salmon/io/2021-07-01-arr-search/ARR-n_search=30000-n_top=1-1_responses.csv.zip\n",
      "5400 salmon/io/2021-07-01-arr-search/ARR-n_search=30000-n_top=1-1_responses.csv.zip\n",
      "3600 salmon/io/2021-05-26-search/TSTE-n_search=10000-1_responses.csv.zip\n",
      "4500 salmon/io/2021-05-26-search/TSTE-n_search=10000-1_responses.csv.zip\n",
      "450 salmon/io/2021-07-01-arr-search/ARR-n_search=352440-n_top=1-1_responses.csv.zip\n",
      "900 salmon/io/2021-07-01-arr-search/ARR-n_search=352440-n_top=1-1_responses.csv.zip\n",
      "1800 salmon/io/2021-07-01-arr-search/ARR-n_search=352440-n_top=1-1_responses.csv.zip\n",
      "2700 salmon/io/2021-07-01-arr-search/ARR-n_search=352440-n_top=1-1_responses.csv.zip\n",
      "5400 salmon/io/2021-07-01-arr-search/ARR-n_search=352440-n_top=1-1_responses.csv.zip\n",
      "5400 salmon/io/2021-05-26-search/TSTE-n_search=10000-1_responses.csv.zip\n",
      "3600 salmon/io/2021-05-26-search/TSTE-n_search=100-1_responses.csv.zip\n",
      "450 salmon/io/2021-07-01-arr-search/ARR-n_search=352440-n_top=10-1_responses.csv.zip\n",
      "900 salmon/io/2021-07-01-arr-search/ARR-n_search=352440-n_top=10-1_responses.csv.zip\n",
      "1800 salmon/io/2021-07-01-arr-search/ARR-n_search=352440-n_top=10-1_responses.csv.zip\n",
      "2700 salmon/io/2021-07-01-arr-search/ARR-n_search=352440-n_top=10-1_responses.csv.zip\n",
      "3600 salmon/io/2021-07-01-arr-search/ARR-n_search=352440-n_top=10-1_responses.csv.zip\n",
      "4500 salmon/io/2021-07-01-arr-search/ARR-n_search=352440-n_top=10-1_responses.csv.zip\n",
      "5400 salmon/io/2021-07-01-arr-search/ARR-n_search=352440-n_top=10-1_responses.csv.zip\n",
      "7200 salmon/io/2021-07-01-arr-search/ARR-n_search=352440-n_top=10-1_responses.csv.zip\n",
      "7200 salmon/io/2021-05-26-search/TSTE-n_search=10000-1_responses.csv.zip\n",
      "8100 salmon/io/2021-07-01-arr-search/ARR-n_search=352440-n_top=10-1_responses.csv.zip\n",
      "8100 salmon/io/2021-05-26-search/TSTE-n_search=10000-1_responses.csv.zip\n",
      "450 salmon/io/2021-07-01-arr-search/ARR-n_search=352440-n_top=100-1_responses.csv.zip\n",
      "900 salmon/io/2021-07-01-arr-search/ARR-n_search=352440-n_top=100-1_responses.csv.zip\n",
      "1800 salmon/io/2021-07-01-arr-search/ARR-n_search=352440-n_top=100-1_responses.csv.zip\n",
      "2700 salmon/io/2021-07-01-arr-search/ARR-n_search=352440-n_top=100-1_responses.csv.zip\n",
      "3600 salmon/io/2021-07-01-arr-search/ARR-n_search=352440-n_top=100-1_responses.csv.zip\n",
      "4500 salmon/io/2021-07-01-arr-search/ARR-n_search=352440-n_top=100-1_responses.csv.zip\n",
      "5400 salmon/io/2021-07-01-arr-search/ARR-n_search=352440-n_top=100-1_responses.csv.zip\n",
      "7200 salmon/io/2021-07-01-arr-search/ARR-n_search=352440-n_top=100-1_responses.csv.zip\n",
      "8100 salmon/io/2021-07-01-arr-search/ARR-n_search=352440-n_top=100-1_responses.csv.zip\n",
      "450 salmon/io/2021-07-01-arr-search/ARR-n_search=352440-n_top=1000-1_responses.csv.zip\n",
      "900 salmon/io/2021-07-01-arr-search/ARR-n_search=352440-n_top=1000-1_responses.csv.zip\n",
      "1800 salmon/io/2021-07-01-arr-search/ARR-n_search=352440-n_top=1000-1_responses.csv.zip\n",
      "2700 salmon/io/2021-07-01-arr-search/ARR-n_search=352440-n_top=1000-1_responses.csv.zip\n",
      "3600 salmon/io/2021-07-01-arr-search/ARR-n_search=352440-n_top=1000-1_responses.csv.zip\n",
      "4500 salmon/io/2021-07-01-arr-search/ARR-n_search=352440-n_top=1000-1_responses.csv.zip\n"
     ]
    }
   ],
   "source": [
    "v0 = _get_embeddings(\"_io/embeddings-v0.zip\", history=True)\n",
    "\n",
    "rares = v0"
   ]
  },
  {
   "cell_type": "code",
   "execution_count": 4,
   "id": "fca92b44-28a5-40e3-bd46-c306864d06c8",
   "metadata": {},
   "outputs": [],
   "source": [
    "from typing import Dict, Any\n",
    "from copy import deepcopy\n",
    "\n",
    "def select(r: Dict[str, Any]) -> bool:\n",
    "    if r[\"meta__alg\"] == \"random\":\n",
    "        return False\n",
    "    n_search = 90 * 89 * (88 // 2)\n",
    "    \n",
    "    # only select instances that vary n_top\n",
    "    if \"ARR-\" in r[\"meta__fname\"] and f\"n_search={n_search}\" in r[\"meta__fname\"]:\n",
    "#         if r[\"len_X_train\"] == 90 * 50:\n",
    "        if r[\"len_X_train\"] == 90 * 100:\n",
    "            return True\n",
    "    return False\n",
    "\n",
    "mrare = [r for r in rares if select(r[\"meta\"])]\n",
    "mwell = deepcopy(mrare)\n",
    "for m in mwell:\n",
    "    fname = m[\"meta\"][\"meta__fname\"]\n",
    "    remove = [\"ARR-\", \"-1_responses.csv.zip\"]\n",
    "    assert all(r in fname for r in remove)\n",
    "    clean_fname = deepcopy(fname)\n",
    "    for r in remove:\n",
    "        clean_fname = clean_fname.replace(r, \"\")\n",
    "    m[\"meta\"][\"clean_fname\"] = clean_fname\n",
    "    \n",
    "    _meta = clean_fname.replace(\"-\", \",\")\n",
    "    meta = eval(f\"dict({_meta})\")\n",
    "    m[\"meta\"].update(meta)\n",
    "    \n",
    "   "
   ]
  },
  {
   "cell_type": "code",
   "execution_count": 5,
   "id": "9b5c5f43-248e-43e1-9714-61afb0f530c1",
   "metadata": {},
   "outputs": [],
   "source": [
    "well = list(sorted(mwell, key=lambda m: m[\"meta\"][\"n_top\"]))\n",
    "out = well"
   ]
  },
  {
   "cell_type": "code",
   "execution_count": 9,
   "id": "aaeb6564-4180-4616-a460-954a914faf7b",
   "metadata": {},
   "outputs": [
    {
     "data": {
      "text/plain": [
       "(0.0, 1.0)"
      ]
     },
     "execution_count": 9,
     "metadata": {},
     "output_type": "execute_result"
    },
    {
     "data": {
      "text/plain": [
       "(0.0, 1.0)"
      ]
     },
     "execution_count": 9,
     "metadata": {},
     "output_type": "execute_result"
    },
    {
     "data": {
      "text/plain": [
       "(0.0, 1.0)"
      ]
     },
     "execution_count": 9,
     "metadata": {},
     "output_type": "execute_result"
    },
    {
     "data": {
      "image/png": "[encoded data removed]",
      "text/plain": [
       "<Figure size 1080x360 with 3 Axes>"
      ]
     },
     "metadata": {
      "image/png": {
       "height": 318,
       "width": 882
      },
      "needs_background": "light"
     },
     "output_type": "display_data"
    }
   ],
   "source": [
    "import matplotlib.pyplot as plt\n",
    "import matplotlib.cm as cm\n",
    "\n",
    "w = 5\n",
    "fig, axs = plt.subplots(ncols=3, figsize=(3 * w, w))\n",
    "cmap = cm.viridis\n",
    "\n",
    "hue_order = list(sorted({m[\"meta\"][\"n_top\"] for m in out}))\n",
    "# print(hue_order)\n",
    "for ax, nm in zip(axs, [\"CKL\", \"TSTE\", \"SOE\"]):\n",
    "    __show = [o for o in out if o[\"meta\"][\"noise_model\"] == nm]\n",
    "    _ = ax.set_title(nm)\n",
    "    for k, m in enumerate(__show):\n",
    "        if m[\"meta\"][\"n_top\"] not in hue_order:\n",
    "            continue\n",
    "        ax = sns.lineplot(\n",
    "            x=\"_epochs\",\n",
    "            y=\"stats__nn_diff_mean\",\n",
    "            data=pd.DataFrame(m[\"history\"]),\n",
    "            ax=ax,\n",
    "            color=cmap(k / (max(1, len(hue_order) - 1))),\n",
    "            label=m[\"meta\"][\"n_top\"],\n",
    "        )\n",
    "        from pprint import pprint\n",
    "#         pprint(m[\"meta\"])\n",
    "#     ax.set_ylim(0.80, 0.84)\n",
    "    ax.grid(alpha=0.6)\n",
    "    ax.set_xlim(0, None)\n"
   ]
  },
  {
   "cell_type": "code",
   "execution_count": 7,
   "id": "85b92ca7-ddb4-48f5-9f03-400d40d533e6",
   "metadata": {},
   "outputs": [
    {
     "ename": "AssertionError",
     "evalue": "0",
     "output_type": "error",
     "traceback": [
      "\u001b[0;31m---------------------------------------------------------------------------\u001b[0m",
      "\u001b[0;31mAssertionError\u001b[0m                            Traceback (most recent call last)",
      "\u001b[0;32m<ipython-input-7-64bfd20e7b6b>\u001b[0m in \u001b[0;36m<module>\u001b[0;34m\u001b[0m\n\u001b[1;32m      1\u001b[0m \u001b[0m__ds\u001b[0m \u001b[0;34m=\u001b[0m \u001b[0;34m[\u001b[0m\u001b[0mm\u001b[0m \u001b[0;32mfor\u001b[0m \u001b[0mm\u001b[0m \u001b[0;32min\u001b[0m \u001b[0mout\u001b[0m \u001b[0;32mif\u001b[0m \u001b[0mm\u001b[0m\u001b[0;34m[\u001b[0m\u001b[0;34m\"meta\"\u001b[0m\u001b[0;34m]\u001b[0m\u001b[0;34m[\u001b[0m\u001b[0;34m\"noise_model\"\u001b[0m\u001b[0;34m]\u001b[0m \u001b[0;34m==\u001b[0m \u001b[0;34m\"CKL\"\u001b[0m \u001b[0;32mand\u001b[0m \u001b[0mm\u001b[0m\u001b[0;34m[\u001b[0m\u001b[0;34m\"meta\"\u001b[0m\u001b[0;34m]\u001b[0m\u001b[0;34m[\u001b[0m\u001b[0;34m\"n_top\"\u001b[0m\u001b[0;34m]\u001b[0m \u001b[0;34m==\u001b[0m \u001b[0;36m1\u001b[0m\u001b[0;34m]\u001b[0m\u001b[0;34m\u001b[0m\u001b[0;34m\u001b[0m\u001b[0m\n\u001b[0;32m----> 2\u001b[0;31m \u001b[0;32massert\u001b[0m \u001b[0mlen\u001b[0m\u001b[0;34m(\u001b[0m\u001b[0m__ds\u001b[0m\u001b[0;34m)\u001b[0m \u001b[0;34m==\u001b[0m \u001b[0;36m1\u001b[0m\u001b[0;34m,\u001b[0m \u001b[0mlen\u001b[0m\u001b[0;34m(\u001b[0m\u001b[0m__ds\u001b[0m\u001b[0;34m)\u001b[0m\u001b[0;34m\u001b[0m\u001b[0;34m\u001b[0m\u001b[0m\n\u001b[0m\u001b[1;32m      3\u001b[0m \u001b[0m__d\u001b[0m \u001b[0;34m=\u001b[0m \u001b[0m__ds\u001b[0m\u001b[0;34m[\u001b[0m\u001b[0;36m0\u001b[0m\u001b[0;34m]\u001b[0m\u001b[0;34m\u001b[0m\u001b[0;34m\u001b[0m\u001b[0m\n",
      "\u001b[0;31mAssertionError\u001b[0m: 0"
     ]
    }
   ],
   "source": [
    "__ds = [m for m in out if m[\"meta\"][\"noise_model\"] == \"CKL\" and m[\"meta\"][\"n_top\"] == 1]\n",
    "assert len(__ds) == 1, len(__ds)\n",
    "__d = __ds[0]"
   ]
  },
  {
   "cell_type": "code",
   "execution_count": 8,
   "id": "bfbee657-f952-426b-80da-5e6bf3063761",
   "metadata": {},
   "outputs": [
    {
     "ename": "NameError",
     "evalue": "name '__d' is not defined",
     "output_type": "error",
     "traceback": [
      "\u001b[0;31m---------------------------------------------------------------------------\u001b[0m",
      "\u001b[0;31mNameError\u001b[0m                                 Traceback (most recent call last)",
      "\u001b[0;32m<ipython-input-8-daddf44d5f5d>\u001b[0m in \u001b[0;36m<module>\u001b[0;34m\u001b[0m\n\u001b[1;32m      1\u001b[0m \u001b[0;32mimport\u001b[0m \u001b[0maltair\u001b[0m \u001b[0;32mas\u001b[0m \u001b[0malt\u001b[0m\u001b[0;34m\u001b[0m\u001b[0;34m\u001b[0m\u001b[0m\n\u001b[1;32m      2\u001b[0m \u001b[0;32mimport\u001b[0m \u001b[0mnumpy\u001b[0m \u001b[0;32mas\u001b[0m \u001b[0mnp\u001b[0m\u001b[0;34m\u001b[0m\u001b[0;34m\u001b[0m\u001b[0m\n\u001b[0;32m----> 3\u001b[0;31m \u001b[0m__e\u001b[0m \u001b[0;34m=\u001b[0m \u001b[0mpd\u001b[0m\u001b[0;34m.\u001b[0m\u001b[0mDataFrame\u001b[0m\u001b[0;34m(\u001b[0m\u001b[0m__d\u001b[0m\u001b[0;34m[\u001b[0m\u001b[0;34m\"embedding\"\u001b[0m\u001b[0;34m]\u001b[0m\u001b[0;34m)\u001b[0m\u001b[0;34m\u001b[0m\u001b[0;34m\u001b[0m\u001b[0m\n\u001b[0m\u001b[1;32m      4\u001b[0m \u001b[0m__e\u001b[0m\u001b[0;34m.\u001b[0m\u001b[0mcolumns\u001b[0m \u001b[0;34m=\u001b[0m \u001b[0;34m[\u001b[0m\u001b[0;34m\"x\"\u001b[0m\u001b[0;34m,\u001b[0m \u001b[0;34m\"y\"\u001b[0m\u001b[0;34m]\u001b[0m\u001b[0;34m\u001b[0m\u001b[0;34m\u001b[0m\u001b[0m\n\u001b[1;32m      5\u001b[0m \u001b[0m__e\u001b[0m\u001b[0;34m[\u001b[0m\u001b[0;34m\"smoothness\"\u001b[0m\u001b[0;34m]\u001b[0m \u001b[0;34m=\u001b[0m \u001b[0mnp\u001b[0m\u001b[0;34m.\u001b[0m\u001b[0marange\u001b[0m\u001b[0;34m(\u001b[0m\u001b[0mlen\u001b[0m\u001b[0;34m(\u001b[0m\u001b[0m__e\u001b[0m\u001b[0;34m)\u001b[0m\u001b[0;34m)\u001b[0m\u001b[0;34m\u001b[0m\u001b[0;34m\u001b[0m\u001b[0m\n",
      "\u001b[0;31mNameError\u001b[0m: name '__d' is not defined"
     ]
    }
   ],
   "source": [
    "import altair as alt\n",
    "import numpy as np\n",
    "__e = pd.DataFrame(__d[\"embedding\"])\n",
    "__e.columns = [\"x\", \"y\"]\n",
    "__e[\"smoothness\"] = np.arange(len(__e))\n",
    "alt.Chart(__e).mark_circle(size=100).encode(\n",
    "    x=\"x\",\n",
    "    y=\"y\",\n",
    "    color=\"smoothness\",\n",
    ")"
   ]
  },
  {
   "cell_type": "code",
   "execution_count": null,
   "id": "b5cf1ea4-55b1-4f76-9d39-ae3adccfa068",
   "metadata": {},
   "outputs": [],
   "source": []
  }
 ],
 "metadata": {
  "kernelspec": {
   "display_name": "Python [conda env:root] *",
   "language": "python",
   "name": "conda-root-py"
  },
  "language_info": {
   "codemirror_mode": {
    "name": "ipython",
    "version": 3
   },
   "file_extension": ".py",
   "mimetype": "text/x-python",
   "name": "python",
   "nbconvert_exporter": "python",
   "pygments_lexer": "ipython3",
   "version": "3.8.8"
  }
 },
 "nbformat": 4,
 "nbformat_minor": 5
}
