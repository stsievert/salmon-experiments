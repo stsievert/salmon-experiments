{
 "cells": [
  {
   "cell_type": "markdown",
   "id": "c458dd82-4e77-4d31-8c74-2bfebabca5ee",
   "metadata": {},
   "source": [
    "* Plot 1:\n",
    "    * hue: [salmon, next]\n",
    "    * x: number of responses\n",
    "    * y: accuracy of *online* embedding\n",
    "    * data: low rate\n",
    "    \n",
    "* Plot 2:\n",
    "    * hue: [salmon, next]\n",
    "    * x: rate of responses\n",
    "    * y: median delay time"
   ]
  },
  {
   "cell_type": "code",
   "execution_count": 136,
   "id": "279faa30-3513-4c82-928e-9acd67f813dc",
   "metadata": {},
   "outputs": [
    {
     "name": "stdout",
     "output_type": "stream",
     "text": [
      "0.5 21730\n",
      "1 21756\n",
      "2 21897\n",
      "5 21961\n"
     ]
    }
   ],
   "source": [
    "import msgpack\n",
    "from copy import deepcopy\n",
    "import pandas as pd\n",
    "import numpy as np\n",
    "\n",
    "from responses import _cook_next\n",
    "from typing import Dict, Any\n",
    "\n",
    "def _get_rate_data(df: pd.DataFrame, **kwargs) -> Dict[str, Any]:\n",
    "    rates = df[\"time_from_start\"].astype(int).value_counts().to_numpy()\n",
    "    return {\"rate_median\": np.median(rates), \"rate_mean\": np.mean(rates), **kwargs}\n",
    "\n",
    "def _get_next_df(rate):\n",
    "    with open(f\"next/io/{today}/rate={rate}_responses.msgpack\", \"rb\") as f:\n",
    "        raw = msgpack.load(f)\n",
    "    df = _cook_next(raw)\n",
    "    print(rate, len(df))\n",
    "    if not len(df):\n",
    "        raise ValueError(\"No responses collected\")\n",
    "    key = \"timestamp_query_generated\"\n",
    "    df[key] = pd.to_datetime(df[key])\n",
    "    df = df.sort_values(by=key)\n",
    "    df[\"time_from_start\"] = (df[key] - df[key].min()).dt.total_seconds()\n",
    "    df[\"yes\"] = 1\n",
    "\n",
    "    for key in [\"head\", \"left\", \"right\"]:\n",
    "        df[f\"{key}_smooth\"] = df[f\"{key}_obj\"].apply(lambda x: int(x.strip(\"i.png\")))\n",
    "    df[\"dist_l\"] = np.abs(df[\"head_smooth\"] - df[\"left_smooth\"])\n",
    "    df[\"dist_r\"] = np.abs(df[\"head_smooth\"] - df[\"right_smooth\"])\n",
    "    left_wins = df[\"dist_l\"] < df[\"dist_r\"]\n",
    "    df[\"winning_side\"] = \"right\"\n",
    "    df.loc[left_wins, \"winning_side\"] = \"left\"\n",
    "    df = df.iloc[1000:]\n",
    "    return df\n",
    "\n",
    "today = \"2021-05-24\"\n",
    "\n",
    "rate_data = []\n",
    "rates = [0.5, 1, 2, 5]\n",
    "dfs = {rate: _get_next_df(rate) for rate in rates}\n",
    "for rate, _df in dfs.items():\n",
    "    _df[\"rate\"] = rate\n",
    "    _df[\"system\"] = \"next\"\n",
    "    rate_data.append(_get_rate_data(_df, rate=rate, system=\"next\"))\n",
    "    \n",
    "next_responses = pd.concat(list(dfs.values()))"
   ]
  },
  {
   "cell_type": "code",
   "execution_count": 137,
   "id": "9ed5650f-c102-46fe-841d-f9de117e1d21",
   "metadata": {},
   "outputs": [
    {
     "data": {
      "text/plain": [
       "Index(['head', 'left', 'right', 'winner', 'alg_ident', 'score', 'puid',\n",
       "       'response_time', 'network_latency', 'time_received', 'loser',\n",
       "       'left_html', 'right_html', 'head_html', 'winner_html', 'loser_html',\n",
       "       'left_filename', 'right_filename', 'head_filename', 'winner_filename',\n",
       "       'loser_filename', 'time_received_since_start', 'datetime_received',\n",
       "       'start_time', 'n', 'd', 'R', 'dataset', 'random_state', 'init',\n",
       "       'max_queries', 'fname', 'alg', 'responses_per_sec', 'url',\n",
       "       'response_time_mean', 'n_users', 'rate', 'system', 'network_delay',\n",
       "       'time_from_start'],\n",
       "      dtype='object')"
      ]
     },
     "execution_count": 137,
     "metadata": {},
     "output_type": "execute_result"
    }
   ],
   "source": [
    "def _get_salmon_df(rate):\n",
    "    fname = f\"salmon/io/2021-05-25/ARR-{rate}_responses.csv.zip\"\n",
    "    df = pd.read_csv(fname)\n",
    "    df = df.drop(columns=[\"Unnamed: 0\"])\n",
    "    df = df.iloc[1000:]\n",
    "    return df\n",
    "    \n",
    "dfs = {rate: _get_salmon_df(rate) for rate in [0.5, 1, 2, 5, 10]}\n",
    "for rate, _df in dfs.items():\n",
    "    _df[\"rate\"] = rate\n",
    "    _df[\"system\"] = \"salmon\"\n",
    "    for puid in _df.puid.unique():\n",
    "        s = _df[_df.puid == puid].sort_values(by=\"time_received\")\n",
    "        gap = s[\"time_received\"].diff()\n",
    "        network_delay = np.clip(gap - s[\"response_time\"], 0, 10000)\n",
    "        _df.loc[_df.puid == puid, \"network_delay\"] = network_delay\n",
    "    _df[\"time_from_start\"] = _df[\"time_received\"] - _df[\"time_received\"].min()\n",
    "    rate_data.append(_get_rate_data(_df, rate=rate, system=\"salmon\"))\n",
    "\n",
    "\n",
    "salmon_responses = pd.concat(list(dfs.values()))\n",
    "salmon_responses.columns"
   ]
  },
  {
   "cell_type": "code",
   "execution_count": 140,
   "id": "082428f1-adaf-43db-88e4-f2dc2622ab32",
   "metadata": {},
   "outputs": [],
   "source": [
    "# import seaborn as sns\n",
    "# ax = sns.lineplot(\n",
    "#     x=\"rate\",\n",
    "#     y=\"rate_media\",\n",
    "#     hue=\"system\",\n",
    "#     data=pd.DataFrame(rate_data)\n",
    "# )\n",
    "# # ax.set_xscale(\"log\", basex=2)\n",
    "# # ax.set_yscale(\"log\", basey=2)\n",
    "# ax.grid(alpha=0.5)\n",
    "# lim = (0.5, 10)\n",
    "# ax.set_xlim(*lim)\n",
    "# ax.set_ylim(*lim)\n",
    "# x = np.arange(*lim)\n",
    "# ax.plot(x, x)"
   ]
  },
  {
   "cell_type": "code",
   "execution_count": 158,
   "id": "f8dee34a-bbd2-4b6f-9016-d9270dce32f0",
   "metadata": {},
   "outputs": [
    {
     "name": "stdout",
     "output_type": "stream",
     "text": [
      "37\n"
     ]
    },
    {
     "data": {
      "image/png": "[encoded data removed]",
      "text/plain": [
       "<Figure size 432x144 with 1 Axes>"
      ]
     },
     "metadata": {
      "image/png": {
       "height": 182,
       "width": 401
      },
      "needs_background": "light"
     },
     "output_type": "display_data"
    }
   ],
   "source": [
    "next_delays = next_responses[[\"network_delay\", \"rate\", \"system\"]]\n",
    "salmon_delays = salmon_responses[[\"network_delay\", \"rate\", \"system\"]]\n",
    "df = pd.concat((salmon_delays, next_delays))\n",
    "df[\"network_delay\"] = np.abs(df[\"network_delay\"])\n",
    "print(df[\"network_delay\"].isnull().sum())\n",
    "df[\"network_delay\"].isnull().sum() / len(df)\n",
    "\n",
    "rate = 2\n",
    "d = df.loc[df.rate == rate]\n",
    "d = d[~d[\"network_delay\"].isnull()]\n",
    "\n",
    "w = 2\n",
    "fig, ax = plt.subplots(figsize=(3 * w, 1 * w))\n",
    "\n",
    "kwargs = dict(density=False)\n",
    "max_ = 4\n",
    "\n",
    "x = d.loc[d.system == \"next\", \"network_delay\"]\n",
    "x = np.clip(x, 0, max_)\n",
    "\n",
    "x.plot.hist(ax=ax, bins=10, color=\"C0\", label=\"next\", **kwargs)\n",
    "\n",
    "x = d.loc[d.system == \"salmon\", \"network_delay\"]\n",
    "x = np.clip(x, 0, max_)\n",
    "x.plot.hist(ax=ax, bins=40, alpha=1.0, color=\"C1\", label=\"salmon\", **kwargs)\n",
    "ax.set_xlim(0, max_)\n",
    "ax.legend(loc=\"best\")\n",
    "ax.set_xlabel(\"Client-side delay (s)\")\n",
    "ax.yaxis.set_major_formatter(plt.FuncFormatter(lambda x, _: f\"{int(x / 1000)}\"))\n",
    "ax.set_ylabel(\"Freuqency\\n(thousands)\")\n",
    "ax.grid(alpha=0.4)\n",
    "ax.set_title(f\"Client-side delay\\nfor {rate} \\\"responses/sec\\\"\")\n",
    "\n",
    "\n",
    "fig.savefig(\"figs/client-side-timing.png\", dpi=300, bbox_inches=\"tight\", transparent=True)\n"
   ]
  },
  {
   "cell_type": "code",
   "execution_count": 14,
   "id": "a31e8eb4-be84-4532-8adc-62a7657d6d51",
   "metadata": {},
   "outputs": [
    {
     "data": {
      "text/html": [
       "<div>\n",
       "<style scoped>\n",
       "    .dataframe tbody tr th:only-of-type {\n",
       "        vertical-align: middle;\n",
       "    }\n",
       "\n",
       "    .dataframe tbody tr th {\n",
       "        vertical-align: top;\n",
       "    }\n",
       "\n",
       "    .dataframe thead th {\n",
       "        text-align: right;\n",
       "    }\n",
       "</style>\n",
       "<table border=\"1\" class=\"dataframe\">\n",
       "  <thead>\n",
       "    <tr style=\"text-align: right;\">\n",
       "      <th></th>\n",
       "      <th>network_delay</th>\n",
       "      <th>rate</th>\n",
       "      <th>system</th>\n",
       "    </tr>\n",
       "  </thead>\n",
       "  <tbody>\n",
       "    <tr>\n",
       "      <th>0</th>\n",
       "      <td>0.0</td>\n",
       "      <td>1.0</td>\n",
       "      <td>next</td>\n",
       "    </tr>\n",
       "    <tr>\n",
       "      <th>10889</th>\n",
       "      <td>0.0</td>\n",
       "      <td>1.0</td>\n",
       "      <td>next</td>\n",
       "    </tr>\n",
       "    <tr>\n",
       "      <th>1</th>\n",
       "      <td>0.0</td>\n",
       "      <td>1.0</td>\n",
       "      <td>next</td>\n",
       "    </tr>\n",
       "    <tr>\n",
       "      <th>10890</th>\n",
       "      <td>0.0</td>\n",
       "      <td>1.0</td>\n",
       "      <td>next</td>\n",
       "    </tr>\n",
       "    <tr>\n",
       "      <th>2</th>\n",
       "      <td>0.0</td>\n",
       "      <td>1.0</td>\n",
       "      <td>next</td>\n",
       "    </tr>\n",
       "    <tr>\n",
       "      <th>...</th>\n",
       "      <td>...</td>\n",
       "      <td>...</td>\n",
       "      <td>...</td>\n",
       "    </tr>\n",
       "    <tr>\n",
       "      <th>10884</th>\n",
       "      <td>0.0</td>\n",
       "      <td>1.0</td>\n",
       "      <td>next</td>\n",
       "    </tr>\n",
       "    <tr>\n",
       "      <th>10885</th>\n",
       "      <td>0.0</td>\n",
       "      <td>1.0</td>\n",
       "      <td>next</td>\n",
       "    </tr>\n",
       "    <tr>\n",
       "      <th>10886</th>\n",
       "      <td>0.0</td>\n",
       "      <td>1.0</td>\n",
       "      <td>next</td>\n",
       "    </tr>\n",
       "    <tr>\n",
       "      <th>10887</th>\n",
       "      <td>0.0</td>\n",
       "      <td>1.0</td>\n",
       "      <td>next</td>\n",
       "    </tr>\n",
       "    <tr>\n",
       "      <th>10888</th>\n",
       "      <td>0.0</td>\n",
       "      <td>1.0</td>\n",
       "      <td>next</td>\n",
       "    </tr>\n",
       "  </tbody>\n",
       "</table>\n",
       "<p>21756 rows × 3 columns</p>\n",
       "</div>"
      ],
      "text/plain": [
       "       network_delay  rate system\n",
       "0                0.0   1.0   next\n",
       "10889            0.0   1.0   next\n",
       "1                0.0   1.0   next\n",
       "10890            0.0   1.0   next\n",
       "2                0.0   1.0   next\n",
       "...              ...   ...    ...\n",
       "10884            0.0   1.0   next\n",
       "10885            0.0   1.0   next\n",
       "10886            0.0   1.0   next\n",
       "10887            0.0   1.0   next\n",
       "10888            0.0   1.0   next\n",
       "\n",
       "[21756 rows x 3 columns]"
      ]
     },
     "execution_count": 14,
     "metadata": {},
     "output_type": "execute_result"
    },
    {
     "data": {
      "image/png": "[encoded data removed]",
      "text/plain": [
       "<Figure size 432x288 with 1 Axes>"
      ]
     },
     "metadata": {
      "image/png": {
       "height": 252,
       "width": 380
      },
      "needs_background": "light"
     },
     "output_type": "display_data"
    }
   ],
   "source": [
    "import matplotlib.pyplot as plt\n",
    "fig, ax = plt.subplots()\n",
    "\n",
    "rate = 1.\n",
    "system = \"next\"\n",
    "df[(df.rate == rate) & (df.system == system)]"
   ]
  },
  {
   "cell_type": "code",
   "execution_count": 258,
   "id": "385e3852-8c34-4727-aed7-9b92d8694699",
   "metadata": {},
   "outputs": [
    {
     "name": "stdout",
     "output_type": "stream",
     "text": [
      "0.5010245435089477 0.5000227676335322\n"
     ]
    },
    {
     "data": {
      "text/plain": [
       "0.8330677109421247"
      ]
     },
     "execution_count": 258,
     "metadata": {},
     "output_type": "execute_result"
    }
   ],
   "source": [
    "inning_side = df[\"winning_side\"] == \"right\"\n",
    "\n",
    "df[\"human_answer\"] = \"left\"\n",
    "right_wins = df[\"right_obj\"] == df[\"winner_obj\"]\n",
    "left_wins = df[\"left_obj\"] == df[\"winner_obj\"]\n",
    "head_wins = df[\"head_obj\"] == df[\"winner_obj\"]\n",
    "right_wins.sum(), left_wins.sum(), head_wins.sum()\n",
    "df.loc[right_wins, \"human_answer\"] = \"right\"\n",
    "\n",
    "print(right_wins.mean(), winning_side.mean())  # good; randomized\n",
    "\n",
    "(df[\"human_answer\"] == df[\"winning_side\"]).mean()"
   ]
  },
  {
   "cell_type": "code",
   "execution_count": 259,
   "id": "54f98c9e-0705-49c6-a55f-bef060e3e9ab",
   "metadata": {},
   "outputs": [
    {
     "data": {
      "text/html": [
       "<div>\n",
       "<style scoped>\n",
       "    .dataframe tbody tr th:only-of-type {\n",
       "        vertical-align: middle;\n",
       "    }\n",
       "\n",
       "    .dataframe tbody tr th {\n",
       "        vertical-align: top;\n",
       "    }\n",
       "\n",
       "    .dataframe thead th {\n",
       "        text-align: right;\n",
       "    }\n",
       "</style>\n",
       "<table border=\"1\" class=\"dataframe\">\n",
       "  <thead>\n",
       "    <tr style=\"text-align: right;\">\n",
       "      <th></th>\n",
       "      <th>human_answer</th>\n",
       "      <th>winning_side</th>\n",
       "    </tr>\n",
       "    <tr>\n",
       "      <th>time_from_start</th>\n",
       "      <th></th>\n",
       "      <th></th>\n",
       "    </tr>\n",
       "  </thead>\n",
       "  <tbody>\n",
       "    <tr>\n",
       "      <th>0 days 00:00:00</th>\n",
       "      <td>left</td>\n",
       "      <td>right</td>\n",
       "    </tr>\n",
       "    <tr>\n",
       "      <th>0 days 00:00:00.529081</th>\n",
       "      <td>left</td>\n",
       "      <td>left</td>\n",
       "    </tr>\n",
       "    <tr>\n",
       "      <th>0 days 00:00:01.390088</th>\n",
       "      <td>left</td>\n",
       "      <td>left</td>\n",
       "    </tr>\n",
       "    <tr>\n",
       "      <th>0 days 00:00:01.406686</th>\n",
       "      <td>left</td>\n",
       "      <td>left</td>\n",
       "    </tr>\n",
       "    <tr>\n",
       "      <th>0 days 00:00:02.452182</th>\n",
       "      <td>right</td>\n",
       "      <td>left</td>\n",
       "    </tr>\n",
       "    <tr>\n",
       "      <th>0 days 00:00:02.958921</th>\n",
       "      <td>right</td>\n",
       "      <td>right</td>\n",
       "    </tr>\n",
       "    <tr>\n",
       "      <th>0 days 00:00:03.105983</th>\n",
       "      <td>left</td>\n",
       "      <td>right</td>\n",
       "    </tr>\n",
       "    <tr>\n",
       "      <th>0 days 00:00:03.570152</th>\n",
       "      <td>right</td>\n",
       "      <td>right</td>\n",
       "    </tr>\n",
       "    <tr>\n",
       "      <th>0 days 00:00:04.010182</th>\n",
       "      <td>right</td>\n",
       "      <td>right</td>\n",
       "    </tr>\n",
       "    <tr>\n",
       "      <th>0 days 00:00:04.011927</th>\n",
       "      <td>right</td>\n",
       "      <td>right</td>\n",
       "    </tr>\n",
       "  </tbody>\n",
       "</table>\n",
       "</div>"
      ],
      "text/plain": [
       "                       human_answer winning_side\n",
       "time_from_start                                 \n",
       "0 days 00:00:00                left        right\n",
       "0 days 00:00:00.529081         left         left\n",
       "0 days 00:00:01.390088         left         left\n",
       "0 days 00:00:01.406686         left         left\n",
       "0 days 00:00:02.452182        right         left\n",
       "0 days 00:00:02.958921        right        right\n",
       "0 days 00:00:03.105983         left        right\n",
       "0 days 00:00:03.570152        right        right\n",
       "0 days 00:00:04.010182        right        right\n",
       "0 days 00:00:04.011927        right        right"
      ]
     },
     "execution_count": 259,
     "metadata": {},
     "output_type": "execute_result"
    }
   ],
   "source": [
    "df[[\"human_answer\", \"winning_side\"]].iloc[:10]"
   ]
  },
  {
   "cell_type": "code",
   "execution_count": 260,
   "id": "f7a13e73-8567-41d0-a40c-4781c08c4084",
   "metadata": {},
   "outputs": [
    {
     "data": {
      "text/plain": [
       "rate\n",
       "5    AxesSubplot(0.125,0.125;0.775x0.755)\n",
       "Name: network_delay, dtype: object"
      ]
     },
     "execution_count": 260,
     "metadata": {},
     "output_type": "execute_result"
    },
    {
     "data": {
      "image/png": "[encoded data removed]",
      "text/plain": [
       "<Figure size 432x288 with 1 Axes>"
      ]
     },
     "metadata": {
      "image/png": {
       "height": 248,
       "width": 395
      },
      "needs_background": "light"
     },
     "output_type": "display_data"
    }
   ],
   "source": [
    "df.groupby(\"rate\")[\"network_delay\"].plot.hist(alpha=0.5)"
   ]
  },
  {
   "cell_type": "code",
   "execution_count": 261,
   "id": "4e9a2bd8-62c2-459b-a11f-df83e1a8fd7d",
   "metadata": {},
   "outputs": [],
   "source": [
    "# _responses_per_sec = df.index.total_seconds().astype(int).value_counts().to_numpy()\n",
    "# responses_per_sec = pd.Series(_responses_per_sec)\n",
    "# responses_per_sec.plot.hist()"
   ]
  },
  {
   "cell_type": "code",
   "execution_count": 262,
   "id": "ae286b70-546f-45ff-83fe-e332eea42770",
   "metadata": {},
   "outputs": [
    {
     "name": "stdout",
     "output_type": "stream",
     "text": [
      "29844.430208\n"
     ]
    },
    {
     "data": {
      "text/plain": [
       "(0.0, 800.0)"
      ]
     },
     "execution_count": 262,
     "metadata": {},
     "output_type": "execute_result"
    },
    {
     "data": {
      "image/png": "[encoded data removed]",
      "text/plain": [
       "<Figure size 432x288 with 1 Axes>"
      ]
     },
     "metadata": {
      "image/png": {
       "height": 248,
       "width": 372
      },
      "needs_background": "light"
     },
     "output_type": "display_data"
    }
   ],
   "source": [
    "from datetime import timedelta\n",
    "import matplotlib.pyplot as plt\n",
    "n_sec = 100\n",
    "def _get_rps(df):\n",
    "    responses_p_sec = df.rolling(f\"{n_sec}s\")[\"yes\"].sum() / n_sec\n",
    "    rps = responses_p_sec.reset_index()\n",
    "    rps[\"secs_from_start\"] = rps[\"time_from_start\"].dt.total_seconds()\n",
    "    return rps\n",
    "\n",
    "RPS = {rate: _get_rps(df[df.rate == rate]) for rate in df.rate.unique()}\n",
    "\n",
    "fig, ax = plt.subplots()\n",
    "# X = [0, 25e3]\n",
    "X = None\n",
    "total_time = 0\n",
    "for k, rate in enumerate(reversed(rates)):\n",
    "    rps = RPS[rate]\n",
    "    total_time += rps[\"secs_from_start\"].max()\n",
    "    ax.plot(rps.secs_from_start, rps.yes, f\"C{k}\", alpha=0.8, label=rate)\n",
    "    if X:\n",
    "        ax.plot(X, [rate, rate])\n",
    "    else:\n",
    "        ax.set_xlim(0, 800)\n",
    "\n",
    "print(total_time)\n",
    "ax.grid(alpha=0.6)\n",
    "ax.set_ylim(0, None)\n",
    "ax.set_xlim(0, None)"
   ]
  },
  {
   "cell_type": "code",
   "execution_count": null,
   "id": "0b873468-c84f-4dad-af92-05721e3485d6",
   "metadata": {},
   "outputs": [],
   "source": []
  },
  {
   "cell_type": "code",
   "execution_count": null,
   "id": "1b42198a-dc00-4cfc-a151-d1b99461194b",
   "metadata": {},
   "outputs": [],
   "source": []
  }
 ],
 "metadata": {
  "kernelspec": {
   "display_name": "Python 3",
   "language": "python",
   "name": "python3"
  },
  "language_info": {
   "codemirror_mode": {
    "name": "ipython",
    "version": 3
   },
   "file_extension": ".py",
   "mimetype": "text/x-python",
   "name": "python",
   "nbconvert_exporter": "python",
   "pygments_lexer": "ipython3",
   "version": "3.8.8"
  }
 },
 "nbformat": 4,
 "nbformat_minor": 5
}
