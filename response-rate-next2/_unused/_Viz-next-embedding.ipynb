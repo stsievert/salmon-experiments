{
 "cells": [
  {
   "cell_type": "code",
   "execution_count": 94,
   "id": "25db71c9-ef74-4156-a7f1-a5e46f39a09c",
   "metadata": {},
   "outputs": [],
   "source": [
    "import pandas as pd\n",
    "import json\n",
    "import numpy as np\n",
    "\n",
    "with open(\"embedding(6).txt\", \"r\") as f:\n",
    "    d = json.load(f)\n",
    "em = [di[\"darray\"] for di in d]\n",
    "df = pd.DataFrame(em)\n",
    "df.columns = [\"x\", \"y\"]\n",
    "df[\"smoothness\"] = np.arange(len(df))"
   ]
  },
  {
   "cell_type": "code",
   "execution_count": null,
   "id": "ebe91a07-0417-4088-8e3a-e9509ac85f0e",
   "metadata": {},
   "outputs": [],
   "source": []
  },
  {
   "cell_type": "code",
   "execution_count": 95,
   "id": "76d49728-49a9-439d-9071-747c2872ec08",
   "metadata": {},
   "outputs": [
    {
     "data": {
      "text/html": [
       "\n",
       "<div id=\"altair-viz-ee133b1862d44bf3a884e801589a7f51\"></div>\n",
       "<script type=\"text/javascript\">\n",
       "  (function(spec, embedOpt){\n",
       "    let outputDiv = document.currentScript.previousElementSibling;\n",
       "    if (outputDiv.id !== \"altair-viz-ee133b1862d44bf3a884e801589a7f51\") {\n",
       "      outputDiv = document.getElementById(\"altair-viz-ee133b1862d44bf3a884e801589a7f51\");\n",
       "    }\n",
       "    const paths = {\n",
       "      \"vega\": \"https://cdn.jsdelivr.net/npm//vega@5?noext\",\n",
       "      \"vega-lib\": \"https://cdn.jsdelivr.net/npm//vega-lib?noext\",\n",
       "      \"vega-lite\": \"https://cdn.jsdelivr.net/npm//vega-lite@4.8.1?noext\",\n",
       "      \"vega-embed\": \"https://cdn.jsdelivr.net/npm//vega-embed@6?noext\",\n",
       "    };\n",
       "\n",
       "    function loadScript(lib) {\n",
       "      return new Promise(function(resolve, reject) {\n",
       "        var s = document.createElement('script');\n",
       "        s.src = paths[lib];\n",
       "        s.async = true;\n",
       "        s.onload = () => resolve(paths[lib]);\n",
       "        s.onerror = () => reject(`Error loading script: ${paths[lib]}`);\n",
       "        document.getElementsByTagName(\"head\")[0].appendChild(s);\n",
       "      });\n",
       "    }\n",
       "\n",
       "    function showError(err) {\n",
       "      outputDiv.innerHTML = `<div class=\"error\" style=\"color:red;\">${err}</div>`;\n",
       "      throw err;\n",
       "    }\n",
       "\n",
       "    function displayChart(vegaEmbed) {\n",
       "      vegaEmbed(outputDiv, spec, embedOpt)\n",
       "        .catch(err => showError(`Javascript Error: ${err.message}<br>This usually means there's a typo in your chart specification. See the javascript console for the full traceback.`));\n",
       "    }\n",
       "\n",
       "    if(typeof define === \"function\" && define.amd) {\n",
       "      requirejs.config({paths});\n",
       "      require([\"vega-embed\"], displayChart, err => showError(`Error loading script: ${err.message}`));\n",
       "    } else if (typeof vegaEmbed === \"function\") {\n",
       "      displayChart(vegaEmbed);\n",
       "    } else {\n",
       "      loadScript(\"vega\")\n",
       "        .then(() => loadScript(\"vega-lite\"))\n",
       "        .then(() => loadScript(\"vega-embed\"))\n",
       "        .catch(showError)\n",
       "        .then(() => displayChart(vegaEmbed));\n",
       "    }\n",
       "  })({\"config\": {\"view\": {\"continuousWidth\": 400, \"continuousHeight\": 300}}, \"data\": {\"name\": \"data-a98b0559c65e25e77baac9335f444995\"}, \"mark\": {\"type\": \"circle\", \"opacity\": 1, \"size\": 500}, \"encoding\": {\"color\": {\"type\": \"quantitative\", \"field\": \"smoothness\", \"scale\": {\"scheme\": \"spectral\"}}, \"x\": {\"type\": \"quantitative\", \"field\": \"x\"}, \"y\": {\"type\": \"quantitative\", \"field\": \"y\"}}, \"$schema\": \"https://vega.github.io/schema/vega-lite/v4.8.1.json\", \"datasets\": {\"data-a98b0559c65e25e77baac9335f444995\": [{\"x\": -2.9637, \"y\": 13.1147, \"smoothness\": 0}, {\"x\": -5.1041, \"y\": 12.4077, \"smoothness\": 1}, {\"x\": -5.2233, \"y\": 11.6911, \"smoothness\": 2}, {\"x\": -4.6142, \"y\": 9.6998, \"smoothness\": 3}, {\"x\": -1.5688, \"y\": 10.5502, \"smoothness\": 4}, {\"x\": -1.9186, \"y\": 8.695, \"smoothness\": 5}, {\"x\": -1.3974, \"y\": 8.2491, \"smoothness\": 6}, {\"x\": -1.416, \"y\": 7.3789, \"smoothness\": 7}, {\"x\": -0.0454, \"y\": 7.9445, \"smoothness\": 8}, {\"x\": 0.0249, \"y\": 7.2892, \"smoothness\": 9}, {\"x\": 0.2423, \"y\": 4.7288, \"smoothness\": 10}, {\"x\": -1.0793, \"y\": 3.8466, \"smoothness\": 11}, {\"x\": -0.7292, \"y\": 4.071, \"smoothness\": 12}, {\"x\": 0.13, \"y\": 4.3952, \"smoothness\": 13}, {\"x\": 1.3495, \"y\": 3.1611, \"smoothness\": 14}, {\"x\": -0.2472, \"y\": 1.7695, \"smoothness\": 15}, {\"x\": 0.7447, \"y\": 1.291, \"smoothness\": 16}, {\"x\": -0.2802, \"y\": -1.8336, \"smoothness\": 17}, {\"x\": 1.7158, \"y\": -2.046, \"smoothness\": 18}, {\"x\": 0.3904, \"y\": -2.5727, \"smoothness\": 19}, {\"x\": 3.6929, \"y\": -6.9647, \"smoothness\": 20}, {\"x\": 3.3836, \"y\": -7.6778, \"smoothness\": 21}, {\"x\": 2.5227, \"y\": -9.4326, \"smoothness\": 22}, {\"x\": 1.2037, \"y\": -7.0056, \"smoothness\": 23}, {\"x\": 2.4902, \"y\": -10.684, \"smoothness\": 24}, {\"x\": 0.6382, \"y\": -10.1638, \"smoothness\": 25}, {\"x\": 2.0337, \"y\": -14.6528, \"smoothness\": 26}, {\"x\": 2.32, \"y\": -16.0948, \"smoothness\": 27}, {\"x\": 2.2843, \"y\": -15.5921, \"smoothness\": 28}, {\"x\": 1.4199, \"y\": -15.5633, \"smoothness\": 29}]}}, {\"mode\": \"vega-lite\"});\n",
       "</script>"
      ],
      "text/plain": [
       "alt.Chart(...)"
      ]
     },
     "execution_count": 95,
     "metadata": {},
     "output_type": "execute_result"
    }
   ],
   "source": [
    "import altair as alt\n",
    "alt.Chart(df).mark_circle(size=500, opacity=1).encode(\n",
    "    x=\"x\",\n",
    "    y=\"y\",\n",
    "    color=alt.Color(\"smoothness\", scale=alt.Scale(scheme=\"spectral\")),\n",
    ")"
   ]
  },
  {
   "cell_type": "code",
   "execution_count": null,
   "id": "7b0ba4a1-a033-4868-a36b-3a80b3fcc8c2",
   "metadata": {},
   "outputs": [],
   "source": []
  }
 ],
 "metadata": {
  "kernelspec": {
   "display_name": "Python 3",
   "language": "python",
   "name": "python3"
  },
  "language_info": {
   "codemirror_mode": {
    "name": "ipython",
    "version": 3
   },
   "file_extension": ".py",
   "mimetype": "text/x-python",
   "name": "python",
   "nbconvert_exporter": "python",
   "pygments_lexer": "ipython3",
   "version": "3.7.4"
  }
 },
 "nbformat": 4,
 "nbformat_minor": 5
}
