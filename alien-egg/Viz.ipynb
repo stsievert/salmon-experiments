{
 "cells": [
  {
   "cell_type": "markdown",
   "metadata": {},
   "source": [
    "* Input: embeddings in `io/` directory.\n",
    "* Output: graphs"
   ]
  },
  {
   "cell_type": "code",
   "execution_count": null,
   "metadata": {},
   "outputs": [],
   "source": [
    "\"hu\""
   ]
  },
  {
   "cell_type": "code",
   "execution_count": null,
   "metadata": {},
   "outputs": [],
   "source": [
    "import json\n",
    "from pathlib import Path\n",
    "from ast import literal_eval\n",
    "from typing import Tuple, Union, List\n",
    "import numpy as np\n",
    "import pandas as pd\n",
    "\n",
    "import stats\n",
    "import sys"
   ]
  },
  {
   "cell_type": "code",
   "execution_count": null,
   "metadata": {},
   "outputs": [],
   "source": [
    "n = 50\n",
    "noise = \"human\"\n",
    "DIR = Path(\"io/2021-01-22/\")"
   ]
  },
  {
   "cell_type": "code",
   "execution_count": null,
   "metadata": {},
   "outputs": [],
   "source": [
    "EM_DIR = DIR / \"embeddings\"\n",
    "RESPONSES_DIR = DIR / \"responses\"\n",
    "SALMON_DIR = Path.home() / \"Developer\" / \"stsievert\" / \"salmon\"\n",
    "sys.path.append(str(SALMON_DIR / \"examples\"))"
   ]
  },
  {
   "cell_type": "code",
   "execution_count": null,
   "metadata": {},
   "outputs": [],
   "source": [
    "def _literal_eval(x):\n",
    "    try:\n",
    "        return literal_eval(x)\n",
    "    except ValueError:\n",
    "        return x\n",
    "\n",
    "def _get_dict(s: str) -> dict:\n",
    "    k_v = [kv.split(\"=\") for kv in s.split(\"-\")]\n",
    "    k_v2 = {k: _literal_eval(v) for k, v in k_v}\n",
    "    return k_v2\n",
    "\n",
    "def _ident(d: dict) -> str:\n",
    "    d2 = sorted(tuple(d.items()))\n",
    "    d3 = [f\"{k}={v}\" for k, v in d2]\n",
    "    return \"-\".join(d3)"
   ]
  },
  {
   "cell_type": "code",
   "execution_count": null,
   "metadata": {},
   "outputs": [],
   "source": [
    "import msgpack\n",
    "def _get_config(name):\n",
    "    return _get_dict(\n",
    "        name.replace(\".msgpack\", \"\")\n",
    "        .replace(\".csv\", \"\")\n",
    "        .replace(\"responses*\", \"\")\n",
    "    )\n",
    "\n",
    "def _get(file: Path, history=False) -> Union[Tuple[np.ndarray, dict], List[dict]]:\n",
    "    with open(file, \"rb\") as f:\n",
    "        data = msgpack.load(f)\n",
    "    em = data.pop(\"embedding\")\n",
    "    meta = data.pop(\"meta\")\n",
    "    perf = data.pop(\"performance\")\n",
    "    if history:\n",
    "        return data[\"history\"]\n",
    "    for k, v in perf.items():\n",
    "        meta[f\"perf__{k}\"] = v\n",
    "    return em, meta\n",
    "\n",
    "files = list(EM_DIR.glob(\"*.msgpack\"))\n",
    "print(len(files))\n",
    "data = [_get(f) for f in files]\n",
    "print(len(data))"
   ]
  },
  {
   "cell_type": "code",
   "execution_count": null,
   "metadata": {},
   "outputs": [],
   "source": [
    "keys = [k for k in RESPONSES_DIR.glob(\"*.csv\") if \"alg=RandomSampling\" in str(k)]\n",
    "assert len(keys) == 1, len(keys)\n",
    "random_responses = pd.read_csv(keys[0])\n",
    "from sklearn.model_selection import train_test_split\n",
    "_, df_test = train_test_split(random_responses, test_size=0.2, random_state=42)\n",
    "print(keys)\n",
    "X_test = df_test[[\"head\", \"winner\", \"loser\"]].to_numpy()\n",
    "\n",
    "from run import _X_test\n",
    "X_test = _X_test(n=n, num=20_000, noise=noise)\n",
    "\n",
    "perf = [{**meta, **stats.collect(embedding, X_test)} for embedding, meta in data]\n",
    "len(perf)"
   ]
  },
  {
   "cell_type": "code",
   "execution_count": null,
   "metadata": {},
   "outputs": [],
   "source": [
    "import datasets"
   ]
  },
  {
   "cell_type": "code",
   "execution_count": null,
   "metadata": {},
   "outputs": [],
   "source": [
    "df = pd.DataFrame(perf)\n",
    "\n",
    "# fname = \"history*R=10-alg=RR-d=2-dataset=strange_fruit-init=True-max_queries=20000-n=100-n_users=4-noise=constant-random_state=42-reaction_time=0.25-response_time=1.0.csv\"\n",
    "# fname = \"history*R=10-alg=RR-d=2-dataset=strange_fruit-init=True-max_queries=20100-n=30-n_users=6-noise=constant-random_state=42-reaction_time=0.25-response_time=1.0.csv\"\n",
    "fname = \"history*R=10-alg=RR-d=2-dataset=alien_eggs-init=True-max_queries=30100-n=50-n_users=6-noise=human-random_state=42-reaction_time=0.25-response_time=1.0.csv\"\n",
    "online = pd.read_csv(DIR / \"history\" / fname)\n",
    "online[\"alg\"] = online[\"perf__ident\"] = \"RR (online)\"\n",
    "\n",
    "df[\"sampling\"] = df.ident.apply(lambda s: s.split(\"-\")[0])\n",
    "df[\"embedding\"] = df.ident.apply(lambda s: s.split(\"-\")[1])\n",
    "online[\"sampling\"] = \"online\"\n",
    "online[\"embedding\"] = \"online\"\n",
    "df = pd.concat((df, online))\n",
    "print(\"df.shape =\", df.shape)\n",
    "\n",
    "df.head()"
   ]
  },
  {
   "cell_type": "code",
   "execution_count": null,
   "metadata": {},
   "outputs": [],
   "source": [
    "df.alg.unique()"
   ]
  },
  {
   "cell_type": "code",
   "execution_count": null,
   "metadata": {},
   "outputs": [],
   "source": [
    "df.columns"
   ]
  },
  {
   "cell_type": "code",
   "execution_count": null,
   "metadata": {},
   "outputs": [],
   "source": []
  },
  {
   "cell_type": "code",
   "execution_count": null,
   "metadata": {},
   "outputs": [],
   "source": [
    "import seaborn as sns\n",
    "import matplotlib.pyplot as plt\n",
    "\n",
    "df[\"n_responses/1000\"] = df.n_responses / 1000\n",
    "Y = [\"accuracy\", \"nn_acc\", \"embedding_rel_error\", \"nn_diff_mean\"]\n",
    "# Y = [\"accuracy\", \"perf__loss_test\", \"embedding_rel_error\", \"nn_diff_mean\"]\n",
    "\n",
    "w = 4\n",
    "fig, axs = plt.subplots(ncols=2, nrows=2, figsize=(2 * w, 2.0 * w))\n",
    "for k, (y, ax) in enumerate(zip(Y, axs.flatten())):\n",
    "    ax = sns.lineplot(\n",
    "        x=\"n_responses/1000\",\n",
    "        y=y,\n",
    "        hue=\"sampling\",\n",
    "        style=\"embedding\",\n",
    "#         marker=\"o\",\n",
    "#         data=df,\n",
    "        data=df,#[df.embedding.isin([\"online\", \"CKL\"])],\n",
    "        ax=ax,\n",
    "    )\n",
    "    _ = ax.set_xlabel(\"Num. responses (thousands)\")\n",
    "    ax.grid(alpha=0.6)\n",
    "    if k != 3:\n",
    "        ax.legend_.remove()\n",
    "    else:\n",
    "        ax.legend(loc=(1.05, 0))\n",
    "    _ = ax.set_title(y)\n",
    "    \n",
    "#     ax.set_xscale(\"log\")\n",
    "    if \"accu\" in y:\n",
    "        _ = ax.set_ylim(0.50, None)\n",
    "    elif \"nn_acc\" in y:\n",
    "        _ = ax.set_ylim(0.0, 1.05)\n",
    "#     ax.set_xlim(0.2, 20)\n"
   ]
  },
  {
   "cell_type": "code",
   "execution_count": null,
   "metadata": {},
   "outputs": [],
   "source": [
    "import matplotlib.ticker as ticker\n",
    "show = df[df.embedding.isin([\"online\", \"CKL\"])].copy()\n",
    "show[\"error\"] = 1 - show[\"accuracy\"]\n",
    "\n",
    "w = 3\n",
    "fig, axs = plt.subplots(figsize=(1 * w, 1.0 * w))\n",
    "y = \"accuracy\"\n",
    "ax = sns.lineplot(\n",
    "    x=\"n_responses/1000\",\n",
    "    y=y,\n",
    "    hue=\"sampling\",\n",
    "    style=\"embedding\",\n",
    "#     ci=None,\n",
    "#     estimator=\"max\",\n",
    "#     marker=\"o\",\n",
    "    data=show,\n",
    ")\n",
    "ax.set_xlabel(\"Num. responses (thousands)\")\n",
    "ax.grid(alpha=0.6)\n",
    "ax.yaxis.set_major_formatter(plt.FuncFormatter(lambda y, _: f\"{100 * y:0.0f}%\"))\n",
    "ax.xaxis.set_major_locator(plt.MultipleLocator(10))\n",
    "# ax.set_xlim(-2, 32)\n",
    "# ax.set_xlim(25, 35)\n",
    "# ax.set_xscale(\"log\", base=2)\n",
    "\n",
    "_ = ax.set_ylim(0.70, None)\n",
    "_ = ax.set_title(\"Hold out performance\")\n",
    "\n",
    "ax.set_xlim(0.5, None)\n",
    "ax.set_xscale(\"log\", base=2)\n",
    "ax.xaxis.set_major_locator(ticker.LogLocator(base=2, numticks=15))\n",
    "\n",
    "# ax.yaxis.set_major_locator(ticker.MultipleLocator(0.02))\n",
    "# ax.xaxis.set_major_locator(plt.MultipleLocator(2))\n",
    "# ax.set_xlim(11, 27)\n",
    "\n",
    "ax.legend(loc=(1.05, 0))"
   ]
  },
  {
   "cell_type": "code",
   "execution_count": null,
   "metadata": {},
   "outputs": [],
   "source": [
    "w = 3.0\n",
    "fig, axs = plt.subplots(figsize=(1.5 * w, 1.0 * w))\n",
    "y = \"embedding_rel_error\"\n",
    "ax = sns.lineplot(\n",
    "    x=\"n_responses/1000\",\n",
    "    y=y,\n",
    "    hue=\"sampling\",\n",
    "    style=\"embedding\",\n",
    "#     ci=None,\n",
    "#     estimator=\"max\",\n",
    "#     marker=\"o\",\n",
    "    data=show,\n",
    ")\n",
    "ax.grid(alpha=0.5)\n",
    "ax.yaxis.set_major_locator(plt.MultipleLocator(0.1))\n",
    "ax.xaxis.set_major_locator(plt.MultipleLocator(5))\n",
    "# ax.xaxis.set_major_locator(plt.FixedLocator([0, 4, 10, 20, 30, 40, 50, 60]))\n",
    "# ax.set_ylim(0.2, 1)\n",
    "# ax.set_xscale(\"log\")\n",
    "# ax.set_xlim(0.5, 4)\n",
    "\n",
    "# ax.set_xscale(\"log\", base=2)\n",
    "# ax.set_xlim(0.5, None)\n",
    "ax.set_ylabel(\"Relative error\")\n",
    "ax.set_ylim(0, 1)\n",
    "ax.set_title(\"Embedding error\\n(after projection)\")\n",
    "ax.set_xlabel(\"Observed responses (thousands)\")\n",
    "ax.legend(loc=(1.05, 0))"
   ]
  },
  {
   "cell_type": "code",
   "execution_count": null,
   "metadata": {},
   "outputs": [],
   "source": [
    "fig, axs = plt.subplots(figsize=(1 * w, 1.0 * w))\n",
    "y = \"error\"\n",
    "ax = sns.lineplot(\n",
    "    x=\"n_responses/1000\",\n",
    "    y=y,\n",
    "    hue=\"sampling\",\n",
    "    style=\"embedding\",\n",
    "#     ci=None,\n",
    "#     estimator=\"max\",\n",
    "#     marker=\"o\",\n",
    "    data=show,\n",
    ")\n",
    "ax.set_xlabel(\"Num. responses (thousands)\")\n",
    "ax.grid(alpha=0.6)\n",
    "ax.yaxis.set_major_formatter(plt.FuncFormatter(lambda y, _: f\"{100 * y:0.0f}%\"))\n",
    "ax.xaxis.set_major_locator(plt.MultipleLocator(10))\n",
    "ax.set_xlim(0, 30)\n",
    "ax.set_ylim(0.13, 0.26)\n",
    "# ax.set_xlim(25, 35)\n",
    "# ax.set_xscale(\"log\", base=2)\n",
    "\n",
    "# _ = ax.set_ylim(0.70, None)\n",
    "_ = ax.set_title(\"Hold out performance\")\n",
    "\n",
    "    ax.set_xscale(\"log\", base=2)\n",
    "ax.xaxis.set_major_locator(ticker.LogLocator(base=2, numticks=15))\n",
    "ax.set_xlim(0.3, None)\n",
    "ax.legend(loc=(1.05, 0))"
   ]
  },
  {
   "cell_type": "code",
   "execution_count": null,
   "metadata": {},
   "outputs": [],
   "source": [
    "fig, axs = plt.subplots(figsize=(1 * w, 1.0 * w))\n",
    "y = \"error\"\n",
    "ax = sns.lineplot(\n",
    "    x=\"n_responses/1000\",\n",
    "    y=y,\n",
    "    hue=\"sampling\",\n",
    "    style=\"embedding\",\n",
    "#     ci=None,\n",
    "#     estimator=\"max\",\n",
    "#     marker=\"o\",\n",
    "    data=show,\n",
    ")\n",
    "ax.set_xlabel(\"Num. responses (thousands)\")\n",
    "ax.grid(alpha=0.6)\n",
    "ax.yaxis.set_major_formatter(plt.FuncFormatter(lambda y, _: f\"{100 * y:0.0f}%\"))\n",
    "ax.set_xlim(0, 4)\n",
    "ax.xaxis.set_major_locator(plt.MultipleLocator(0.5))\n",
    "ax.set_ylim(0.13, 0.26)\n",
    "# ax.set_xlim(25, 35)\n",
    "# ax.set_xscale(\"log\", base=2)\n",
    "\n",
    "# _ = ax.set_ylim(0.70, None)\n",
    "_ = ax.set_title(\"Hold out performance\")\n",
    "\n",
    "# ax.set_xscale(\"log\", base=2)\n",
    "# ax.xaxis.set_major_locator(ticker.LogLocator(base=2, numticks=15))\n",
    "# ax.set_xlim(0.3, None)\n",
    "ax.legend(loc=(1.05, 0))"
   ]
  },
  {
   "cell_type": "code",
   "execution_count": null,
   "metadata": {},
   "outputs": [],
   "source": [
    "_idx = show.pivot_table(\n",
    "    index=\"sampling\",\n",
    "    values=\"accuracy\",\n",
    "    aggfunc=lambda x: np.abs(x - 0.82).idxmin(),\n",
    ")\n",
    "idx = {k: int(v) for k, v in dict(_idx[\"accuracy\"]).items()}\n",
    "for i in idx.values():\n",
    "    s = show.loc[i, [\"accuracy\", \"sampling\", \"n_responses\"]]\n",
    "    print(s)"
   ]
  },
  {
   "cell_type": "code",
   "execution_count": null,
   "metadata": {},
   "outputs": [],
   "source": [
    "df.columns"
   ]
  },
  {
   "cell_type": "code",
   "execution_count": null,
   "metadata": {},
   "outputs": [],
   "source": [
    "import seaborn as sns\n",
    "import matplotlib.pyplot as plt\n",
    "\n",
    "Y = [\"accuracy\", \"nn_acc\", \"embedding_rel_error\", \"nn_diff_mean\"]\n",
    "Y = [\"perf__loss_train\", \"perf__loss_test\", \"perf__score_train\", \"perf__score_test\"]\n",
    "\n",
    "w = 4\n",
    "fig, axs = plt.subplots(ncols=2, nrows=2, figsize=(2 * w, 2.0 * w))\n",
    "for y, ax in zip(Y, axs.flatten()):\n",
    "    ax = sns.lineplot(\n",
    "        x=\"n_responses\",\n",
    "        y=y,\n",
    "        hue=\"sampling\",\n",
    "        style=\"embedding\",\n",
    "        data=df,\n",
    "        ax=ax,\n",
    "    )\n",
    "    ax.grid(alpha=0.6)\n",
    "    if \"score\" in y:\n",
    "        _ = ax.set_ylim(0.5, 1)\n",
    "#     ax.set_xscale(\"log\")\n",
    "#     _ = ax.set_title(y)\n",
    "# axs[0][1].set_ylim(0, 2)"
   ]
  },
  {
   "cell_type": "code",
   "execution_count": null,
   "metadata": {},
   "outputs": [],
   "source": [
    "w = 2\n",
    "fig, ax = plt.subplots(figsize=(2 * w, 2.0 * w))\n",
    "ax = sns.lineplot(\n",
    "    x=\"perf__loss_train\",\n",
    "    y=\"perf__loss_test\",\n",
    "    hue=\"alg\",\n",
    "    data=df,\n",
    "    marker=\"o\",\n",
    "    ax=ax,\n",
    ")\n",
    "ax.grid(alpha=0.6)\n"
   ]
  },
  {
   "cell_type": "code",
   "execution_count": null,
   "metadata": {},
   "outputs": [],
   "source": []
  }
 ],
 "metadata": {
  "kernelspec": {
   "display_name": "Python [conda env:salmon]",
   "language": "python",
   "name": "conda-env-salmon-py"
  },
  "language_info": {
   "codemirror_mode": {
    "name": "ipython",
    "version": 3
   },
   "file_extension": ".py",
   "mimetype": "text/x-python",
   "name": "python",
   "nbconvert_exporter": "python",
   "pygments_lexer": "ipython3",
   "version": "3.7.8"
  }
 },
 "nbformat": 4,
 "nbformat_minor": 4
}
