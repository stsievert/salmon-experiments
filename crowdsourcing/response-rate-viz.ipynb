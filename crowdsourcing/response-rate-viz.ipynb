{
 "cells": [
  {
   "cell_type": "code",
   "execution_count": 1,
   "metadata": {},
   "outputs": [
    {
     "data": {
      "text/html": [
       "<div>\n",
       "<style scoped>\n",
       "    .dataframe tbody tr th:only-of-type {\n",
       "        vertical-align: middle;\n",
       "    }\n",
       "\n",
       "    .dataframe tbody tr th {\n",
       "        vertical-align: top;\n",
       "    }\n",
       "\n",
       "    .dataframe thead th {\n",
       "        text-align: right;\n",
       "    }\n",
       "</style>\n",
       "<table border=\"1\" class=\"dataframe\">\n",
       "  <thead>\n",
       "    <tr style=\"text-align: right;\">\n",
       "      <th></th>\n",
       "      <th>puid</th>\n",
       "      <th>head</th>\n",
       "      <th>left</th>\n",
       "      <th>right</th>\n",
       "      <th>winner</th>\n",
       "      <th>alg</th>\n",
       "      <th>timestamp</th>\n",
       "      <th>response_time</th>\n",
       "      <th>loser</th>\n",
       "    </tr>\n",
       "  </thead>\n",
       "  <tbody>\n",
       "    <tr>\n",
       "      <th>19443</th>\n",
       "      <td>91c8a984b5f7695ae960275a11c04b_QUNbyNYM2orRoqq...</td>\n",
       "      <td>8</td>\n",
       "      <td>28</td>\n",
       "      <td>18</td>\n",
       "      <td>18</td>\n",
       "      <td>RandomSampling</td>\n",
       "      <td>2015-05-29 03:46:14.384440</td>\n",
       "      <td>1.367</td>\n",
       "      <td>28</td>\n",
       "    </tr>\n",
       "    <tr>\n",
       "      <th>19444</th>\n",
       "      <td>91c8a984b5f7695ae960275a11c04b_QUNbyNYM2orRoqq...</td>\n",
       "      <td>0</td>\n",
       "      <td>10</td>\n",
       "      <td>24</td>\n",
       "      <td>10</td>\n",
       "      <td>CrowdKernel</td>\n",
       "      <td>2015-05-29 03:46:16.447802</td>\n",
       "      <td>2.112</td>\n",
       "      <td>24</td>\n",
       "    </tr>\n",
       "    <tr>\n",
       "      <th>19445</th>\n",
       "      <td>91c8a984b5f7695ae960275a11c04b_QUNbyNYM2orRoqq...</td>\n",
       "      <td>29</td>\n",
       "      <td>24</td>\n",
       "      <td>20</td>\n",
       "      <td>24</td>\n",
       "      <td>RandomSampling</td>\n",
       "      <td>2015-05-29 03:46:19.310334</td>\n",
       "      <td>1.200</td>\n",
       "      <td>20</td>\n",
       "    </tr>\n",
       "    <tr>\n",
       "      <th>19446</th>\n",
       "      <td>91c8a984b5f7695ae960275a11c04b_QUNbyNYM2orRoqq...</td>\n",
       "      <td>26</td>\n",
       "      <td>4</td>\n",
       "      <td>18</td>\n",
       "      <td>18</td>\n",
       "      <td>Test</td>\n",
       "      <td>2015-05-29 03:46:21.220876</td>\n",
       "      <td>1.532</td>\n",
       "      <td>4</td>\n",
       "    </tr>\n",
       "    <tr>\n",
       "      <th>19447</th>\n",
       "      <td>91c8a984b5f7695ae960275a11c04b_QUNbyNYM2orRoqq...</td>\n",
       "      <td>17</td>\n",
       "      <td>14</td>\n",
       "      <td>23</td>\n",
       "      <td>14</td>\n",
       "      <td>Test</td>\n",
       "      <td>2015-05-29 03:46:23.405220</td>\n",
       "      <td>1.378</td>\n",
       "      <td>23</td>\n",
       "    </tr>\n",
       "  </tbody>\n",
       "</table>\n",
       "</div>"
      ],
      "text/plain": [
       "                                                    puid  head  left  right  \\\n",
       "19443  91c8a984b5f7695ae960275a11c04b_QUNbyNYM2orRoqq...     8    28     18   \n",
       "19444  91c8a984b5f7695ae960275a11c04b_QUNbyNYM2orRoqq...     0    10     24   \n",
       "19445  91c8a984b5f7695ae960275a11c04b_QUNbyNYM2orRoqq...    29    24     20   \n",
       "19446  91c8a984b5f7695ae960275a11c04b_QUNbyNYM2orRoqq...    26     4     18   \n",
       "19447  91c8a984b5f7695ae960275a11c04b_QUNbyNYM2orRoqq...    17    14     23   \n",
       "\n",
       "       winner             alg                  timestamp  response_time  loser  \n",
       "19443      18  RandomSampling 2015-05-29 03:46:14.384440          1.367     28  \n",
       "19444      10     CrowdKernel 2015-05-29 03:46:16.447802          2.112     24  \n",
       "19445      24  RandomSampling 2015-05-29 03:46:19.310334          1.200     20  \n",
       "19446      18            Test 2015-05-29 03:46:21.220876          1.532      4  \n",
       "19447      14            Test 2015-05-29 03:46:23.405220          1.378     23  "
      ]
     },
     "execution_count": 1,
     "metadata": {},
     "output_type": "execute_result"
    }
   ],
   "source": [
    "import pandas as pd\n",
    "import numpy as np\n",
    "from collect_responses import _munge\n",
    "\n",
    "df = _munge(\"io/next-fig3.json.zip\")\n",
    "df = df.sort_values(by=\"timestamp\")\n",
    "# df.index = df.timestamp\n",
    "df.head()"
   ]
  },
  {
   "cell_type": "code",
   "execution_count": 2,
   "metadata": {},
   "outputs": [
    {
     "name": "stdout",
     "output_type": "stream",
     "text": [
      "1.1431960077301477\n",
      "0.7801085000000001\n"
     ]
    },
    {
     "data": {
      "image/png": "[encoded data removed]",
      "text/plain": [
       "<Figure size 432x288 with 1 Axes>"
      ]
     },
     "metadata": {
      "image/png": {
       "height": 277,
       "width": 398
      },
      "needs_background": "light"
     },
     "output_type": "display_data"
    }
   ],
   "source": [
    "import matplotlib.pyplot as plt\n",
    "times = df[\"timestamp\"] - df[\"timestamp\"].min()\n",
    "diffs = times.diff().dt.total_seconds()\n",
    "diffs = diffs[diffs < 10]\n",
    "\n",
    "print(diffs.mean())\n",
    "print(diffs.median())\n",
    "diffs = diffs[diffs <= 60]\n",
    "ax = diffs.plot.hist(bins=60)\n",
    "ax.set_xlim(0, 7)\n",
    "ax.xaxis.set_major_locator(plt.MultipleLocator(1))\n",
    "ax.set_xlabel(\"Rate (responses/sec)\")\n",
    "ax.set_title(\"Rate if cnts\")\n",
    "ax.grid(alpha=0.5)"
   ]
  },
  {
   "cell_type": "code",
   "execution_count": 3,
   "metadata": {},
   "outputs": [],
   "source": [
    "from bokeh.plotting import figure, show\n",
    "from bokeh.models import (\n",
    "    ColumnDataSource,\n",
    "    Grid,\n",
    "    LinearAxis,\n",
    "    LogAxis,\n",
    "    Plot,\n",
    "    Text,\n",
    "    ImageURL,\n",
    "    Legend,\n",
    "    tickers,\n",
    "    NumeralTickFormatter,\n",
    ")\n",
    "from bokeh.palettes import brewer, d3\n",
    "from bokeh.embed import json_item\n"
   ]
  },
  {
   "cell_type": "code",
   "execution_count": 4,
   "metadata": {},
   "outputs": [],
   "source": [
    "def _make_hist(\n",
    "    title,\n",
    "    xlabel,\n",
    "    hist,\n",
    "    edges,\n",
    "    width=600,\n",
    "    height=200,\n",
    "    toolbar_location=\"right\",\n",
    "    **kwargs,\n",
    "):\n",
    "    p = figure(\n",
    "        title=title,\n",
    "        background_fill_color=\"#fafafa\",\n",
    "        width=width,\n",
    "        height=height,\n",
    "        toolbar_location=toolbar_location,\n",
    "        **kwargs,\n",
    "    )\n",
    "    p.quad(\n",
    "        top=hist,\n",
    "        bottom=0,\n",
    "        left=edges[:-1],\n",
    "        right=edges[1:],\n",
    "        fill_color=\"blue\",\n",
    "        line_color=\"white\",\n",
    "        alpha=0.5,\n",
    "    )\n",
    "\n",
    "    p.y_range.start = 0\n",
    "    p.legend.location = \"center_right\"\n",
    "    p.legend.background_fill_color = \"#fefefe\"\n",
    "    p.xaxis.axis_label = xlabel\n",
    "    p.yaxis.axis_label = \"Probability (empirical)\"\n",
    "    p.yaxis[0].formatter = NumeralTickFormatter(format=\"0%\")\n",
    "    p.grid.grid_line_color = \"white\"\n",
    "    return p"
   ]
  },
  {
   "cell_type": "code",
   "execution_count": 5,
   "metadata": {},
   "outputs": [
    {
     "name": "stderr",
     "output_type": "stream",
     "text": [
      "/Users/scott/anaconda3/envs/salmon/lib/python3.7/site-packages/bokeh/models/plots.py:764: UserWarning: \n",
      "You are attempting to set `plot.legend.location` on a plot that has zero legends added, this will have no effect.\n",
      "\n",
      "Before legend properties can be set, you must add a Legend explicitly, or call a glyph method with a legend parameter set.\n",
      "\n",
      "  warnings.warn(_LEGEND_EMPTY_WARNING % attr)\n",
      "/Users/scott/anaconda3/envs/salmon/lib/python3.7/site-packages/bokeh/models/plots.py:764: UserWarning: \n",
      "You are attempting to set `plot.legend.background_fill_color` on a plot that has zero legends added, this will have no effect.\n",
      "\n",
      "Before legend properties can be set, you must add a Legend explicitly, or call a glyph method with a legend parameter set.\n",
      "\n",
      "  warnings.warn(_LEGEND_EMPTY_WARNING % attr)\n"
     ]
    }
   ],
   "source": [
    "df2 = df.sort_values(by=\"timestamp\")\n",
    "gaps = df2[\"timestamp\"].diff().dt.total_seconds().to_numpy()\n",
    "\n",
    "gaps = gaps[~np.isnan(gaps)]\n",
    "upper = np.percentile(gaps, 99)\n",
    "gaps = gaps[gaps <= upper]\n",
    "\n",
    "bins = [i / 4 for i in range(int(np.ceil(upper)) * 4)]\n",
    "bin_heights, edges = np.histogram(gaps, bins=bins)\n",
    "bin_heights = bin_heights / bin_heights.sum()\n",
    "\n",
    "\n",
    "p = figure(\n",
    "    title=\"Rate at which responses received\",\n",
    "    background_fill_color=\"#fafafa\",\n",
    "    width=600,\n",
    "    height=200,\n",
    "    toolbar_location=\"above\",\n",
    ")\n",
    "p.line(edges, [0] + bin_heights.cumsum().tolist())\n",
    "p.scatter(edges, [0] + bin_heights.cumsum().tolist())\n",
    "\n",
    "p.legend.location = \"center_right\"\n",
    "p.legend.background_fill_color = \"#fefefe\"\n",
    "p.xaxis.axis_label = \"R (responses/sec)\"\n",
    "p.yaxis.axis_label = \"Prob. rate <= R\"\n",
    "p.yaxis[0].formatter = NumeralTickFormatter(format=\"0%\")\n",
    "p.grid.grid_line_color = \"white\"\n",
    "show(p)"
   ]
  },
  {
   "cell_type": "code",
   "execution_count": 6,
   "metadata": {},
   "outputs": [
    {
     "name": "stdout",
     "output_type": "stream",
     "text": [
      "19.299286839626568\n"
     ]
    },
    {
     "name": "stderr",
     "output_type": "stream",
     "text": [
      "/Users/scott/anaconda3/envs/salmon/lib/python3.7/site-packages/bokeh/models/plots.py:764: UserWarning: \n",
      "You are attempting to set `plot.legend.location` on a plot that has zero legends added, this will have no effect.\n",
      "\n",
      "Before legend properties can be set, you must add a Legend explicitly, or call a glyph method with a legend parameter set.\n",
      "\n",
      "  warnings.warn(_LEGEND_EMPTY_WARNING % attr)\n",
      "/Users/scott/anaconda3/envs/salmon/lib/python3.7/site-packages/bokeh/models/plots.py:764: UserWarning: \n",
      "You are attempting to set `plot.legend.background_fill_color` on a plot that has zero legends added, this will have no effect.\n",
      "\n",
      "Before legend properties can be set, you must add a Legend explicitly, or call a glyph method with a legend parameter set.\n",
      "\n",
      "  warnings.warn(_LEGEND_EMPTY_WARNING % attr)\n"
     ]
    }
   ],
   "source": [
    "df2 = df.sort_values(by=\"timestamp\")\n",
    "gaps = df2[\"timestamp\"].diff().dt.total_seconds().to_numpy()\n",
    "gaps = gaps[~np.isnan(gaps)]\n",
    "rates = (1 / gaps)\n",
    "upper = np.percentile(rates, 95)\n",
    "rates = rates[rates <= upper]\n",
    "print(upper)\n",
    "\n",
    "_bins = [[1 * 10**p, 2 * 10 ** p, 5 * 10 ** p] for p in range(-4, 4)]\n",
    "bins = [b for bins in _bins for b in bins if rates.min() <= b <= rates.max()]\n",
    "bin_heights, edges = np.histogram(gaps, bins=bins)\n",
    "\n",
    "p = _make_hist(\n",
    "    title=\"Response times\",\n",
    "    xlabel=\"Rate (responses/sec)\",\n",
    "    hist=bin_heights,\n",
    "    edges=edges,\n",
    "    x_axis_type=\"log\",\n",
    ")\n",
    "# xaxis = LogAxis(ticker=tickers.FixedTicker(ticks=bins))\n",
    "# p.add_layout(xaxis, \"below\")\n",
    "show(p)"
   ]
  },
  {
   "cell_type": "code",
   "execution_count": null,
   "metadata": {},
   "outputs": [],
   "source": []
  }
 ],
 "metadata": {
  "kernelspec": {
   "display_name": "Python [conda env:salmon]",
   "language": "python",
   "name": "conda-env-salmon-py"
  },
  "language_info": {
   "codemirror_mode": {
    "name": "ipython",
    "version": 3
   },
   "file_extension": ".py",
   "mimetype": "text/x-python",
   "name": "python",
   "nbconvert_exporter": "python",
   "pygments_lexer": "ipython3",
   "version": "3.7.8"
  }
 },
 "nbformat": 4,
 "nbformat_minor": 4
}
