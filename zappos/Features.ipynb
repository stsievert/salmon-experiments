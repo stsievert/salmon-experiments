{
 "cells": [
  {
   "cell_type": "code",
   "execution_count": 40,
   "metadata": {},
   "outputs": [],
   "source": [
    "from sklearn.manifold import TSNE\n",
    "import numpy as np\n",
    "import zipfile\n",
    "import numpy as np"
   ]
  },
  {
   "cell_type": "code",
   "execution_count": 41,
   "metadata": {},
   "outputs": [],
   "source": [
    "def _divide(n):\n",
    "    div = len(n) // 2\n",
    "    idx = n.find(\".\", 2)\n",
    "    return n[:idx - 1], n[idx + 1:]\n",
    "\n",
    "def _reduce(x):\n",
    "    out = []\n",
    "    for xi in x:\n",
    "        if isinstance(xi, tuple):\n",
    "            for _ in xi:\n",
    "                out.append(float(_))\n",
    "        else:\n",
    "            out.append(float(xi))\n",
    "    return out\n",
    "\n",
    "def get_features(txt, n=85):\n",
    "    raw = txt.split(\",\")\n",
    "    newlines = [i for i, n in enumerate(raw) if n.count(\".\") == 2]\n",
    "    mrare = [(n, ) if i not in newlines else _divide(n) for i, n in enumerate(raw)]\n",
    "    medium = _reduce(mrare)\n",
    "\n",
    "    mwell = [medium[k * 4096 : (k + 1) * 4096] for k in range(n)]\n",
    "    well_done = np.array(mwell)\n",
    "    return well_done\n",
    "\n",
    "from pprint import pprint\n",
    "with zipfile.ZipFile(\"dataset/cnn_feats.csv.zip\", 'r') as zf:\n",
    "    assert len(zf.filelist) == 1\n",
    "    assert \"cnn_feats\" in zf.filelist[0].filename\n",
    "    f = zf.filelist[0]\n",
    "    txt = zf.read(f).decode()\n",
    "features = get_features(txt)\n"
   ]
  },
  {
   "cell_type": "code",
   "execution_count": 57,
   "metadata": {},
   "outputs": [],
   "source": [
    "est = TSNE()\n",
    "F2 = est.fit_transform(features)"
   ]
  },
  {
   "cell_type": "code",
   "execution_count": 60,
   "metadata": {},
   "outputs": [],
   "source": [
    "np.save(\"io/low-dim-features.npy\", F2)"
   ]
  },
  {
   "cell_type": "code",
   "execution_count": null,
   "metadata": {},
   "outputs": [],
   "source": []
  }
 ],
 "metadata": {
  "kernelspec": {
   "display_name": "Python 3",
   "language": "python",
   "name": "python3"
  },
  "language_info": {
   "codemirror_mode": {
    "name": "ipython",
    "version": 3
   },
   "file_extension": ".py",
   "mimetype": "text/x-python",
   "name": "python",
   "nbconvert_exporter": "python",
   "pygments_lexer": "ipython3",
   "version": "3.7.4"
  }
 },
 "nbformat": 4,
 "nbformat_minor": 4
}
