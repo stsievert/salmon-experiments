{
 "cells": [
  {
   "cell_type": "code",
   "execution_count": 13,
   "metadata": {},
   "outputs": [],
   "source": [
    "from typing import Union, Dict, Any\n",
    "import pandas as pd\n",
    "from zipfile import ZipFile\n",
    "from pathlib import Path\n",
    "import msgpack\n",
    "import numpy as np"
   ]
  },
  {
   "cell_type": "code",
   "execution_count": 14,
   "metadata": {},
   "outputs": [],
   "source": [
    "def _get_ident(row: Union[pd.Series, Dict[str, Any]]) -> Dict[str, Any]:\n",
    "    return {k: row[k] for k in [\"n_train\", \"sampling\", \"noise_model\", \"seed\", \"dataset\"]}\n",
    "\n",
    "def _matches(meta, ident) -> bool:\n",
    "    basic = all(meta[k] == ident[k] for k in [\"n_train\", \"sampling\", \"n\"])\n",
    "    nm = (meta[\"est__noise_model\"] == ident[\"noise_model\"])\n",
    "    seed = (meta[\"seed\"] == ident[\"seed\"]) or (meta[\"seed\"] and ident[\"seed\"] and np.allclose(meta[\"seed\"], ident[\"seed\"]))\n",
    "    return basic and nm and seed"
   ]
  },
  {
   "cell_type": "code",
   "execution_count": 26,
   "metadata": {},
   "outputs": [],
   "source": [
    "idents = [\n",
    "    # good viz for n=90\n",
    "#     {'n_train': 990, 'sampling': 'random', 'noise_model': 'CKL', 'seed': 7.0, 'dataset': 'simulation', 'acc': 0.76, 'n': 90},\n",
    "#     {'n_train': 990, 'sampling': 'active', 'noise_model': 'CKL', 'seed': None, 'dataset': 'simulation', 'acc': 0.78, 'n': 90},\n",
    "#     {'n_train': 1890, 'sampling': 'random', 'noise_model': 'CKL', 'seed': 8.0, 'dataset': 'simulation', 'acc': 0.8, 'n': 90},\n",
    "#     {'n_train': 5400, 'sampling': 'random', 'noise_model': 'CKL', 'seed': 8.0, 'dataset': 'simulation', 'acc': 0.82, 'n': 90},\n",
    "#     {'n_train': 9000, 'sampling': 'active', 'noise_model': 'CKL', 'seed': None, 'dataset': 'simulation', 'acc': 0.84, 'n': 90},\n",
    "\n",
    "    # good for n=30\n",
    "    {'n_train': 780, 'sampling': 'random', 'noise_model': 'CKL', 'seed': 10.0, 'dataset': 'human', 'acc': 0.801, 'n': 30},\n",
    "    {'n_train': 2100, 'sampling': 'random', 'noise_model': 'CKL', 'seed': 3.0, 'dataset': 'human', 'acc': 0.825, 'n': 30},\n",
    "    {'n_train': 3600, 'sampling': 'active', 'noise_model': 'CKL', 'seed': None, 'dataset': 'human', 'acc': 0.845, 'n': 30},\n",
    "    \n",
    "    # good for n=180\n",
    "#     {'n_train': 4680, 'sampling': 'random', 'noise_model': 'CKL', 'seed': 9.0, 'dataset': 'simulation', 'acc': 0.8, 'actual_acc': 0.8003672345200449, 'n': 180},\n",
    "#     {'n_train': 5580, 'sampling': 'active', 'noise_model': 'CKL', 'seed': None, 'dataset': 'simulation', 'acc': 0.82, 'actual_acc': 0.8197490564113027, 'n': 180},\n",
    "#     {'n_train': 10800, 'sampling': 'active', 'noise_model': 'CKL', 'seed': None, 'dataset': 'simulation', 'acc': 0.83, 'actual_acc': 0.8300520248903397, 'n': 180},\n",
    "\n",
    "    \n",
    "    # good for n=90\n",
    "    # {'n_train': 1890, 'sampling': 'random', 'noise_model': 'CKL', 'seed': 8.0, 'dataset': 'simulation', 'acc': 0.8, 'actual_acc': 0.8002378121284186, 'n': 90},\n",
    "    # {'n_train': 2790, 'sampling': 'random', 'noise_model': 'CKL', 'seed': 6.0, 'dataset': 'simulation', 'acc': 0.815, 'actual_acc': 0.8149821640903686, 'n': 90},\n",
    "    # {'n_train': 18000, 'sampling': 'random', 'noise_model': 'CKL', 'seed': 7.0, 'dataset': 'simulation', 'acc': 0.83, 'actual_acc': 0.8304399524375743, 'n': 90},\n",
    "]"
   ]
  },
  {
   "cell_type": "code",
   "execution_count": 27,
   "metadata": {},
   "outputs": [],
   "source": [
    "ID = \"2021-04-16\""
   ]
  },
  {
   "cell_type": "code",
   "execution_count": 28,
   "metadata": {},
   "outputs": [],
   "source": [
    "n = idents[0][\"n\"]\n",
    "assert all(i[\"n\"] == n for i in idents)"
   ]
  },
  {
   "cell_type": "code",
   "execution_count": 29,
   "metadata": {},
   "outputs": [
    {
     "name": "stdout",
     "output_type": "stream",
     "text": [
      "115 embeddings\n",
      "254 embeddings\n",
      "690 embeddings\n"
     ]
    }
   ],
   "source": [
    "from collections import defaultdict\n",
    "\n",
    "def _get_zip(zf, filter=None):\n",
    "    global raw\n",
    "    data = []\n",
    "    for f in zf.filelist:\n",
    "        assert \".msgpack\" in f.filename\n",
    "        ir = zf.read(f)\n",
    "        raw = msgpack.loads(ir)\n",
    "        assert set(raw.keys()) == {\"embedding\", \"history\", \"perf\", \"params\", \"meta\"}\n",
    "        _ = raw.pop(\"history\")\n",
    "        assert \"history\" not in raw\n",
    "        n = raw[\"params\"][\"n\"]\n",
    "        if filter is None or filter(raw):\n",
    "            data.append(raw)\n",
    "    return data\n",
    "\n",
    "data = []\n",
    "\n",
    "filters = {\n",
    "    \"random-n=[90, 180, 300].zip\": lambda raw: (\n",
    "        raw[\"meta\"][\"sampling\"] == \"random\" and raw[\"meta\"][\"n\"] in [90, 180, 300]\n",
    "    ),\n",
    "    \"n=30.zip\": lambda raw: (\n",
    "        raw[\"meta\"][\"n\"] == 30\n",
    "    ),\n",
    "    \"embeddings.zip\": lambda raw: (raw[\"meta\"][\"sampling\"] == \"active\"),\n",
    "}\n",
    "for fname in [\"embeddings.zip\", \"n=30.zip\", \"random-n=[90, 180, 300].zip\"]:\n",
    "    with ZipFile(f\"io/{ID}/{fname}\") as zf:\n",
    "        print(f\"{len(zf.filelist)} embeddings\")\n",
    "        _data = _get_zip(zf, filter=filters[fname])\n",
    "        for raw in _data:\n",
    "            for k, i in enumerate(idents):\n",
    "                if _matches(raw[\"meta\"], i):\n",
    "                    show = {\"embedding\": raw[\"embedding\"], \"ident\": i}\n",
    "                    data.append(show)"
   ]
  },
  {
   "cell_type": "code",
   "execution_count": 30,
   "metadata": {},
   "outputs": [
    {
     "name": "stdout",
     "output_type": "stream",
     "text": [
      "3\n",
      "3\n"
     ]
    }
   ],
   "source": [
    "print(len(data))\n",
    "print(len(idents))\n",
    "assert len(data) == len(idents)"
   ]
  },
  {
   "cell_type": "code",
   "execution_count": 31,
   "metadata": {},
   "outputs": [],
   "source": [
    "data = sorted(data, key=lambda raw: raw[\"ident\"][\"acc\"])"
   ]
  },
  {
   "cell_type": "code",
   "execution_count": 32,
   "metadata": {},
   "outputs": [],
   "source": [
    "from copy import deepcopy\n",
    "def _cook(data):\n",
    "    assert set(data.keys()) == {\"embedding\", \"ident\"}\n",
    "    em = np.asarray(data[\"embedding\"])\n",
    "    ident = data[\"ident\"]\n",
    "    df = pd.DataFrame({str(k): em[:, k] for k in range(em.shape[1])})\n",
    "    for k in [\"0\", \"1\"]:\n",
    "        df[k] -= df[k].min()\n",
    "        df[k] /= df[k].max()\n",
    "        df[k] *= 2\n",
    "        df[k] -= 1\n",
    "    df[\"smoothness\"] = np.linspace(0, 1, num=len(df)) #* -1\n",
    "    for k, v in ident.items():\n",
    "        df[k] = v\n",
    "    df[\"col\"] = df['acc'].apply(lambda x: f\"{100 * x}%\")\n",
    "    return df\n",
    "    \n",
    "    \n",
    "raw = deepcopy(data)\n",
    "steaks = [_cook(d) for d in raw]\n",
    "df = pd.concat(steaks)"
   ]
  },
  {
   "cell_type": "code",
   "execution_count": 33,
   "metadata": {},
   "outputs": [
    {
     "data": {
      "text/html": [
       "<div>\n",
       "<style scoped>\n",
       "    .dataframe tbody tr th:only-of-type {\n",
       "        vertical-align: middle;\n",
       "    }\n",
       "\n",
       "    .dataframe tbody tr th {\n",
       "        vertical-align: top;\n",
       "    }\n",
       "\n",
       "    .dataframe thead th {\n",
       "        text-align: right;\n",
       "    }\n",
       "</style>\n",
       "<table border=\"1\" class=\"dataframe\">\n",
       "  <thead>\n",
       "    <tr style=\"text-align: right;\">\n",
       "      <th></th>\n",
       "      <th>0</th>\n",
       "      <th>1</th>\n",
       "      <th>smoothness</th>\n",
       "      <th>n_train</th>\n",
       "      <th>sampling</th>\n",
       "      <th>noise_model</th>\n",
       "      <th>seed</th>\n",
       "      <th>dataset</th>\n",
       "      <th>acc</th>\n",
       "      <th>n</th>\n",
       "      <th>col</th>\n",
       "    </tr>\n",
       "  </thead>\n",
       "  <tbody>\n",
       "    <tr>\n",
       "      <th>0</th>\n",
       "      <td>0.509599</td>\n",
       "      <td>0.899917</td>\n",
       "      <td>0.000000</td>\n",
       "      <td>780</td>\n",
       "      <td>random</td>\n",
       "      <td>CKL</td>\n",
       "      <td>10</td>\n",
       "      <td>human</td>\n",
       "      <td>0.801</td>\n",
       "      <td>30</td>\n",
       "      <td>80.10000000000001%</td>\n",
       "    </tr>\n",
       "    <tr>\n",
       "      <th>1</th>\n",
       "      <td>1.000000</td>\n",
       "      <td>0.753093</td>\n",
       "      <td>0.034483</td>\n",
       "      <td>780</td>\n",
       "      <td>random</td>\n",
       "      <td>CKL</td>\n",
       "      <td>10</td>\n",
       "      <td>human</td>\n",
       "      <td>0.801</td>\n",
       "      <td>30</td>\n",
       "      <td>80.10000000000001%</td>\n",
       "    </tr>\n",
       "    <tr>\n",
       "      <th>2</th>\n",
       "      <td>0.244107</td>\n",
       "      <td>0.806243</td>\n",
       "      <td>0.068966</td>\n",
       "      <td>780</td>\n",
       "      <td>random</td>\n",
       "      <td>CKL</td>\n",
       "      <td>10</td>\n",
       "      <td>human</td>\n",
       "      <td>0.801</td>\n",
       "      <td>30</td>\n",
       "      <td>80.10000000000001%</td>\n",
       "    </tr>\n",
       "    <tr>\n",
       "      <th>3</th>\n",
       "      <td>0.872134</td>\n",
       "      <td>1.000000</td>\n",
       "      <td>0.103448</td>\n",
       "      <td>780</td>\n",
       "      <td>random</td>\n",
       "      <td>CKL</td>\n",
       "      <td>10</td>\n",
       "      <td>human</td>\n",
       "      <td>0.801</td>\n",
       "      <td>30</td>\n",
       "      <td>80.10000000000001%</td>\n",
       "    </tr>\n",
       "    <tr>\n",
       "      <th>4</th>\n",
       "      <td>0.910908</td>\n",
       "      <td>0.744976</td>\n",
       "      <td>0.137931</td>\n",
       "      <td>780</td>\n",
       "      <td>random</td>\n",
       "      <td>CKL</td>\n",
       "      <td>10</td>\n",
       "      <td>human</td>\n",
       "      <td>0.801</td>\n",
       "      <td>30</td>\n",
       "      <td>80.10000000000001%</td>\n",
       "    </tr>\n",
       "  </tbody>\n",
       "</table>\n",
       "</div>"
      ],
      "text/plain": [
       "          0         1  smoothness  n_train sampling noise_model seed dataset  \\\n",
       "0  0.509599  0.899917    0.000000      780   random         CKL   10   human   \n",
       "1  1.000000  0.753093    0.034483      780   random         CKL   10   human   \n",
       "2  0.244107  0.806243    0.068966      780   random         CKL   10   human   \n",
       "3  0.872134  1.000000    0.103448      780   random         CKL   10   human   \n",
       "4  0.910908  0.744976    0.137931      780   random         CKL   10   human   \n",
       "\n",
       "     acc   n                 col  \n",
       "0  0.801  30  80.10000000000001%  \n",
       "1  0.801  30  80.10000000000001%  \n",
       "2  0.801  30  80.10000000000001%  \n",
       "3  0.801  30  80.10000000000001%  \n",
       "4  0.801  30  80.10000000000001%  "
      ]
     },
     "execution_count": 33,
     "metadata": {},
     "output_type": "execute_result"
    }
   ],
   "source": [
    "df.head()"
   ]
  },
  {
   "cell_type": "code",
   "execution_count": 34,
   "metadata": {},
   "outputs": [],
   "source": [
    "accs = list(df.acc.unique())"
   ]
  },
  {
   "cell_type": "code",
   "execution_count": 35,
   "metadata": {},
   "outputs": [
    {
     "data": {
      "text/html": [
       "\n",
       "<div id=\"altair-viz-444833e72b864655a73b74be6ad6a6dc\"></div>\n",
       "<script type=\"text/javascript\">\n",
       "  (function(spec, embedOpt){\n",
       "    let outputDiv = document.currentScript.previousElementSibling;\n",
       "    if (outputDiv.id !== \"altair-viz-444833e72b864655a73b74be6ad6a6dc\") {\n",
       "      outputDiv = document.getElementById(\"altair-viz-444833e72b864655a73b74be6ad6a6dc\");\n",
       "    }\n",
       "    const paths = {\n",
       "      \"vega\": \"https://cdn.jsdelivr.net/npm//vega@5?noext\",\n",
       "      \"vega-lib\": \"https://cdn.jsdelivr.net/npm//vega-lib?noext\",\n",
       "      \"vega-lite\": \"https://cdn.jsdelivr.net/npm//vega-lite@4.8.1?noext\",\n",
       "      \"vega-embed\": \"https://cdn.jsdelivr.net/npm//vega-embed@6?noext\",\n",
       "    };\n",
       "\n",
       "    function loadScript(lib) {\n",
       "      return new Promise(function(resolve, reject) {\n",
       "        var s = document.createElement('script');\n",
       "        s.src = paths[lib];\n",
       "        s.async = true;\n",
       "        s.onload = () => resolve(paths[lib]);\n",
       "        s.onerror = () => reject(`Error loading script: ${paths[lib]}`);\n",
       "        document.getElementsByTagName(\"head\")[0].appendChild(s);\n",
       "      });\n",
       "    }\n",
       "\n",
       "    function showError(err) {\n",
       "      outputDiv.innerHTML = `<div class=\"error\" style=\"color:red;\">${err}</div>`;\n",
       "      throw err;\n",
       "    }\n",
       "\n",
       "    function displayChart(vegaEmbed) {\n",
       "      vegaEmbed(outputDiv, spec, embedOpt)\n",
       "        .catch(err => showError(`Javascript Error: ${err.message}<br>This usually means there's a typo in your chart specification. See the javascript console for the full traceback.`));\n",
       "    }\n",
       "\n",
       "    if(typeof define === \"function\" && define.amd) {\n",
       "      requirejs.config({paths});\n",
       "      require([\"vega-embed\"], displayChart, err => showError(`Error loading script: ${err.message}`));\n",
       "    } else if (typeof vegaEmbed === \"function\") {\n",
       "      displayChart(vegaEmbed);\n",
       "    } else {\n",
       "      loadScript(\"vega\")\n",
       "        .then(() => loadScript(\"vega-lite\"))\n",
       "        .then(() => loadScript(\"vega-embed\"))\n",
       "        .catch(showError)\n",
       "        .then(() => displayChart(vegaEmbed));\n",
       "    }\n",
       "  })({\"config\": {\"view\": {\"continuousWidth\": 400, \"continuousHeight\": 300}}, \"hconcat\": [{\"data\": {\"name\": \"data-0c19cc2305613461dffa1ae5e8815a78\"}, \"mark\": {\"type\": \"circle\", \"line\": true, \"opacity\": 0.9, \"size\": 100}, \"encoding\": {\"x\": {\"type\": \"quantitative\", \"axis\": {\"labels\": true}, \"field\": \"0\", \"title\": \"x\"}, \"y\": {\"type\": \"quantitative\", \"axis\": {\"labels\": true}, \"field\": \"1\", \"title\": \"y\"}}, \"height\": 150, \"title\": \"Test Accuracy: 80.1%\", \"width\": 150}, {\"data\": {\"name\": \"data-f5c8397ad244e3af2ddbfe4cf3c5975c\"}, \"mark\": {\"type\": \"circle\", \"line\": true, \"opacity\": 0.9, \"size\": 100}, \"encoding\": {\"x\": {\"type\": \"quantitative\", \"axis\": {\"labels\": true}, \"field\": \"0\", \"title\": \"x\"}, \"y\": {\"type\": \"quantitative\", \"axis\": {\"labels\": true}, \"field\": \"1\", \"title\": \"y\"}}, \"height\": 150, \"title\": \"Test Accuracy: 82.5%\", \"width\": 150}, {\"data\": {\"name\": \"data-433fbca0872ff316448ceb5fc7b9383e\"}, \"mark\": {\"type\": \"circle\", \"line\": true, \"opacity\": 0.9, \"size\": 100}, \"encoding\": {\"x\": {\"type\": \"quantitative\", \"axis\": {\"labels\": true}, \"field\": \"0\", \"title\": \"x\"}, \"y\": {\"type\": \"quantitative\", \"axis\": {\"labels\": true}, \"field\": \"1\", \"title\": \"y\"}}, \"height\": 150, \"title\": \"Test Accuracy: 84.5%\", \"width\": 150}], \"$schema\": \"https://vega.github.io/schema/vega-lite/v4.8.1.json\", \"datasets\": {\"data-0c19cc2305613461dffa1ae5e8815a78\": [{\"0\": 0.5095987930018722, \"1\": 0.8999172849303989, \"smoothness\": 0.0, \"n_train\": 780, \"sampling\": \"random\", \"noise_model\": \"CKL\", \"seed\": 10.0, \"dataset\": \"human\", \"acc\": 0.801, \"n\": 30, \"col\": \"80.10000000000001%\"}, {\"0\": 1.0, \"1\": 0.7530933874159229, \"smoothness\": 0.034482758620689655, \"n_train\": 780, \"sampling\": \"random\", \"noise_model\": \"CKL\", \"seed\": 10.0, \"dataset\": \"human\", \"acc\": 0.801, \"n\": 30, \"col\": \"80.10000000000001%\"}, {\"0\": 0.2441068649008089, \"1\": 0.8062427777753096, \"smoothness\": 0.06896551724137931, \"n_train\": 780, \"sampling\": \"random\", \"noise_model\": \"CKL\", \"seed\": 10.0, \"dataset\": \"human\", \"acc\": 0.801, \"n\": 30, \"col\": \"80.10000000000001%\"}, {\"0\": 0.8721344133546027, \"1\": 1.0, \"smoothness\": 0.10344827586206896, \"n_train\": 780, \"sampling\": \"random\", \"noise_model\": \"CKL\", \"seed\": 10.0, \"dataset\": \"human\", \"acc\": 0.801, \"n\": 30, \"col\": \"80.10000000000001%\"}, {\"0\": 0.9109083979996082, \"1\": 0.7449757774788288, \"smoothness\": 0.13793103448275862, \"n_train\": 780, \"sampling\": \"random\", \"noise_model\": \"CKL\", \"seed\": 10.0, \"dataset\": \"human\", \"acc\": 0.801, \"n\": 30, \"col\": \"80.10000000000001%\"}, {\"0\": 0.9271175075105169, \"1\": 0.7310602804104525, \"smoothness\": 0.1724137931034483, \"n_train\": 780, \"sampling\": \"random\", \"noise_model\": \"CKL\", \"seed\": 10.0, \"dataset\": \"human\", \"acc\": 0.801, \"n\": 30, \"col\": \"80.10000000000001%\"}, {\"0\": 0.6616547203259815, \"1\": 0.7231587217404873, \"smoothness\": 0.20689655172413793, \"n_train\": 780, \"sampling\": \"random\", \"noise_model\": \"CKL\", \"seed\": 10.0, \"dataset\": \"human\", \"acc\": 0.801, \"n\": 30, \"col\": \"80.10000000000001%\"}, {\"0\": 0.7089673854862222, \"1\": 0.7449036382492913, \"smoothness\": 0.24137931034482757, \"n_train\": 780, \"sampling\": \"random\", \"noise_model\": \"CKL\", \"seed\": 10.0, \"dataset\": \"human\", \"acc\": 0.801, \"n\": 30, \"col\": \"80.10000000000001%\"}, {\"0\": 0.8199157415619793, \"1\": 0.6569358250788115, \"smoothness\": 0.27586206896551724, \"n_train\": 780, \"sampling\": \"random\", \"noise_model\": \"CKL\", \"seed\": 10.0, \"dataset\": \"human\", \"acc\": 0.801, \"n\": 30, \"col\": \"80.10000000000001%\"}, {\"0\": 0.23570297799218864, \"1\": 0.5394695023048139, \"smoothness\": 0.3103448275862069, \"n_train\": 780, \"sampling\": \"random\", \"noise_model\": \"CKL\", \"seed\": 10.0, \"dataset\": \"human\", \"acc\": 0.801, \"n\": 30, \"col\": \"80.10000000000001%\"}, {\"0\": 0.5830888816331827, \"1\": 0.49659051680131827, \"smoothness\": 0.3448275862068966, \"n_train\": 780, \"sampling\": \"random\", \"noise_model\": \"CKL\", \"seed\": 10.0, \"dataset\": \"human\", \"acc\": 0.801, \"n\": 30, \"col\": \"80.10000000000001%\"}, {\"0\": 0.5424457144243642, \"1\": 0.2894538148850574, \"smoothness\": 0.3793103448275862, \"n_train\": 780, \"sampling\": \"random\", \"noise_model\": \"CKL\", \"seed\": 10.0, \"dataset\": \"human\", \"acc\": 0.801, \"n\": 30, \"col\": \"80.10000000000001%\"}, {\"0\": 0.531605396288577, \"1\": 0.15600770880379367, \"smoothness\": 0.41379310344827586, \"n_train\": 780, \"sampling\": \"random\", \"noise_model\": \"CKL\", \"seed\": 10.0, \"dataset\": \"human\", \"acc\": 0.801, \"n\": 30, \"col\": \"80.10000000000001%\"}, {\"0\": 0.6376176730771885, \"1\": 0.1632834796961964, \"smoothness\": 0.4482758620689655, \"n_train\": 780, \"sampling\": \"random\", \"noise_model\": \"CKL\", \"seed\": 10.0, \"dataset\": \"human\", \"acc\": 0.801, \"n\": 30, \"col\": \"80.10000000000001%\"}, {\"0\": 0.35848605465455674, \"1\": 0.2571008132220993, \"smoothness\": 0.48275862068965514, \"n_train\": 780, \"sampling\": \"random\", \"noise_model\": \"CKL\", \"seed\": 10.0, \"dataset\": \"human\", \"acc\": 0.801, \"n\": 30, \"col\": \"80.10000000000001%\"}, {\"0\": 0.3769450228432656, \"1\": 0.0728964280821578, \"smoothness\": 0.5172413793103449, \"n_train\": 780, \"sampling\": \"random\", \"noise_model\": \"CKL\", \"seed\": 10.0, \"dataset\": \"human\", \"acc\": 0.801, \"n\": 30, \"col\": \"80.10000000000001%\"}, {\"0\": 0.6573434325704381, \"1\": -0.08869373993171092, \"smoothness\": 0.5517241379310345, \"n_train\": 780, \"sampling\": \"random\", \"noise_model\": \"CKL\", \"seed\": 10.0, \"dataset\": \"human\", \"acc\": 0.801, \"n\": 30, \"col\": \"80.10000000000001%\"}, {\"0\": 0.18636634284414888, \"1\": -0.22140724995134609, \"smoothness\": 0.5862068965517241, \"n_train\": 780, \"sampling\": \"random\", \"noise_model\": \"CKL\", \"seed\": 10.0, \"dataset\": \"human\", \"acc\": 0.801, \"n\": 30, \"col\": \"80.10000000000001%\"}, {\"0\": 0.20653940325735554, \"1\": -0.017578578285560642, \"smoothness\": 0.6206896551724138, \"n_train\": 780, \"sampling\": \"random\", \"noise_model\": \"CKL\", \"seed\": 10.0, \"dataset\": \"human\", \"acc\": 0.801, \"n\": 30, \"col\": \"80.10000000000001%\"}, {\"0\": 0.2764112576391933, \"1\": -0.5315673252985957, \"smoothness\": 0.6551724137931034, \"n_train\": 780, \"sampling\": \"random\", \"noise_model\": \"CKL\", \"seed\": 10.0, \"dataset\": \"human\", \"acc\": 0.801, \"n\": 30, \"col\": \"80.10000000000001%\"}, {\"0\": -0.2699289876667931, \"1\": -0.25317324439795375, \"smoothness\": 0.6896551724137931, \"n_train\": 780, \"sampling\": \"random\", \"noise_model\": \"CKL\", \"seed\": 10.0, \"dataset\": \"human\", \"acc\": 0.801, \"n\": 30, \"col\": \"80.10000000000001%\"}, {\"0\": -0.4647826208431719, \"1\": -0.25246142486383205, \"smoothness\": 0.7241379310344828, \"n_train\": 780, \"sampling\": \"random\", \"noise_model\": \"CKL\", \"seed\": 10.0, \"dataset\": \"human\", \"acc\": 0.801, \"n\": 30, \"col\": \"80.10000000000001%\"}, {\"0\": -0.43946072584541884, \"1\": -0.24926270272211315, \"smoothness\": 0.7586206896551724, \"n_train\": 780, \"sampling\": \"random\", \"noise_model\": \"CKL\", \"seed\": 10.0, \"dataset\": \"human\", \"acc\": 0.801, \"n\": 30, \"col\": \"80.10000000000001%\"}, {\"0\": -0.27714071871640045, \"1\": -0.4925689036133326, \"smoothness\": 0.7931034482758621, \"n_train\": 780, \"sampling\": \"random\", \"noise_model\": \"CKL\", \"seed\": 10.0, \"dataset\": \"human\", \"acc\": 0.801, \"n\": 30, \"col\": \"80.10000000000001%\"}, {\"0\": -0.6887884285153847, \"1\": -0.577037162604251, \"smoothness\": 0.8275862068965517, \"n_train\": 780, \"sampling\": \"random\", \"noise_model\": \"CKL\", \"seed\": 10.0, \"dataset\": \"human\", \"acc\": 0.801, \"n\": 30, \"col\": \"80.10000000000001%\"}, {\"0\": -0.46050012058620493, \"1\": -0.3939709741970113, \"smoothness\": 0.8620689655172413, \"n_train\": 780, \"sampling\": \"random\", \"noise_model\": \"CKL\", \"seed\": 10.0, \"dataset\": \"human\", \"acc\": 0.801, \"n\": 30, \"col\": \"80.10000000000001%\"}, {\"0\": -1.0, \"1\": -0.36805691405048213, \"smoothness\": 0.896551724137931, \"n_train\": 780, \"sampling\": \"random\", \"noise_model\": \"CKL\", \"seed\": 10.0, \"dataset\": \"human\", \"acc\": 0.801, \"n\": 30, \"col\": \"80.10000000000001%\"}, {\"0\": -0.595984781386065, \"1\": -0.5580742096025239, \"smoothness\": 0.9310344827586207, \"n_train\": 780, \"sampling\": \"random\", \"noise_model\": \"CKL\", \"seed\": 10.0, \"dataset\": \"human\", \"acc\": 0.801, \"n\": 30, \"col\": \"80.10000000000001%\"}, {\"0\": -0.654672158327541, \"1\": -0.7185141920307816, \"smoothness\": 0.9655172413793103, \"n_train\": 780, \"sampling\": \"random\", \"noise_model\": \"CKL\", \"seed\": 10.0, \"dataset\": \"human\", \"acc\": 0.801, \"n\": 30, \"col\": \"80.10000000000001%\"}, {\"0\": -0.7185027817334171, \"1\": -1.0, \"smoothness\": 1.0, \"n_train\": 780, \"sampling\": \"random\", \"noise_model\": \"CKL\", \"seed\": 10.0, \"dataset\": \"human\", \"acc\": 0.801, \"n\": 30, \"col\": \"80.10000000000001%\"}], \"data-f5c8397ad244e3af2ddbfe4cf3c5975c\": [{\"0\": 1.0, \"1\": -0.8418080223364426, \"smoothness\": 0.0, \"n_train\": 2100, \"sampling\": \"random\", \"noise_model\": \"CKL\", \"seed\": 3.0, \"dataset\": \"human\", \"acc\": 0.825, \"n\": 30, \"col\": \"82.5%\"}, {\"0\": 0.9941755063659143, \"1\": -0.8574558156453423, \"smoothness\": 0.034482758620689655, \"n_train\": 2100, \"sampling\": \"random\", \"noise_model\": \"CKL\", \"seed\": 3.0, \"dataset\": \"human\", \"acc\": 0.825, \"n\": 30, \"col\": \"82.5%\"}, {\"0\": 0.8901423703998015, \"1\": -0.7818137517735088, \"smoothness\": 0.06896551724137931, \"n_train\": 2100, \"sampling\": \"random\", \"noise_model\": \"CKL\", \"seed\": 3.0, \"dataset\": \"human\", \"acc\": 0.825, \"n\": 30, \"col\": \"82.5%\"}, {\"0\": 0.7438893358178715, \"1\": -1.0, \"smoothness\": 0.10344827586206896, \"n_train\": 2100, \"sampling\": \"random\", \"noise_model\": \"CKL\", \"seed\": 3.0, \"dataset\": \"human\", \"acc\": 0.825, \"n\": 30, \"col\": \"82.5%\"}, {\"0\": 0.5941232864926618, \"1\": -0.8615989454606322, \"smoothness\": 0.13793103448275862, \"n_train\": 2100, \"sampling\": \"random\", \"noise_model\": \"CKL\", \"seed\": 3.0, \"dataset\": \"human\", \"acc\": 0.825, \"n\": 30, \"col\": \"82.5%\"}, {\"0\": 0.553119058774687, \"1\": -0.7617588189574299, \"smoothness\": 0.1724137931034483, \"n_train\": 2100, \"sampling\": \"random\", \"noise_model\": \"CKL\", \"seed\": 3.0, \"dataset\": \"human\", \"acc\": 0.825, \"n\": 30, \"col\": \"82.5%\"}, {\"0\": 0.4859427116300561, \"1\": -0.9650889569353653, \"smoothness\": 0.20689655172413793, \"n_train\": 2100, \"sampling\": \"random\", \"noise_model\": \"CKL\", \"seed\": 3.0, \"dataset\": \"human\", \"acc\": 0.825, \"n\": 30, \"col\": \"82.5%\"}, {\"0\": 0.43592397272061634, \"1\": -0.6396802011041061, \"smoothness\": 0.24137931034482757, \"n_train\": 2100, \"sampling\": \"random\", \"noise_model\": \"CKL\", \"seed\": 3.0, \"dataset\": \"human\", \"acc\": 0.825, \"n\": 30, \"col\": \"82.5%\"}, {\"0\": 0.31153745435071434, \"1\": -0.8422448666824585, \"smoothness\": 0.27586206896551724, \"n_train\": 2100, \"sampling\": \"random\", \"noise_model\": \"CKL\", \"seed\": 3.0, \"dataset\": \"human\", \"acc\": 0.825, \"n\": 30, \"col\": \"82.5%\"}, {\"0\": 0.4132646685507124, \"1\": -0.6180724380196447, \"smoothness\": 0.3103448275862069, \"n_train\": 2100, \"sampling\": \"random\", \"noise_model\": \"CKL\", \"seed\": 3.0, \"dataset\": \"human\", \"acc\": 0.825, \"n\": 30, \"col\": \"82.5%\"}, {\"0\": 0.19434518960610214, \"1\": -0.5958023151020262, \"smoothness\": 0.3448275862068966, \"n_train\": 2100, \"sampling\": \"random\", \"noise_model\": \"CKL\", \"seed\": 3.0, \"dataset\": \"human\", \"acc\": 0.825, \"n\": 30, \"col\": \"82.5%\"}, {\"0\": 0.015891043337051602, \"1\": -0.6877011592522551, \"smoothness\": 0.3793103448275862, \"n_train\": 2100, \"sampling\": \"random\", \"noise_model\": \"CKL\", \"seed\": 3.0, \"dataset\": \"human\", \"acc\": 0.825, \"n\": 30, \"col\": \"82.5%\"}, {\"0\": 0.24639682447086408, \"1\": -0.508199135855564, \"smoothness\": 0.41379310344827586, \"n_train\": 2100, \"sampling\": \"random\", \"noise_model\": \"CKL\", \"seed\": 3.0, \"dataset\": \"human\", \"acc\": 0.825, \"n\": 30, \"col\": \"82.5%\"}, {\"0\": 0.08468048485143487, \"1\": -0.48717561964496237, \"smoothness\": 0.4482758620689655, \"n_train\": 2100, \"sampling\": \"random\", \"noise_model\": \"CKL\", \"seed\": 3.0, \"dataset\": \"human\", \"acc\": 0.825, \"n\": 30, \"col\": \"82.5%\"}, {\"0\": 0.2253845095690694, \"1\": -0.3813297340050452, \"smoothness\": 0.48275862068965514, \"n_train\": 2100, \"sampling\": \"random\", \"noise_model\": \"CKL\", \"seed\": 3.0, \"dataset\": \"human\", \"acc\": 0.825, \"n\": 30, \"col\": \"82.5%\"}, {\"0\": 0.33723305745961496, \"1\": -0.13838851869254076, \"smoothness\": 0.5172413793103449, \"n_train\": 2100, \"sampling\": \"random\", \"noise_model\": \"CKL\", \"seed\": 3.0, \"dataset\": \"human\", \"acc\": 0.825, \"n\": 30, \"col\": \"82.5%\"}, {\"0\": 0.006495780047750754, \"1\": -0.24509713046608694, \"smoothness\": 0.5517241379310345, \"n_train\": 2100, \"sampling\": \"random\", \"noise_model\": \"CKL\", \"seed\": 3.0, \"dataset\": \"human\", \"acc\": 0.825, \"n\": 30, \"col\": \"82.5%\"}, {\"0\": -0.05405899654457991, \"1\": 0.016378375830022218, \"smoothness\": 0.5862068965517241, \"n_train\": 2100, \"sampling\": \"random\", \"noise_model\": \"CKL\", \"seed\": 3.0, \"dataset\": \"human\", \"acc\": 0.825, \"n\": 30, \"col\": \"82.5%\"}, {\"0\": -0.1309144299975985, \"1\": -0.1492114022429578, \"smoothness\": 0.6206896551724138, \"n_train\": 2100, \"sampling\": \"random\", \"noise_model\": \"CKL\", \"seed\": 3.0, \"dataset\": \"human\", \"acc\": 0.825, \"n\": 30, \"col\": \"82.5%\"}, {\"0\": -0.19989795409182343, \"1\": -0.0677829024889891, \"smoothness\": 0.6551724137931034, \"n_train\": 2100, \"sampling\": \"random\", \"noise_model\": \"CKL\", \"seed\": 3.0, \"dataset\": \"human\", \"acc\": 0.825, \"n\": 30, \"col\": \"82.5%\"}, {\"0\": -0.4492810206323501, \"1\": 0.3442825076710876, \"smoothness\": 0.6896551724137931, \"n_train\": 2100, \"sampling\": \"random\", \"noise_model\": \"CKL\", \"seed\": 3.0, \"dataset\": \"human\", \"acc\": 0.825, \"n\": 30, \"col\": \"82.5%\"}, {\"0\": -0.45656854845822703, \"1\": 0.45091301189182587, \"smoothness\": 0.7241379310344828, \"n_train\": 2100, \"sampling\": \"random\", \"noise_model\": \"CKL\", \"seed\": 3.0, \"dataset\": \"human\", \"acc\": 0.825, \"n\": 30, \"col\": \"82.5%\"}, {\"0\": -0.3697270474292613, \"1\": 0.3405514244369574, \"smoothness\": 0.7586206896551724, \"n_train\": 2100, \"sampling\": \"random\", \"noise_model\": \"CKL\", \"seed\": 3.0, \"dataset\": \"human\", \"acc\": 0.825, \"n\": 30, \"col\": \"82.5%\"}, {\"0\": -0.26225302534855355, \"1\": 0.5153832790113304, \"smoothness\": 0.7931034482758621, \"n_train\": 2100, \"sampling\": \"random\", \"noise_model\": \"CKL\", \"seed\": 3.0, \"dataset\": \"human\", \"acc\": 0.825, \"n\": 30, \"col\": \"82.5%\"}, {\"0\": -0.6743446846202071, \"1\": 0.28664846529949295, \"smoothness\": 0.8275862068965517, \"n_train\": 2100, \"sampling\": \"random\", \"noise_model\": \"CKL\", \"seed\": 3.0, \"dataset\": \"human\", \"acc\": 0.825, \"n\": 30, \"col\": \"82.5%\"}, {\"0\": -0.6820786632943564, \"1\": 0.4476975491590458, \"smoothness\": 0.8620689655172413, \"n_train\": 2100, \"sampling\": \"random\", \"noise_model\": \"CKL\", \"seed\": 3.0, \"dataset\": \"human\", \"acc\": 0.825, \"n\": 30, \"col\": \"82.5%\"}, {\"0\": -0.5143316963373903, \"1\": 0.7172964842392182, \"smoothness\": 0.896551724137931, \"n_train\": 2100, \"sampling\": \"random\", \"noise_model\": \"CKL\", \"seed\": 3.0, \"dataset\": \"human\", \"acc\": 0.825, \"n\": 30, \"col\": \"82.5%\"}, {\"0\": -0.9212688232281201, \"1\": 0.7838200062888285, \"smoothness\": 0.9310344827586207, \"n_train\": 2100, \"sampling\": \"random\", \"noise_model\": \"CKL\", \"seed\": 3.0, \"dataset\": \"human\", \"acc\": 0.825, \"n\": 30, \"col\": \"82.5%\"}, {\"0\": -1.0, \"1\": 0.7548416842930237, \"smoothness\": 0.9655172413793103, \"n_train\": 2100, \"sampling\": \"random\", \"noise_model\": \"CKL\", \"seed\": 3.0, \"dataset\": \"human\", \"acc\": 0.825, \"n\": 30, \"col\": \"82.5%\"}, {\"0\": -0.6476849631244879, \"1\": 1.0, \"smoothness\": 1.0, \"n_train\": 2100, \"sampling\": \"random\", \"noise_model\": \"CKL\", \"seed\": 3.0, \"dataset\": \"human\", \"acc\": 0.825, \"n\": 30, \"col\": \"82.5%\"}], \"data-433fbca0872ff316448ceb5fc7b9383e\": [{\"0\": 1.0, \"1\": 1.0, \"smoothness\": 0.0, \"n_train\": 3600, \"sampling\": \"active\", \"noise_model\": \"CKL\", \"seed\": null, \"dataset\": \"human\", \"acc\": 0.845, \"n\": 30, \"col\": \"84.5%\"}, {\"0\": 0.9435964446671066, \"1\": 0.8736346775658903, \"smoothness\": 0.034482758620689655, \"n_train\": 3600, \"sampling\": \"active\", \"noise_model\": \"CKL\", \"seed\": null, \"dataset\": \"human\", \"acc\": 0.845, \"n\": 30, \"col\": \"84.5%\"}, {\"0\": 0.8903227393125595, \"1\": 0.7668891565585447, \"smoothness\": 0.06896551724137931, \"n_train\": 3600, \"sampling\": \"active\", \"noise_model\": \"CKL\", \"seed\": null, \"dataset\": \"human\", \"acc\": 0.845, \"n\": 30, \"col\": \"84.5%\"}, {\"0\": 0.7897817974943024, \"1\": 0.583704840449875, \"smoothness\": 0.10344827586206896, \"n_train\": 3600, \"sampling\": \"active\", \"noise_model\": \"CKL\", \"seed\": null, \"dataset\": \"human\", \"acc\": 0.845, \"n\": 30, \"col\": \"84.5%\"}, {\"0\": 0.767187032510745, \"1\": 0.5995628098683821, \"smoothness\": 0.13793103448275862, \"n_train\": 3600, \"sampling\": \"active\", \"noise_model\": \"CKL\", \"seed\": null, \"dataset\": \"human\", \"acc\": 0.845, \"n\": 30, \"col\": \"84.5%\"}, {\"0\": 0.8208060233422754, \"1\": 0.2526223497043454, \"smoothness\": 0.1724137931034483, \"n_train\": 3600, \"sampling\": \"active\", \"noise_model\": \"CKL\", \"seed\": null, \"dataset\": \"human\", \"acc\": 0.845, \"n\": 30, \"col\": \"84.5%\"}, {\"0\": 0.8238404963511305, \"1\": 0.23175622031403043, \"smoothness\": 0.20689655172413793, \"n_train\": 3600, \"sampling\": \"active\", \"noise_model\": \"CKL\", \"seed\": null, \"dataset\": \"human\", \"acc\": 0.845, \"n\": 30, \"col\": \"84.5%\"}, {\"0\": 0.8067439791252127, \"1\": 0.16053468231240253, \"smoothness\": 0.24137931034482757, \"n_train\": 3600, \"sampling\": \"active\", \"noise_model\": \"CKL\", \"seed\": null, \"dataset\": \"human\", \"acc\": 0.845, \"n\": 30, \"col\": \"84.5%\"}, {\"0\": 0.7916254916449872, \"1\": 0.02015052880371293, \"smoothness\": 0.27586206896551724, \"n_train\": 3600, \"sampling\": \"active\", \"noise_model\": \"CKL\", \"seed\": null, \"dataset\": \"human\", \"acc\": 0.845, \"n\": 30, \"col\": \"84.5%\"}, {\"0\": 0.7763220484158644, \"1\": -0.0721713317936814, \"smoothness\": 0.3103448275862069, \"n_train\": 3600, \"sampling\": \"active\", \"noise_model\": \"CKL\", \"seed\": null, \"dataset\": \"human\", \"acc\": 0.845, \"n\": 30, \"col\": \"84.5%\"}, {\"0\": 0.7070369994561754, \"1\": -0.34470260988396795, \"smoothness\": 0.3448275862068966, \"n_train\": 3600, \"sampling\": \"active\", \"noise_model\": \"CKL\", \"seed\": null, \"dataset\": \"human\", \"acc\": 0.845, \"n\": 30, \"col\": \"84.5%\"}, {\"0\": 0.6879043402873068, \"1\": -0.40092921083191424, \"smoothness\": 0.3793103448275862, \"n_train\": 3600, \"sampling\": \"active\", \"noise_model\": \"CKL\", \"seed\": null, \"dataset\": \"human\", \"acc\": 0.845, \"n\": 30, \"col\": \"84.5%\"}, {\"0\": 0.6937560496214319, \"1\": -0.4498374245876996, \"smoothness\": 0.41379310344827586, \"n_train\": 3600, \"sampling\": \"active\", \"noise_model\": \"CKL\", \"seed\": null, \"dataset\": \"human\", \"acc\": 0.845, \"n\": 30, \"col\": \"84.5%\"}, {\"0\": 0.6726717131550672, \"1\": -0.5243832162936461, \"smoothness\": 0.4482758620689655, \"n_train\": 3600, \"sampling\": \"active\", \"noise_model\": \"CKL\", \"seed\": null, \"dataset\": \"human\", \"acc\": 0.845, \"n\": 30, \"col\": \"84.5%\"}, {\"0\": 0.6425108312959591, \"1\": -0.5859981772607082, \"smoothness\": 0.48275862068965514, \"n_train\": 3600, \"sampling\": \"active\", \"noise_model\": \"CKL\", \"seed\": null, \"dataset\": \"human\", \"acc\": 0.845, \"n\": 30, \"col\": \"84.5%\"}, {\"0\": 0.4977548137600172, \"1\": -0.7449656261126174, \"smoothness\": 0.5172413793103449, \"n_train\": 3600, \"sampling\": \"active\", \"noise_model\": \"CKL\", \"seed\": null, \"dataset\": \"human\", \"acc\": 0.845, \"n\": 30, \"col\": \"84.5%\"}, {\"0\": 0.46431039731120327, \"1\": -0.678030124727137, \"smoothness\": 0.5517241379310345, \"n_train\": 3600, \"sampling\": \"active\", \"noise_model\": \"CKL\", \"seed\": null, \"dataset\": \"human\", \"acc\": 0.845, \"n\": 30, \"col\": \"84.5%\"}, {\"0\": 0.15589601825582955, \"1\": -1.0, \"smoothness\": 0.5862068965517241, \"n_train\": 3600, \"sampling\": \"active\", \"noise_model\": \"CKL\", \"seed\": null, \"dataset\": \"human\", \"acc\": 0.845, \"n\": 30, \"col\": \"84.5%\"}, {\"0\": 0.0969365930453967, \"1\": -0.7726758231439737, \"smoothness\": 0.6206896551724138, \"n_train\": 3600, \"sampling\": \"active\", \"noise_model\": \"CKL\", \"seed\": null, \"dataset\": \"human\", \"acc\": 0.845, \"n\": 30, \"col\": \"84.5%\"}, {\"0\": 0.1042749721613585, \"1\": -0.693811786346417, \"smoothness\": 0.6551724137931034, \"n_train\": 3600, \"sampling\": \"active\", \"noise_model\": \"CKL\", \"seed\": null, \"dataset\": \"human\", \"acc\": 0.845, \"n\": 30, \"col\": \"84.5%\"}, {\"0\": -0.4767287197873171, \"1\": -0.7845505549242705, \"smoothness\": 0.6896551724137931, \"n_train\": 3600, \"sampling\": \"active\", \"noise_model\": \"CKL\", \"seed\": null, \"dataset\": \"human\", \"acc\": 0.845, \"n\": 30, \"col\": \"84.5%\"}, {\"0\": -0.43122830259451095, \"1\": -0.7667143807428006, \"smoothness\": 0.7241379310344828, \"n_train\": 3600, \"sampling\": \"active\", \"noise_model\": \"CKL\", \"seed\": null, \"dataset\": \"human\", \"acc\": 0.845, \"n\": 30, \"col\": \"84.5%\"}, {\"0\": -0.42626055665556484, \"1\": -0.6608603294079448, \"smoothness\": 0.7586206896551724, \"n_train\": 3600, \"sampling\": \"active\", \"noise_model\": \"CKL\", \"seed\": null, \"dataset\": \"human\", \"acc\": 0.845, \"n\": 30, \"col\": \"84.5%\"}, {\"0\": -0.44123695590460155, \"1\": -0.6072569748915402, \"smoothness\": 0.7931034482758621, \"n_train\": 3600, \"sampling\": \"active\", \"noise_model\": \"CKL\", \"seed\": null, \"dataset\": \"human\", \"acc\": 0.845, \"n\": 30, \"col\": \"84.5%\"}, {\"0\": -0.5110788265570787, \"1\": -0.5511101335283302, \"smoothness\": 0.8275862068965517, \"n_train\": 3600, \"sampling\": \"active\", \"noise_model\": \"CKL\", \"seed\": null, \"dataset\": \"human\", \"acc\": 0.845, \"n\": 30, \"col\": \"84.5%\"}, {\"0\": -0.5662511459976121, \"1\": -0.4744096169250207, \"smoothness\": 0.8620689655172413, \"n_train\": 3600, \"sampling\": \"active\", \"noise_model\": \"CKL\", \"seed\": null, \"dataset\": \"human\", \"acc\": 0.845, \"n\": 30, \"col\": \"84.5%\"}, {\"0\": -0.6567203710450765, \"1\": -0.35862815676226156, \"smoothness\": 0.896551724137931, \"n_train\": 3600, \"sampling\": \"active\", \"noise_model\": \"CKL\", \"seed\": null, \"dataset\": \"human\", \"acc\": 0.845, \"n\": 30, \"col\": \"84.5%\"}, {\"0\": -0.7768781534784173, \"1\": -0.23646858315039276, \"smoothness\": 0.9310344827586207, \"n_train\": 3600, \"sampling\": \"active\", \"noise_model\": \"CKL\", \"seed\": null, \"dataset\": \"human\", \"acc\": 0.845, \"n\": 30, \"col\": \"84.5%\"}, {\"0\": -0.8088432496770686, \"1\": -0.3071114004441674, \"smoothness\": 0.9655172413793103, \"n_train\": 3600, \"sampling\": \"active\", \"noise_model\": \"CKL\", \"seed\": null, \"dataset\": \"human\", \"acc\": 0.845, \"n\": 30, \"col\": \"84.5%\"}, {\"0\": -1.0, \"1\": -0.2936174495938587, \"smoothness\": 1.0, \"n_train\": 3600, \"sampling\": \"active\", \"noise_model\": \"CKL\", \"seed\": null, \"dataset\": \"human\", \"acc\": 0.845, \"n\": 30, \"col\": \"84.5%\"}]}}, {\"mode\": \"vega-lite\"});\n",
       "</script>"
      ],
      "text/plain": [
       "alt.HConcatChart(...)"
      ]
     },
     "execution_count": 35,
     "metadata": {},
     "output_type": "execute_result"
    }
   ],
   "source": [
    "import altair as alt\n",
    "\n",
    "def get_plot(df, w=150, title=\"\", color=False):\n",
    "    encodings = dict(\n",
    "        x=alt.X(\"0\", axis=alt.Axis(labels=True), title=\"x\"),\n",
    "        y=alt.Y(\"1\", axis=alt.Axis(labels=True), title=\"y\"),\n",
    "    )\n",
    "    if color:\n",
    "        encodings[\"color\"] =  alt.Color(\n",
    "            \"smoothness\", scale=alt.Scale(scheme=\"turbo\"), title=\"Smoothness\"\n",
    "        )\n",
    "    c = alt.Chart(df).mark_circle(size=100, line=True, opacity=0.9).encode(**encodings).properties(\n",
    "        width=w,\n",
    "        height=w,\n",
    "        title=title,\n",
    "    )\n",
    "#         color=alt.Color(\"smoothness\", scale=alt.Scale(scheme=\"viridis\"), title=\"Smoothness\"),\n",
    "#         color=alt.Color(\"smoothness\", scale=alt.Scale(scheme=\"cividis\"), title=\"Smoothness\"),\n",
    "#         color=alt.Color(\"smoothness\", scale=alt.Scale(scheme=\"redyellowblue\"), title=\"Smoothness\"),  # dark background good\n",
    "#         color=alt.Color(\"smoothness\", scale=alt.Scale(scheme=\"lightmulti\"), title=\"Smoothness\"),\n",
    "    return c#.interactive()\n",
    "\n",
    "color = False\n",
    "c1 = get_plot(df[df.acc == accs[0]], title=f\"Test Accuracy: {accs[0]*100:0.1f}%\", color=color)\n",
    "c2 = get_plot(df[df.acc == accs[1]], title=f\"Test Accuracy: {accs[1]*100:0.1f}%\", color=color)\n",
    "c3 = get_plot(df[df.acc == accs[2]], title=f\"Test Accuracy: {accs[2]*100:0.1f}%\", color=color)\n",
    "# c4 = get_plot(df[df.acc == accs[3]], title=f\"Test Accuracy: {accs[3]*100}%\")\n",
    "c = (c1 | c2) | (c3)# | c4)\n",
    "c\n",
    "# c.properties(background=\"#000\")"
   ]
  },
  {
   "cell_type": "code",
   "execution_count": null,
   "metadata": {},
   "outputs": [],
   "source": []
  },
  {
   "cell_type": "code",
   "execution_count": null,
   "metadata": {},
   "outputs": [],
   "source": []
  }
 ],
 "metadata": {
  "kernelspec": {
   "display_name": "Python 3",
   "language": "python",
   "name": "python3"
  },
  "language_info": {
   "codemirror_mode": {
    "name": "ipython",
    "version": 3
   },
   "file_extension": ".py",
   "mimetype": "text/x-python",
   "name": "python",
   "nbconvert_exporter": "python",
   "pygments_lexer": "ipython3",
   "version": "3.7.4"
  }
 },
 "nbformat": 4,
 "nbformat_minor": 4
}
